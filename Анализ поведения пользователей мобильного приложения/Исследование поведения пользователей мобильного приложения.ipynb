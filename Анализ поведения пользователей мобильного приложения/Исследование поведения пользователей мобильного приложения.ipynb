{
 "cells": [
  {
   "cell_type": "markdown",
   "metadata": {},
   "source": [
    "# Аналитика поведения пользователей мобильного приложения для покупки продуктов питания\n",
    "\n",
    "- Изучим воронку продаж. \n",
    "- Исследуем результаты A/A/B-эксперимента. "
   ]
  },
  {
   "cell_type": "markdown",
   "metadata": {},
   "source": [
    "### План:\n",
    "1. Загрузим и изучим данные разными методами, чтобы проверить пропуски, типы данных и познакомиться с самими данными, которые доступны для исследования. Предобработаем данные при необходимости.\n",
    "\n",
    "\n",
    "2. Проанализируем данные:\n",
    "    - Сколько всего событий в логе.\n",
    "    - Сколько всего пользователей в логе.\n",
    "    - Сколько в среднем событий приходится на пользователя.\n",
    "    - Определим, данными за какой период мы располагаем.\n",
    "    - Определим, с какого момента мы имеем полные данные за весь период, и отбросим более старые.\n",
    "    - Проверим, что у нас есть пользователи из всех трёх экспериментальных групп.\n",
    "\n",
    "\n",
    "3. Изучим воронку событий:\n",
    "    - Посмотрим, какие события есть в логах, как часто они встречаются.\n",
    "    - Посчитаем, сколько пользователей совершали каждое из этих событий.\n",
    "    - Попробуем понять, в каком порядке происходят события.\n",
    "    - По воронке событий посчитаем, какая доля пользователей проходит на следующий шаг воронки.\n",
    "    - Определим, на каком шаге теряем больше всего пользователей.\n",
    "    - Узнаем, какая доля пользователей доходит от первого события до оплаты.\n",
    "\n",
    "\n",
    "4. Изучим результаты эксперимента:\n",
    "    - Сколько пользователей в каждой экспериментальной группе.\n",
    "    - Проверим, находят ли статистические критерии разницу между выборками из 2-х контрольных групп для А/А-эксперимента.\n",
    "    - Аналогично поступим с группой с изменённым шрифтом. Сравним результаты с каждой из контрольных групп в отдельности по каждому событию. Сравним результаты с объединённой контрольной группой.\n",
    "\n",
    "\n",
    "5. Сформируем выводы."
   ]
  },
  {
   "cell_type": "markdown",
   "metadata": {},
   "source": [
    "<a name=\"researchdata\"></a>\n",
    "\n",
    "## Шаг 1. Откроем файлы с данными и изучим общую информацию, предобработаем данные"
   ]
  },
  {
   "cell_type": "markdown",
   "metadata": {},
   "source": [
    "Импортируем библиотеки:"
   ]
  },
  {
   "cell_type": "code",
   "execution_count": 50,
   "metadata": {},
   "outputs": [],
   "source": [
    "import pandas as pd\n",
    "import datetime as dt\n",
    "import matplotlib.pyplot as plt\n",
    "import seaborn as sns\n",
    "import numpy as np\n",
    "from scipy import stats as st\n",
    "import math as mth\n",
    "\n",
    "import warnings\n",
    "warnings.filterwarnings(\"ignore\")"
   ]
  },
  {
   "cell_type": "markdown",
   "metadata": {},
   "source": [
    "Загружаем файл с данными о поведении пользователей нашего мобильного приложения (дополнительно добавлен разделитель для данных sep):"
   ]
  },
  {
   "cell_type": "code",
   "execution_count": 51,
   "metadata": {},
   "outputs": [],
   "source": [
    "logs = pd.read_csv('/datasets/logs_exp.csv', sep='\\t')"
   ]
  },
  {
   "cell_type": "markdown",
   "metadata": {},
   "source": [
    "**Посмотрим на сам датасет**"
   ]
  },
  {
   "cell_type": "code",
   "execution_count": 52,
   "metadata": {},
   "outputs": [
    {
     "data": {
      "text/html": [
       "<div>\n",
       "<style scoped>\n",
       "    .dataframe tbody tr th:only-of-type {\n",
       "        vertical-align: middle;\n",
       "    }\n",
       "\n",
       "    .dataframe tbody tr th {\n",
       "        vertical-align: top;\n",
       "    }\n",
       "\n",
       "    .dataframe thead th {\n",
       "        text-align: right;\n",
       "    }\n",
       "</style>\n",
       "<table border=\"1\" class=\"dataframe\">\n",
       "  <thead>\n",
       "    <tr style=\"text-align: right;\">\n",
       "      <th></th>\n",
       "      <th>EventName</th>\n",
       "      <th>DeviceIDHash</th>\n",
       "      <th>EventTimestamp</th>\n",
       "      <th>ExpId</th>\n",
       "    </tr>\n",
       "  </thead>\n",
       "  <tbody>\n",
       "    <tr>\n",
       "      <td>0</td>\n",
       "      <td>MainScreenAppear</td>\n",
       "      <td>4575588528974610257</td>\n",
       "      <td>1564029816</td>\n",
       "      <td>246</td>\n",
       "    </tr>\n",
       "    <tr>\n",
       "      <td>1</td>\n",
       "      <td>MainScreenAppear</td>\n",
       "      <td>7416695313311560658</td>\n",
       "      <td>1564053102</td>\n",
       "      <td>246</td>\n",
       "    </tr>\n",
       "    <tr>\n",
       "      <td>2</td>\n",
       "      <td>PaymentScreenSuccessful</td>\n",
       "      <td>3518123091307005509</td>\n",
       "      <td>1564054127</td>\n",
       "      <td>248</td>\n",
       "    </tr>\n",
       "    <tr>\n",
       "      <td>3</td>\n",
       "      <td>CartScreenAppear</td>\n",
       "      <td>3518123091307005509</td>\n",
       "      <td>1564054127</td>\n",
       "      <td>248</td>\n",
       "    </tr>\n",
       "    <tr>\n",
       "      <td>4</td>\n",
       "      <td>PaymentScreenSuccessful</td>\n",
       "      <td>6217807653094995999</td>\n",
       "      <td>1564055322</td>\n",
       "      <td>248</td>\n",
       "    </tr>\n",
       "  </tbody>\n",
       "</table>\n",
       "</div>"
      ],
      "text/plain": [
       "                 EventName         DeviceIDHash  EventTimestamp  ExpId\n",
       "0         MainScreenAppear  4575588528974610257      1564029816    246\n",
       "1         MainScreenAppear  7416695313311560658      1564053102    246\n",
       "2  PaymentScreenSuccessful  3518123091307005509      1564054127    248\n",
       "3         CartScreenAppear  3518123091307005509      1564054127    248\n",
       "4  PaymentScreenSuccessful  6217807653094995999      1564055322    248"
      ]
     },
     "execution_count": 52,
     "metadata": {},
     "output_type": "execute_result"
    }
   ],
   "source": [
    "logs.head()"
   ]
  },
  {
   "cell_type": "markdown",
   "metadata": {},
   "source": [
    "**Посмотрим на общую информацию по датасету**"
   ]
  },
  {
   "cell_type": "code",
   "execution_count": 53,
   "metadata": {},
   "outputs": [
    {
     "name": "stdout",
     "output_type": "stream",
     "text": [
      "<class 'pandas.core.frame.DataFrame'>\n",
      "RangeIndex: 244126 entries, 0 to 244125\n",
      "Data columns (total 4 columns):\n",
      "EventName         244126 non-null object\n",
      "DeviceIDHash      244126 non-null int64\n",
      "EventTimestamp    244126 non-null int64\n",
      "ExpId             244126 non-null int64\n",
      "dtypes: int64(3), object(1)\n",
      "memory usage: 7.5+ MB\n"
     ]
    }
   ],
   "source": [
    "logs.info()"
   ]
  },
  {
   "cell_type": "markdown",
   "metadata": {},
   "source": [
    "**Проверим дубликаты**"
   ]
  },
  {
   "cell_type": "code",
   "execution_count": 54,
   "metadata": {},
   "outputs": [
    {
     "data": {
      "text/plain": [
       "413"
      ]
     },
     "execution_count": 54,
     "metadata": {},
     "output_type": "execute_result"
    }
   ],
   "source": [
    "logs.duplicated().sum()"
   ]
  },
  {
   "cell_type": "markdown",
   "metadata": {},
   "source": [
    "Удалим дубли:"
   ]
  },
  {
   "cell_type": "code",
   "execution_count": 55,
   "metadata": {},
   "outputs": [],
   "source": [
    "logs = logs.drop_duplicates()"
   ]
  },
  {
   "cell_type": "markdown",
   "metadata": {},
   "source": [
    "### Вывод\n",
    "\n",
    "1. Пропусков в данных нет.\n",
    "\n",
    "2. Удалили 413 полных дубликатов.\n",
    "\n",
    "3. Стоит переименовать столбы для удобства работы с ними в дальнейшем.\n",
    "\n",
    "4. Необходимо разобраться со столбцом EventTimestamp, нам будут нужны даты и время событий."
   ]
  },
  {
   "cell_type": "markdown",
   "metadata": {},
   "source": [
    "**Переименуем столбцы**"
   ]
  },
  {
   "cell_type": "code",
   "execution_count": 56,
   "metadata": {},
   "outputs": [
    {
     "data": {
      "text/html": [
       "<div>\n",
       "<style scoped>\n",
       "    .dataframe tbody tr th:only-of-type {\n",
       "        vertical-align: middle;\n",
       "    }\n",
       "\n",
       "    .dataframe tbody tr th {\n",
       "        vertical-align: top;\n",
       "    }\n",
       "\n",
       "    .dataframe thead th {\n",
       "        text-align: right;\n",
       "    }\n",
       "</style>\n",
       "<table border=\"1\" class=\"dataframe\">\n",
       "  <thead>\n",
       "    <tr style=\"text-align: right;\">\n",
       "      <th></th>\n",
       "      <th>event_name</th>\n",
       "      <th>user_id</th>\n",
       "      <th>event_timestamp</th>\n",
       "      <th>group</th>\n",
       "    </tr>\n",
       "  </thead>\n",
       "  <tbody>\n",
       "    <tr>\n",
       "      <td>0</td>\n",
       "      <td>MainScreenAppear</td>\n",
       "      <td>4575588528974610257</td>\n",
       "      <td>1564029816</td>\n",
       "      <td>246</td>\n",
       "    </tr>\n",
       "    <tr>\n",
       "      <td>1</td>\n",
       "      <td>MainScreenAppear</td>\n",
       "      <td>7416695313311560658</td>\n",
       "      <td>1564053102</td>\n",
       "      <td>246</td>\n",
       "    </tr>\n",
       "    <tr>\n",
       "      <td>2</td>\n",
       "      <td>PaymentScreenSuccessful</td>\n",
       "      <td>3518123091307005509</td>\n",
       "      <td>1564054127</td>\n",
       "      <td>248</td>\n",
       "    </tr>\n",
       "    <tr>\n",
       "      <td>3</td>\n",
       "      <td>CartScreenAppear</td>\n",
       "      <td>3518123091307005509</td>\n",
       "      <td>1564054127</td>\n",
       "      <td>248</td>\n",
       "    </tr>\n",
       "    <tr>\n",
       "      <td>4</td>\n",
       "      <td>PaymentScreenSuccessful</td>\n",
       "      <td>6217807653094995999</td>\n",
       "      <td>1564055322</td>\n",
       "      <td>248</td>\n",
       "    </tr>\n",
       "  </tbody>\n",
       "</table>\n",
       "</div>"
      ],
      "text/plain": [
       "                event_name              user_id  event_timestamp  group\n",
       "0         MainScreenAppear  4575588528974610257       1564029816    246\n",
       "1         MainScreenAppear  7416695313311560658       1564053102    246\n",
       "2  PaymentScreenSuccessful  3518123091307005509       1564054127    248\n",
       "3         CartScreenAppear  3518123091307005509       1564054127    248\n",
       "4  PaymentScreenSuccessful  6217807653094995999       1564055322    248"
      ]
     },
     "execution_count": 56,
     "metadata": {},
     "output_type": "execute_result"
    }
   ],
   "source": [
    "logs = logs.rename(columns={'EventName': 'event_name',\n",
    "                            'DeviceIDHash': 'user_id',\n",
    "                            'EventTimestamp': 'event_timestamp',\n",
    "                            'ExpId': 'group'})\n",
    "\n",
    "logs.head()"
   ]
  },
  {
   "cell_type": "markdown",
   "metadata": {},
   "source": [
    "**Разберёмся с данными о времени события**"
   ]
  },
  {
   "cell_type": "markdown",
   "metadata": {},
   "source": [
    "Добавим столбец даты и времени. Для этого переведём данные из столбца event_timestamp в тип данных datetime и сохраним в отдельный столбец:"
   ]
  },
  {
   "cell_type": "code",
   "execution_count": 57,
   "metadata": {},
   "outputs": [
    {
     "data": {
      "text/html": [
       "<div>\n",
       "<style scoped>\n",
       "    .dataframe tbody tr th:only-of-type {\n",
       "        vertical-align: middle;\n",
       "    }\n",
       "\n",
       "    .dataframe tbody tr th {\n",
       "        vertical-align: top;\n",
       "    }\n",
       "\n",
       "    .dataframe thead th {\n",
       "        text-align: right;\n",
       "    }\n",
       "</style>\n",
       "<table border=\"1\" class=\"dataframe\">\n",
       "  <thead>\n",
       "    <tr style=\"text-align: right;\">\n",
       "      <th></th>\n",
       "      <th>event_name</th>\n",
       "      <th>user_id</th>\n",
       "      <th>event_timestamp</th>\n",
       "      <th>group</th>\n",
       "      <th>event_datetime</th>\n",
       "    </tr>\n",
       "  </thead>\n",
       "  <tbody>\n",
       "    <tr>\n",
       "      <td>0</td>\n",
       "      <td>MainScreenAppear</td>\n",
       "      <td>4575588528974610257</td>\n",
       "      <td>1564029816</td>\n",
       "      <td>246</td>\n",
       "      <td>2019-07-25 04:43:36</td>\n",
       "    </tr>\n",
       "    <tr>\n",
       "      <td>1</td>\n",
       "      <td>MainScreenAppear</td>\n",
       "      <td>7416695313311560658</td>\n",
       "      <td>1564053102</td>\n",
       "      <td>246</td>\n",
       "      <td>2019-07-25 11:11:42</td>\n",
       "    </tr>\n",
       "    <tr>\n",
       "      <td>2</td>\n",
       "      <td>PaymentScreenSuccessful</td>\n",
       "      <td>3518123091307005509</td>\n",
       "      <td>1564054127</td>\n",
       "      <td>248</td>\n",
       "      <td>2019-07-25 11:28:47</td>\n",
       "    </tr>\n",
       "    <tr>\n",
       "      <td>3</td>\n",
       "      <td>CartScreenAppear</td>\n",
       "      <td>3518123091307005509</td>\n",
       "      <td>1564054127</td>\n",
       "      <td>248</td>\n",
       "      <td>2019-07-25 11:28:47</td>\n",
       "    </tr>\n",
       "    <tr>\n",
       "      <td>4</td>\n",
       "      <td>PaymentScreenSuccessful</td>\n",
       "      <td>6217807653094995999</td>\n",
       "      <td>1564055322</td>\n",
       "      <td>248</td>\n",
       "      <td>2019-07-25 11:48:42</td>\n",
       "    </tr>\n",
       "  </tbody>\n",
       "</table>\n",
       "</div>"
      ],
      "text/plain": [
       "                event_name              user_id  event_timestamp  group  \\\n",
       "0         MainScreenAppear  4575588528974610257       1564029816    246   \n",
       "1         MainScreenAppear  7416695313311560658       1564053102    246   \n",
       "2  PaymentScreenSuccessful  3518123091307005509       1564054127    248   \n",
       "3         CartScreenAppear  3518123091307005509       1564054127    248   \n",
       "4  PaymentScreenSuccessful  6217807653094995999       1564055322    248   \n",
       "\n",
       "       event_datetime  \n",
       "0 2019-07-25 04:43:36  \n",
       "1 2019-07-25 11:11:42  \n",
       "2 2019-07-25 11:28:47  \n",
       "3 2019-07-25 11:28:47  \n",
       "4 2019-07-25 11:48:42  "
      ]
     },
     "metadata": {},
     "output_type": "display_data"
    }
   ],
   "source": [
    "logs['event_datetime'] = pd.to_datetime(logs['event_timestamp'], unit='s')\n",
    "\n",
    "# проверяем\n",
    "display(logs.head())"
   ]
  },
  {
   "cell_type": "markdown",
   "metadata": {},
   "source": [
    "Также добавим отдельный столбец дат:"
   ]
  },
  {
   "cell_type": "code",
   "execution_count": 58,
   "metadata": {},
   "outputs": [
    {
     "data": {
      "text/plain": [
       "0    2019-07-25\n",
       "1    2019-07-25\n",
       "2    2019-07-25\n",
       "3    2019-07-25\n",
       "4    2019-07-25\n",
       "Name: event_date, dtype: object"
      ]
     },
     "execution_count": 58,
     "metadata": {},
     "output_type": "execute_result"
    }
   ],
   "source": [
    "logs['event_date'] = pd.to_datetime(logs['event_datetime']).dt.date\n",
    "\n",
    "# проверям\n",
    "logs['event_date'].head()"
   ]
  },
  {
   "cell_type": "markdown",
   "metadata": {},
   "source": [
    "Видим, что у столбца event_date тип данных object. Поменяем его на datetime64:"
   ]
  },
  {
   "cell_type": "code",
   "execution_count": 59,
   "metadata": {},
   "outputs": [
    {
     "data": {
      "text/plain": [
       "dtype('<M8[ns]')"
      ]
     },
     "execution_count": 59,
     "metadata": {},
     "output_type": "execute_result"
    }
   ],
   "source": [
    "logs['event_date'] = logs['event_date'].apply(pd.to_datetime, format='%Y-%m-%d')\n",
    "\n",
    "# проверям\n",
    "logs['event_date'].dtypes"
   ]
  },
  {
   "cell_type": "markdown",
   "metadata": {},
   "source": [
    "<a name=\"analysis\"></a>\n",
    "\n",
    "## Шаг 2. Изучим и проверим данные\n",
    "\n",
    "1. Сколько всего событий в логе.\n",
    "1. Сколько всего пользователей в логе.\n",
    "1. Сколько в среднем событий приходится на пользователя.\n",
    "1. Определим, данными за какой период мы располагаем:\n",
    "    - найдём максимальную и минимальную дату,\n",
    "    - построим гистограмму по дате и времени.\n",
    "1. Определим, с какого момента мы имеем полные данные за весь период и отбросим более старые (сколько событий и пользователей мы потеряли, отбросив старые данные).\n",
    "1. Проверим, что у нас есть пользователи из всех трёх экспериментальных групп."
   ]
  },
  {
   "cell_type": "markdown",
   "metadata": {},
   "source": [
    "<a name=\"eventscount\"></a>\n",
    "\n",
    "**1. Посчитаем, сколько всего событий в логе**"
   ]
  },
  {
   "cell_type": "code",
   "execution_count": 60,
   "metadata": {},
   "outputs": [
    {
     "name": "stdout",
     "output_type": "stream",
     "text": [
      "Всего событий в логе: 5\n",
      "\n",
      "['MainScreenAppear' 'PaymentScreenSuccessful' 'CartScreenAppear'\n",
      " 'OffersScreenAppear' 'Tutorial']\n"
     ]
    }
   ],
   "source": [
    "events_unique = logs['event_name'].nunique()\n",
    "\n",
    "print('Всего событий в логе: {}'.format(events_unique))\n",
    "print()\n",
    "\n",
    "# посмотрим на сами события\n",
    "print(logs['event_name'].unique())"
   ]
  },
  {
   "cell_type": "markdown",
   "metadata": {},
   "source": [
    "***Выводы***\n",
    "\n",
    "Всего у нас выделено пять событий:\n",
    "- MainScreenAppear - пользователь зашёл на главную страницу\n",
    "- Tutorial - пользователь посмотрел туториал\n",
    "- OffersScreenAppear - пользователь перешёл на страницу товара\n",
    "- CartScreenAppear - пользователь добавил товар в корзину\n",
    "- PaymentScreenSuccessful - пользователь оплатил заказ"
   ]
  },
  {
   "cell_type": "markdown",
   "metadata": {},
   "source": [
    "<a name=\"userscount\"></a>\n",
    "\n",
    "**2. Посчитаем, сколько всего пользователей в логе**"
   ]
  },
  {
   "cell_type": "code",
   "execution_count": 61,
   "metadata": {},
   "outputs": [
    {
     "name": "stdout",
     "output_type": "stream",
     "text": [
      "Всего пользователей в логе: 7551\n"
     ]
    }
   ],
   "source": [
    "users_unique = logs['user_id'].nunique()\n",
    "\n",
    "print('Всего пользователей в логе: {}'.format(users_unique))"
   ]
  },
  {
   "cell_type": "markdown",
   "metadata": {},
   "source": [
    "<a name=\"avgeventsperuser\"></a>\n",
    "\n",
    "**3. Посчитаем, сколько в среднем событий приходится на пользователя**"
   ]
  },
  {
   "cell_type": "markdown",
   "metadata": {},
   "source": [
    "Сгруппируем данные по пользователям, посчитаем общее количество событий на каждого и найдём среднее:"
   ]
  },
  {
   "cell_type": "code",
   "execution_count": 62,
   "metadata": {},
   "outputs": [
    {
     "data": {
      "text/plain": [
       "32.0"
      ]
     },
     "execution_count": 62,
     "metadata": {},
     "output_type": "execute_result"
    }
   ],
   "source": [
    "logs.groupby('user_id')['event_name'].count().mean().round()"
   ]
  },
  {
   "cell_type": "markdown",
   "metadata": {},
   "source": [
    "***Выводы***\n",
    "\n",
    "В среднем на одного пользователя приходится по 32 события."
   ]
  },
  {
   "cell_type": "markdown",
   "metadata": {},
   "source": [
    "<a name=\"dataperiod\"></a>\n",
    "\n",
    "**4. Определим, данными за какой период мы располагаем**"
   ]
  },
  {
   "cell_type": "markdown",
   "metadata": {},
   "source": [
    "Найдём максимальную и минимальную даты:"
   ]
  },
  {
   "cell_type": "code",
   "execution_count": 63,
   "metadata": {},
   "outputs": [
    {
     "name": "stdout",
     "output_type": "stream",
     "text": [
      "2019-08-07 00:00:00\n",
      "2019-07-25 00:00:00\n"
     ]
    }
   ],
   "source": [
    "print(logs['event_date'].max())\n",
    "print(logs['event_date'].min())"
   ]
  },
  {
   "cell_type": "markdown",
   "metadata": {
    "scrolled": true
   },
   "source": [
    "Построим гистограмму по дате и времени:"
   ]
  },
  {
   "cell_type": "code",
   "execution_count": 64,
   "metadata": {},
   "outputs": [
    {
     "data": {
      "image/png": "[encoded data removed]",
      "text/plain": [
       "<Figure size 1296x360 with 1 Axes>"
      ]
     },
     "metadata": {
      "needs_background": "light"
     },
     "output_type": "display_data"
    }
   ],
   "source": [
    "logs['event_datetime'].hist(grid=True, bins=14, figsize=(18, 5))\n",
    "plt.title('Распределение событий по времени', pad = 20)\n",
    "plt.xlabel('Время события', labelpad = 15)\n",
    "plt.ylabel('Количество событий', labelpad = 15)\n",
    "plt.show();"
   ]
  },
  {
   "cell_type": "markdown",
   "metadata": {},
   "source": [
    "<a name=\"fulldataperiod\"></a>\n",
    "\n",
    "**5. Определим, с какого момента мы имеем полные данные за весь период, и отбросим более старые**"
   ]
  },
  {
   "cell_type": "markdown",
   "metadata": {},
   "source": [
    "Судя по гистограмме из прошлого шага, основные события происходили с первого по седьмое августа. До 01.08.2019 событий совсем мало.\n",
    "\n",
    "Оставим в датасете только данные, начиная с 1 августа, сохраним их в отдельную таблицу:"
   ]
  },
  {
   "cell_type": "code",
   "execution_count": 65,
   "metadata": {},
   "outputs": [
    {
     "data": {
      "text/html": [
       "<div>\n",
       "<style scoped>\n",
       "    .dataframe tbody tr th:only-of-type {\n",
       "        vertical-align: middle;\n",
       "    }\n",
       "\n",
       "    .dataframe tbody tr th {\n",
       "        vertical-align: top;\n",
       "    }\n",
       "\n",
       "    .dataframe thead th {\n",
       "        text-align: right;\n",
       "    }\n",
       "</style>\n",
       "<table border=\"1\" class=\"dataframe\">\n",
       "  <thead>\n",
       "    <tr style=\"text-align: right;\">\n",
       "      <th></th>\n",
       "      <th>event_name</th>\n",
       "      <th>user_id</th>\n",
       "      <th>event_timestamp</th>\n",
       "      <th>group</th>\n",
       "      <th>event_datetime</th>\n",
       "      <th>event_date</th>\n",
       "    </tr>\n",
       "  </thead>\n",
       "  <tbody>\n",
       "    <tr>\n",
       "      <td>2828</td>\n",
       "      <td>Tutorial</td>\n",
       "      <td>3737462046622621720</td>\n",
       "      <td>1564618048</td>\n",
       "      <td>246</td>\n",
       "      <td>2019-08-01 00:07:28</td>\n",
       "      <td>2019-08-01</td>\n",
       "    </tr>\n",
       "    <tr>\n",
       "      <td>2829</td>\n",
       "      <td>MainScreenAppear</td>\n",
       "      <td>3737462046622621720</td>\n",
       "      <td>1564618080</td>\n",
       "      <td>246</td>\n",
       "      <td>2019-08-01 00:08:00</td>\n",
       "      <td>2019-08-01</td>\n",
       "    </tr>\n",
       "    <tr>\n",
       "      <td>2830</td>\n",
       "      <td>MainScreenAppear</td>\n",
       "      <td>3737462046622621720</td>\n",
       "      <td>1564618135</td>\n",
       "      <td>246</td>\n",
       "      <td>2019-08-01 00:08:55</td>\n",
       "      <td>2019-08-01</td>\n",
       "    </tr>\n",
       "    <tr>\n",
       "      <td>2831</td>\n",
       "      <td>OffersScreenAppear</td>\n",
       "      <td>3737462046622621720</td>\n",
       "      <td>1564618138</td>\n",
       "      <td>246</td>\n",
       "      <td>2019-08-01 00:08:58</td>\n",
       "      <td>2019-08-01</td>\n",
       "    </tr>\n",
       "    <tr>\n",
       "      <td>2832</td>\n",
       "      <td>MainScreenAppear</td>\n",
       "      <td>1433840883824088890</td>\n",
       "      <td>1564618139</td>\n",
       "      <td>247</td>\n",
       "      <td>2019-08-01 00:08:59</td>\n",
       "      <td>2019-08-01</td>\n",
       "    </tr>\n",
       "  </tbody>\n",
       "</table>\n",
       "</div>"
      ],
      "text/plain": [
       "              event_name              user_id  event_timestamp  group  \\\n",
       "2828            Tutorial  3737462046622621720       1564618048    246   \n",
       "2829    MainScreenAppear  3737462046622621720       1564618080    246   \n",
       "2830    MainScreenAppear  3737462046622621720       1564618135    246   \n",
       "2831  OffersScreenAppear  3737462046622621720       1564618138    246   \n",
       "2832    MainScreenAppear  1433840883824088890       1564618139    247   \n",
       "\n",
       "          event_datetime event_date  \n",
       "2828 2019-08-01 00:07:28 2019-08-01  \n",
       "2829 2019-08-01 00:08:00 2019-08-01  \n",
       "2830 2019-08-01 00:08:55 2019-08-01  \n",
       "2831 2019-08-01 00:08:58 2019-08-01  \n",
       "2832 2019-08-01 00:08:59 2019-08-01  "
      ]
     },
     "execution_count": 65,
     "metadata": {},
     "output_type": "execute_result"
    }
   ],
   "source": [
    "logs_actual = logs[logs['event_date'] >= '2019-08-01']\n",
    "\n",
    "# проверяем\n",
    "logs_actual.head()"
   ]
  },
  {
   "cell_type": "markdown",
   "metadata": {},
   "source": [
    "Посчитаем, сколько событий и пользователей мы потеряли, отбросив старые данные:"
   ]
  },
  {
   "cell_type": "code",
   "execution_count": 66,
   "metadata": {},
   "outputs": [
    {
     "name": "stdout",
     "output_type": "stream",
     "text": [
      "Сколько всего событий мы потеряли: 2826\n",
      "Какой процент старых данных мы отрезали: 1.159560630741897\n"
     ]
    }
   ],
   "source": [
    "print('Сколько всего событий мы потеряли:', len(logs) - len(logs_actual))\n",
    "print('Какой процент старых данных мы отрезали:', ((len(logs) - len(logs_actual)) / len(logs)) * 100)"
   ]
  },
  {
   "cell_type": "code",
   "execution_count": 67,
   "metadata": {},
   "outputs": [
    {
     "name": "stdout",
     "output_type": "stream",
     "text": [
      "Сколько уникальных пользователей мы потеряли: 17\n",
      "Какую долю уникальных пользователей мы отрезали: 0.22513574361011784\n"
     ]
    }
   ],
   "source": [
    "print('Сколько уникальных пользователей мы потеряли:', logs['user_id'].nunique() - logs_actual['user_id'].nunique())\n",
    "print('Какую долю уникальных пользователей мы отрезали:', ((logs['user_id'].nunique() - logs_actual['user_id'].nunique()) \n",
    "                                                           / logs['user_id'].nunique()) * 100)"
   ]
  },
  {
   "cell_type": "markdown",
   "metadata": {},
   "source": [
    "***Выводы***\n",
    "\n",
    "Основные события происходили с первого по седьмое августа, поэтому мы отфильтровали наш датасет по этим датам.\n",
    "\n",
    "Отрезав старые данные, мы удалили 2826 событий (примерно 1.16% от данных) и 17 пользователей (около 0.23%). Зато оставшиеся данные являются наиболее полными и информативными."
   ]
  },
  {
   "cell_type": "markdown",
   "metadata": {},
   "source": [
    "<a name=\"usersgroup\"></a>\n",
    "\n",
    "**6. Проверим, что у нас есть пользователи из всех трёх экспериментальных групп**"
   ]
  },
  {
   "cell_type": "markdown",
   "metadata": {},
   "source": [
    "Сгруппируем пользователей по группам экспериментов и посчитаем количество пользователей, совершивших события, в каждой группе:"
   ]
  },
  {
   "cell_type": "code",
   "execution_count": 68,
   "metadata": {},
   "outputs": [
    {
     "data": {
      "text/plain": [
       "group\n",
       "246    2484\n",
       "247    2513\n",
       "248    2537\n",
       "Name: user_id, dtype: int64"
      ]
     },
     "execution_count": 68,
     "metadata": {},
     "output_type": "execute_result"
    }
   ],
   "source": [
    "logs_actual.groupby('group')['user_id'].nunique()"
   ]
  },
  {
   "cell_type": "markdown",
   "metadata": {},
   "source": [
    "***Выводы***\n",
    "\n",
    "У нас есть пользователи каждой группы эксперимента. "
   ]
  },
  {
   "cell_type": "markdown",
   "metadata": {},
   "source": [
    "<a name=\"funnel\"></a>\n",
    "\n",
    "## Шаг 3. Изучим воронку событий\n",
    "\n",
    "1. Посмотрим, какие события есть в логах, как часто они встречаются.\n",
    "1. Посчитаем, сколько пользователей совершали каждое из этих событий. Посчитаем долю пользователей, которые хоть раз совершали событие.\n",
    "1. Попробуем понять, в каком порядке происходят события, все ли они выстраиваются в последовательную цепочку.\n",
    "1. По воронке событий посчитаем, какая доля пользователей проходит на следующий шаг воронки. \n",
    "1. Определим, на каком шаге теряем больше всего пользователей.\n",
    "1. Узнаем, какая доля пользователей доходит от первого события до оплаты."
   ]
  },
  {
   "cell_type": "markdown",
   "metadata": {},
   "source": [
    "<a name=\"eventslog\"></a>\n",
    "\n",
    "**1. Посмотрим, какие события есть в логах, как часто они встречаются, отсортируем их по частоте**"
   ]
  },
  {
   "cell_type": "code",
   "execution_count": 69,
   "metadata": {},
   "outputs": [
    {
     "data": {
      "text/html": [
       "<div>\n",
       "<style scoped>\n",
       "    .dataframe tbody tr th:only-of-type {\n",
       "        vertical-align: middle;\n",
       "    }\n",
       "\n",
       "    .dataframe tbody tr th {\n",
       "        vertical-align: top;\n",
       "    }\n",
       "\n",
       "    .dataframe thead th {\n",
       "        text-align: right;\n",
       "    }\n",
       "</style>\n",
       "<table border=\"1\" class=\"dataframe\">\n",
       "  <thead>\n",
       "    <tr style=\"text-align: right;\">\n",
       "      <th></th>\n",
       "      <th>event_name</th>\n",
       "      <th>event_count</th>\n",
       "    </tr>\n",
       "  </thead>\n",
       "  <tbody>\n",
       "    <tr>\n",
       "      <td>0</td>\n",
       "      <td>MainScreenAppear</td>\n",
       "      <td>117328</td>\n",
       "    </tr>\n",
       "    <tr>\n",
       "      <td>1</td>\n",
       "      <td>OffersScreenAppear</td>\n",
       "      <td>46333</td>\n",
       "    </tr>\n",
       "    <tr>\n",
       "      <td>2</td>\n",
       "      <td>CartScreenAppear</td>\n",
       "      <td>42303</td>\n",
       "    </tr>\n",
       "    <tr>\n",
       "      <td>3</td>\n",
       "      <td>PaymentScreenSuccessful</td>\n",
       "      <td>33918</td>\n",
       "    </tr>\n",
       "    <tr>\n",
       "      <td>4</td>\n",
       "      <td>Tutorial</td>\n",
       "      <td>1005</td>\n",
       "    </tr>\n",
       "  </tbody>\n",
       "</table>\n",
       "</div>"
      ],
      "text/plain": [
       "                event_name  event_count\n",
       "0         MainScreenAppear       117328\n",
       "1       OffersScreenAppear        46333\n",
       "2         CartScreenAppear        42303\n",
       "3  PaymentScreenSuccessful        33918\n",
       "4                 Tutorial         1005"
      ]
     },
     "execution_count": 69,
     "metadata": {},
     "output_type": "execute_result"
    }
   ],
   "source": [
    "event_count = logs_actual.groupby('event_name')['user_id'].count().sort_values(ascending=False).reset_index()\n",
    "event_count.columns = ['event_name', 'event_count']\n",
    "\n",
    "event_count"
   ]
  },
  {
   "cell_type": "markdown",
   "metadata": {},
   "source": [
    "***Выводы***\n",
    "\n",
    "На главный экран ожидаемо попадает больше всего пользователей, а вот до просмотра туториала доходит совсем мало."
   ]
  },
  {
   "cell_type": "markdown",
   "metadata": {},
   "source": [
    "<a name=\"userseventscount\"></a>\n",
    "\n",
    "**2. Посчитаем, сколько пользователей совершали каждое из этих событий, посчитаем их долю**"
   ]
  },
  {
   "cell_type": "markdown",
   "metadata": {},
   "source": [
    "Отсортируем события по числу пользователей:"
   ]
  },
  {
   "cell_type": "code",
   "execution_count": 70,
   "metadata": {},
   "outputs": [
    {
     "data": {
      "text/html": [
       "<div>\n",
       "<style scoped>\n",
       "    .dataframe tbody tr th:only-of-type {\n",
       "        vertical-align: middle;\n",
       "    }\n",
       "\n",
       "    .dataframe tbody tr th {\n",
       "        vertical-align: top;\n",
       "    }\n",
       "\n",
       "    .dataframe thead th {\n",
       "        text-align: right;\n",
       "    }\n",
       "</style>\n",
       "<table border=\"1\" class=\"dataframe\">\n",
       "  <thead>\n",
       "    <tr style=\"text-align: right;\">\n",
       "      <th></th>\n",
       "      <th>event_name</th>\n",
       "      <th>user_count</th>\n",
       "    </tr>\n",
       "  </thead>\n",
       "  <tbody>\n",
       "    <tr>\n",
       "      <td>0</td>\n",
       "      <td>MainScreenAppear</td>\n",
       "      <td>7419</td>\n",
       "    </tr>\n",
       "    <tr>\n",
       "      <td>1</td>\n",
       "      <td>OffersScreenAppear</td>\n",
       "      <td>4593</td>\n",
       "    </tr>\n",
       "    <tr>\n",
       "      <td>2</td>\n",
       "      <td>CartScreenAppear</td>\n",
       "      <td>3734</td>\n",
       "    </tr>\n",
       "    <tr>\n",
       "      <td>3</td>\n",
       "      <td>PaymentScreenSuccessful</td>\n",
       "      <td>3539</td>\n",
       "    </tr>\n",
       "    <tr>\n",
       "      <td>4</td>\n",
       "      <td>Tutorial</td>\n",
       "      <td>840</td>\n",
       "    </tr>\n",
       "  </tbody>\n",
       "</table>\n",
       "</div>"
      ],
      "text/plain": [
       "                event_name  user_count\n",
       "0         MainScreenAppear        7419\n",
       "1       OffersScreenAppear        4593\n",
       "2         CartScreenAppear        3734\n",
       "3  PaymentScreenSuccessful        3539\n",
       "4                 Tutorial         840"
      ]
     },
     "execution_count": 70,
     "metadata": {},
     "output_type": "execute_result"
    }
   ],
   "source": [
    "event_user_count = logs_actual.groupby('event_name')['user_id'].nunique().sort_values(ascending=False).reset_index()\n",
    "event_user_count.columns = ['event_name', 'user_count']\n",
    "\n",
    "event_user_count"
   ]
  },
  {
   "cell_type": "markdown",
   "metadata": {},
   "source": [
    "Посчитаем долю пользователей, которые хоть раз совершали каждое событие. Для этого поделим количество пользователей на каждом шаге на общее количество пользователей:"
   ]
  },
  {
   "cell_type": "code",
   "execution_count": 71,
   "metadata": {},
   "outputs": [
    {
     "data": {
      "text/html": [
       "<div>\n",
       "<style scoped>\n",
       "    .dataframe tbody tr th:only-of-type {\n",
       "        vertical-align: middle;\n",
       "    }\n",
       "\n",
       "    .dataframe tbody tr th {\n",
       "        vertical-align: top;\n",
       "    }\n",
       "\n",
       "    .dataframe thead th {\n",
       "        text-align: right;\n",
       "    }\n",
       "</style>\n",
       "<table border=\"1\" class=\"dataframe\">\n",
       "  <thead>\n",
       "    <tr style=\"text-align: right;\">\n",
       "      <th></th>\n",
       "      <th>event_name</th>\n",
       "      <th>user_count</th>\n",
       "      <th>ratio</th>\n",
       "    </tr>\n",
       "  </thead>\n",
       "  <tbody>\n",
       "    <tr>\n",
       "      <td>0</td>\n",
       "      <td>MainScreenAppear</td>\n",
       "      <td>7419</td>\n",
       "      <td>98.0</td>\n",
       "    </tr>\n",
       "    <tr>\n",
       "      <td>1</td>\n",
       "      <td>OffersScreenAppear</td>\n",
       "      <td>4593</td>\n",
       "      <td>61.0</td>\n",
       "    </tr>\n",
       "    <tr>\n",
       "      <td>2</td>\n",
       "      <td>CartScreenAppear</td>\n",
       "      <td>3734</td>\n",
       "      <td>50.0</td>\n",
       "    </tr>\n",
       "    <tr>\n",
       "      <td>3</td>\n",
       "      <td>PaymentScreenSuccessful</td>\n",
       "      <td>3539</td>\n",
       "      <td>47.0</td>\n",
       "    </tr>\n",
       "    <tr>\n",
       "      <td>4</td>\n",
       "      <td>Tutorial</td>\n",
       "      <td>840</td>\n",
       "      <td>11.0</td>\n",
       "    </tr>\n",
       "  </tbody>\n",
       "</table>\n",
       "</div>"
      ],
      "text/plain": [
       "                event_name  user_count  ratio\n",
       "0         MainScreenAppear        7419   98.0\n",
       "1       OffersScreenAppear        4593   61.0\n",
       "2         CartScreenAppear        3734   50.0\n",
       "3  PaymentScreenSuccessful        3539   47.0\n",
       "4                 Tutorial         840   11.0"
      ]
     },
     "execution_count": 71,
     "metadata": {},
     "output_type": "execute_result"
    }
   ],
   "source": [
    "event_user_count['ratio'] = ((event_user_count['user_count'] / logs_actual['user_id'].nunique()) * 100).round()\n",
    "event_user_count"
   ]
  },
  {
   "cell_type": "markdown",
   "metadata": {},
   "source": [
    "***Выводы***\n",
    "\n",
    "- Почти все пользователи прошли через основной экран (98%).\n",
    "- 61% пользователей доходит до просмотра товаров.\n",
    "- Половина пользователей положила товар в корзину. И почти половина оплатила товары в корзине.\n",
    "- Туториал посмотрели только 11% наших пользователей."
   ]
  },
  {
   "cell_type": "markdown",
   "metadata": {},
   "source": [
    "<a name=\"eventschain\"></a>\n",
    "\n",
    "**3. Предположим, в каком порядке происходят события, все ли они выстраиваются в последовательную цепочку.**"
   ]
  },
  {
   "cell_type": "markdown",
   "metadata": {},
   "source": [
    "Полученная на предыдущем шаге воронка выстроена верно, за исключением шага просмотра туториала. \n",
    "\n",
    "Он должен обучать, как пользоваться приложением, т.е. быть первым или вторым в воронке, но почти 90% пользователей им пренебрегают. С другой стороны, этот шаг совсем необязателен и не должен влиять на покупку товара. Если приложение изначально имеет понятный интерфейс или пользователь уже не новичок в онлайн покупках, то вполне можно обойтись и без туториала.\n",
    "\n",
    "Будем рассматривать воронку шагов без учёта шага просмотра туториала. \n",
    "\n",
    "Далее посмотрим, сколько пользователей переходит последовательно с этапа на этап."
   ]
  },
  {
   "cell_type": "markdown",
   "metadata": {},
   "source": [
    "<a name=\"nextstepratio\"></a>\n",
    "\n",
    "**4. По воронке событий посчитаем, какая доля пользователей проходит на следующий шаг воронки** (от числа пользователей на предыдущем)"
   ]
  },
  {
   "cell_type": "markdown",
   "metadata": {},
   "source": [
    "Нам необходимо изучить детали перехода с этапа на этап. \n",
    "\n",
    "Для начала по каждому пользователю посчитаем, в какое время он впервые совершил определённое событие. Найдём тех, чьи события происходили в нужном порядке.\n",
    "\n",
    "Посчитаем время первого срабатывания каждого события:"
   ]
  },
  {
   "cell_type": "code",
   "execution_count": 72,
   "metadata": {},
   "outputs": [
    {
     "data": {
      "text/html": [
       "<div>\n",
       "<style scoped>\n",
       "    .dataframe tbody tr th:only-of-type {\n",
       "        vertical-align: middle;\n",
       "    }\n",
       "\n",
       "    .dataframe tbody tr th {\n",
       "        vertical-align: top;\n",
       "    }\n",
       "\n",
       "    .dataframe thead th {\n",
       "        text-align: right;\n",
       "    }\n",
       "</style>\n",
       "<table border=\"1\" class=\"dataframe\">\n",
       "  <thead>\n",
       "    <tr style=\"text-align: right;\">\n",
       "      <th>event_name</th>\n",
       "      <th>CartScreenAppear</th>\n",
       "      <th>MainScreenAppear</th>\n",
       "      <th>OffersScreenAppear</th>\n",
       "      <th>PaymentScreenSuccessful</th>\n",
       "      <th>Tutorial</th>\n",
       "    </tr>\n",
       "    <tr>\n",
       "      <th>user_id</th>\n",
       "      <th></th>\n",
       "      <th></th>\n",
       "      <th></th>\n",
       "      <th></th>\n",
       "      <th></th>\n",
       "    </tr>\n",
       "  </thead>\n",
       "  <tbody>\n",
       "    <tr>\n",
       "      <td>6888746892508752</td>\n",
       "      <td>NaT</td>\n",
       "      <td>2019-08-06 14:06:34</td>\n",
       "      <td>NaT</td>\n",
       "      <td>NaT</td>\n",
       "      <td>NaT</td>\n",
       "    </tr>\n",
       "    <tr>\n",
       "      <td>6909561520679493</td>\n",
       "      <td>2019-08-06 18:52:58</td>\n",
       "      <td>2019-08-06 18:52:54</td>\n",
       "      <td>2019-08-06 18:53:04</td>\n",
       "      <td>2019-08-06 18:52:58</td>\n",
       "      <td>NaT</td>\n",
       "    </tr>\n",
       "    <tr>\n",
       "      <td>6922444491712477</td>\n",
       "      <td>2019-08-04 14:19:40</td>\n",
       "      <td>2019-08-04 14:19:33</td>\n",
       "      <td>2019-08-04 14:19:46</td>\n",
       "      <td>2019-08-04 14:19:40</td>\n",
       "      <td>NaT</td>\n",
       "    </tr>\n",
       "    <tr>\n",
       "      <td>7435777799948366</td>\n",
       "      <td>NaT</td>\n",
       "      <td>2019-08-05 08:06:34</td>\n",
       "      <td>NaT</td>\n",
       "      <td>NaT</td>\n",
       "      <td>NaT</td>\n",
       "    </tr>\n",
       "    <tr>\n",
       "      <td>7702139951469979</td>\n",
       "      <td>2019-08-02 14:28:45</td>\n",
       "      <td>2019-08-01 04:29:54</td>\n",
       "      <td>2019-08-01 04:29:56</td>\n",
       "      <td>2019-08-02 14:28:45</td>\n",
       "      <td>NaT</td>\n",
       "    </tr>\n",
       "  </tbody>\n",
       "</table>\n",
       "</div>"
      ],
      "text/plain": [
       "event_name          CartScreenAppear    MainScreenAppear  OffersScreenAppear  \\\n",
       "user_id                                                                        \n",
       "6888746892508752                 NaT 2019-08-06 14:06:34                 NaT   \n",
       "6909561520679493 2019-08-06 18:52:58 2019-08-06 18:52:54 2019-08-06 18:53:04   \n",
       "6922444491712477 2019-08-04 14:19:40 2019-08-04 14:19:33 2019-08-04 14:19:46   \n",
       "7435777799948366                 NaT 2019-08-05 08:06:34                 NaT   \n",
       "7702139951469979 2019-08-02 14:28:45 2019-08-01 04:29:54 2019-08-01 04:29:56   \n",
       "\n",
       "event_name       PaymentScreenSuccessful Tutorial  \n",
       "user_id                                            \n",
       "6888746892508752                     NaT      NaT  \n",
       "6909561520679493     2019-08-06 18:52:58      NaT  \n",
       "6922444491712477     2019-08-04 14:19:40      NaT  \n",
       "7435777799948366                     NaT      NaT  \n",
       "7702139951469979     2019-08-02 14:28:45      NaT  "
      ]
     },
     "execution_count": 72,
     "metadata": {},
     "output_type": "execute_result"
    }
   ],
   "source": [
    "users_log = logs_actual.pivot_table(\n",
    "        index='user_id', \n",
    "        columns='event_name', \n",
    "        values='event_datetime',\n",
    "        aggfunc='min')\n",
    "\n",
    "users_log.head()"
   ]
  },
  {
   "cell_type": "markdown",
   "metadata": {},
   "source": [
    "Видим, что если пользователь не совершал какое-то событие, в его ячейке стоит NaT.\n",
    "\n",
    "Узнаем, сколько пользователей переходило с этапа на этап последовательно:\n",
    "1. Сначала найдём число строк таблицы users, где в столбце MainScreenAppear не пустое значение (т.е. пользователь прошёл через главную страницу).\n",
    "2. Затем определим, сколько людей из тех, кто прошли через главную страницу, перешли к выбору товара (дата события OffersScreenAppear позже даты первого захода на главную страницу).\n",
    "3. По аналогии добавим остальные шаги (добавление товара в корзину и оплата) и получим воронку. \n",
    "4. Наконец, посчитаем, какая доля пользователей проходит на следующий шаг воронки.\n",
    "\n",
    "Чтобы код был читаемым, вынесем условия каждого шага в соответствующие переменные:"
   ]
  },
  {
   "cell_type": "code",
   "execution_count": 73,
   "metadata": {},
   "outputs": [],
   "source": [
    "# выстраиваем последовательность шагов по времени\n",
    "step_1 = ~users_log['MainScreenAppear'].isna()\n",
    "step_2 = step_1 & (users_log['OffersScreenAppear'] > users_log['MainScreenAppear'])\n",
    "step_3 = step_2 & (users_log['CartScreenAppear'] > users_log['OffersScreenAppear'])\n",
    "step_4 = step_3 & (users_log['PaymentScreenSuccessful'] > users_log['CartScreenAppear'])\n",
    "\n",
    "# сохраним количество пользователей, прошедших по шагам\n",
    "n_mainscreen = users_log[step_1].shape[0]\n",
    "n_offersscreen = users_log[step_2].shape[0]\n",
    "n_cartscreen = users_log[step_3].shape[0]\n",
    "n_paymentscreen = users_log[step_4].shape[0]\n",
    "\n",
    "# считаем долю пользователей, переходивших с одного шага на другой\n",
    "r_main = n_mainscreen/n_mainscreen * 100\n",
    "r_offer = n_offersscreen/n_mainscreen * 100\n",
    "r_cart = n_cartscreen/n_offersscreen * 100\n",
    "r_pay = n_paymentscreen/n_cartscreen * 100"
   ]
  },
  {
   "cell_type": "markdown",
   "metadata": {},
   "source": [
    "Создадим из полученных данных датафрейм:"
   ]
  },
  {
   "cell_type": "code",
   "execution_count": 74,
   "metadata": {},
   "outputs": [
    {
     "data": {
      "text/html": [
       "<div>\n",
       "<style scoped>\n",
       "    .dataframe tbody tr th:only-of-type {\n",
       "        vertical-align: middle;\n",
       "    }\n",
       "\n",
       "    .dataframe tbody tr th {\n",
       "        vertical-align: top;\n",
       "    }\n",
       "\n",
       "    .dataframe thead th {\n",
       "        text-align: right;\n",
       "    }\n",
       "</style>\n",
       "<table border=\"1\" class=\"dataframe\">\n",
       "  <thead>\n",
       "    <tr style=\"text-align: right;\">\n",
       "      <th></th>\n",
       "      <th>event_name</th>\n",
       "      <th>user_step_count</th>\n",
       "      <th>ratio_step</th>\n",
       "    </tr>\n",
       "  </thead>\n",
       "  <tbody>\n",
       "    <tr>\n",
       "      <td>0</td>\n",
       "      <td>MainScreenAppear</td>\n",
       "      <td>7419</td>\n",
       "      <td>100.0</td>\n",
       "    </tr>\n",
       "    <tr>\n",
       "      <td>1</td>\n",
       "      <td>OffersScreenAppear</td>\n",
       "      <td>4201</td>\n",
       "      <td>57.0</td>\n",
       "    </tr>\n",
       "    <tr>\n",
       "      <td>2</td>\n",
       "      <td>CartScreenAppear</td>\n",
       "      <td>1767</td>\n",
       "      <td>42.0</td>\n",
       "    </tr>\n",
       "    <tr>\n",
       "      <td>3</td>\n",
       "      <td>PaymentScreenSuccessful</td>\n",
       "      <td>454</td>\n",
       "      <td>26.0</td>\n",
       "    </tr>\n",
       "  </tbody>\n",
       "</table>\n",
       "</div>"
      ],
      "text/plain": [
       "                event_name  user_step_count  ratio_step\n",
       "0         MainScreenAppear             7419       100.0\n",
       "1       OffersScreenAppear             4201        57.0\n",
       "2         CartScreenAppear             1767        42.0\n",
       "3  PaymentScreenSuccessful              454        26.0"
      ]
     },
     "execution_count": 74,
     "metadata": {},
     "output_type": "execute_result"
    }
   ],
   "source": [
    "data = {'event_name':['MainScreenAppear', 'OffersScreenAppear', 'CartScreenAppear', 'PaymentScreenSuccessful'], \n",
    "        'user_step_count':[n_mainscreen, n_offersscreen, n_cartscreen, n_paymentscreen],\n",
    "        'ratio_step':[r_main, r_offer, r_cart, r_pay]}\n",
    "\n",
    "event_user_step_count = pd.DataFrame(data)\n",
    "\n",
    "# округлим доли до целых чисел\n",
    "event_user_step_count['ratio_step'] = event_user_step_count['ratio_step'].round()\n",
    "\n",
    "event_user_step_count"
   ]
  },
  {
   "cell_type": "markdown",
   "metadata": {},
   "source": [
    "Вспомним, как выглядит простая воронка:"
   ]
  },
  {
   "cell_type": "code",
   "execution_count": 75,
   "metadata": {},
   "outputs": [
    {
     "data": {
      "text/html": [
       "<div>\n",
       "<style scoped>\n",
       "    .dataframe tbody tr th:only-of-type {\n",
       "        vertical-align: middle;\n",
       "    }\n",
       "\n",
       "    .dataframe tbody tr th {\n",
       "        vertical-align: top;\n",
       "    }\n",
       "\n",
       "    .dataframe thead th {\n",
       "        text-align: right;\n",
       "    }\n",
       "</style>\n",
       "<table border=\"1\" class=\"dataframe\">\n",
       "  <thead>\n",
       "    <tr style=\"text-align: right;\">\n",
       "      <th></th>\n",
       "      <th>event_name</th>\n",
       "      <th>user_count</th>\n",
       "      <th>ratio</th>\n",
       "    </tr>\n",
       "  </thead>\n",
       "  <tbody>\n",
       "    <tr>\n",
       "      <td>0</td>\n",
       "      <td>MainScreenAppear</td>\n",
       "      <td>7419</td>\n",
       "      <td>98.0</td>\n",
       "    </tr>\n",
       "    <tr>\n",
       "      <td>1</td>\n",
       "      <td>OffersScreenAppear</td>\n",
       "      <td>4593</td>\n",
       "      <td>61.0</td>\n",
       "    </tr>\n",
       "    <tr>\n",
       "      <td>2</td>\n",
       "      <td>CartScreenAppear</td>\n",
       "      <td>3734</td>\n",
       "      <td>50.0</td>\n",
       "    </tr>\n",
       "    <tr>\n",
       "      <td>3</td>\n",
       "      <td>PaymentScreenSuccessful</td>\n",
       "      <td>3539</td>\n",
       "      <td>47.0</td>\n",
       "    </tr>\n",
       "    <tr>\n",
       "      <td>4</td>\n",
       "      <td>Tutorial</td>\n",
       "      <td>840</td>\n",
       "      <td>11.0</td>\n",
       "    </tr>\n",
       "  </tbody>\n",
       "</table>\n",
       "</div>"
      ],
      "text/plain": [
       "                event_name  user_count  ratio\n",
       "0         MainScreenAppear        7419   98.0\n",
       "1       OffersScreenAppear        4593   61.0\n",
       "2         CartScreenAppear        3734   50.0\n",
       "3  PaymentScreenSuccessful        3539   47.0\n",
       "4                 Tutorial         840   11.0"
      ]
     },
     "execution_count": 75,
     "metadata": {},
     "output_type": "execute_result"
    }
   ],
   "source": [
    "event_user_count"
   ]
  },
  {
   "cell_type": "code",
   "execution_count": 76,
   "metadata": {},
   "outputs": [
    {
     "data": {
      "image/png": "[encoded data removed]",
      "text/plain": [
       "<Figure size 432x288 with 1 Axes>"
      ]
     },
     "metadata": {
      "needs_background": "light"
     },
     "output_type": "display_data"
    }
   ],
   "source": [
    "sns.barplot(data=event_user_count, x='ratio', y='event_name', palette = 'magma')\n",
    "plt.title('Воронка событий', pad=20)\n",
    "plt.xlabel('Доля пользователей, совершивших событие', labelpad = 15)\n",
    "plt.ylabel('Вид события', labelpad = 15)\n",
    "plt.show();"
   ]
  },
  {
   "cell_type": "markdown",
   "metadata": {},
   "source": [
    "***Выводы***\n",
    "\n",
    "Полученная воронка с учётом порядка действий пользователей отличается от простой воронки, посчитанной ранее.\n",
    "Это значит, что не все пользователи идут по ожидаемому пути."
   ]
  },
  {
   "cell_type": "markdown",
   "metadata": {},
   "source": [
    "<a name=\"steplostusers\"></a>\n",
    "\n",
    "**5. Определим, на каком шаге теряем больше всего пользователей**"
   ]
  },
  {
   "cell_type": "markdown",
   "metadata": {},
   "source": [
    "Мы видим, что 57% пользователей, посмотревших главную страницу, доходит до просмотра товаров.\n",
    "Т.е. ко второму шагу отсеивается 43% пользователей. Возможно, они просто скачали приложение для ознакомления. \n",
    "\n",
    "Другая крупная потеря - всего 1/4 наших пользователей, после того как положили товар в корзину, доходит до его оплаты."
   ]
  },
  {
   "cell_type": "markdown",
   "metadata": {},
   "source": [
    "<a name=\"fullstepsratio\"></a>\n",
    "\n",
    "**6. Узнаем, какая доля пользователей доходит от первого события до оплаты**"
   ]
  },
  {
   "cell_type": "markdown",
   "metadata": {},
   "source": [
    "Для этого поделим количество пользователей на каждом шаге на количество пользователей на первом шаге:"
   ]
  },
  {
   "cell_type": "code",
   "execution_count": 77,
   "metadata": {},
   "outputs": [
    {
     "data": {
      "text/html": [
       "<div>\n",
       "<style scoped>\n",
       "    .dataframe tbody tr th:only-of-type {\n",
       "        vertical-align: middle;\n",
       "    }\n",
       "\n",
       "    .dataframe tbody tr th {\n",
       "        vertical-align: top;\n",
       "    }\n",
       "\n",
       "    .dataframe thead th {\n",
       "        text-align: right;\n",
       "    }\n",
       "</style>\n",
       "<table border=\"1\" class=\"dataframe\">\n",
       "  <thead>\n",
       "    <tr style=\"text-align: right;\">\n",
       "      <th></th>\n",
       "      <th>event_name</th>\n",
       "      <th>user_step_count</th>\n",
       "      <th>ratio_step</th>\n",
       "      <th>ratio_total</th>\n",
       "    </tr>\n",
       "  </thead>\n",
       "  <tbody>\n",
       "    <tr>\n",
       "      <td>0</td>\n",
       "      <td>MainScreenAppear</td>\n",
       "      <td>7419</td>\n",
       "      <td>100.0</td>\n",
       "      <td>100.0</td>\n",
       "    </tr>\n",
       "    <tr>\n",
       "      <td>1</td>\n",
       "      <td>OffersScreenAppear</td>\n",
       "      <td>4201</td>\n",
       "      <td>57.0</td>\n",
       "      <td>57.0</td>\n",
       "    </tr>\n",
       "    <tr>\n",
       "      <td>2</td>\n",
       "      <td>CartScreenAppear</td>\n",
       "      <td>1767</td>\n",
       "      <td>42.0</td>\n",
       "      <td>24.0</td>\n",
       "    </tr>\n",
       "    <tr>\n",
       "      <td>3</td>\n",
       "      <td>PaymentScreenSuccessful</td>\n",
       "      <td>454</td>\n",
       "      <td>26.0</td>\n",
       "      <td>6.0</td>\n",
       "    </tr>\n",
       "  </tbody>\n",
       "</table>\n",
       "</div>"
      ],
      "text/plain": [
       "                event_name  user_step_count  ratio_step  ratio_total\n",
       "0         MainScreenAppear             7419       100.0        100.0\n",
       "1       OffersScreenAppear             4201        57.0         57.0\n",
       "2         CartScreenAppear             1767        42.0         24.0\n",
       "3  PaymentScreenSuccessful              454        26.0          6.0"
      ]
     },
     "execution_count": 77,
     "metadata": {},
     "output_type": "execute_result"
    }
   ],
   "source": [
    "event_user_step_count['ratio_total'] = (((event_user_step_count['user_step_count'] / \n",
    "                                          event_user_step_count['user_step_count'][0]) * 100).round())\n",
    "event_user_step_count"
   ]
  },
  {
   "cell_type": "markdown",
   "metadata": {},
   "source": [
    "***Выводы***\n",
    "\n",
    "Всего лишь 6% пользователей, прошедших через все шаги, оплачивает выбранные товары."
   ]
  },
  {
   "cell_type": "markdown",
   "metadata": {},
   "source": [
    "<a name=\"experiment\"></a>\n",
    "\n",
    "## Шаг 4. Изучим результаты эксперимента\n",
    "\n",
    "1. Сколько пользователей в каждой экспериментальной группе.\n",
    "2. Проверим, находят ли статистические критерии разницу между выборками 246 и 247 (2 контрольные группы для А/А-эксперимента).\n",
    "   \n",
    "   Для всех событий:\n",
    "    - посчитаем число пользователей, совершивших это событие в каждой из контрольных групп,\n",
    "    - посчитаем долю пользователей, совершивших это событие,\n",
    "    - проверим, будет ли отличие между группами статистически достоверным. \n",
    "    \n",
    "    \n",
    "3. Аналогично поступим с группой с изменённым шрифтом. \n",
    "    - Сравним результаты с каждой из контрольных групп в отдельности по каждому событию. \n",
    "    - Сравним результаты с объединённой контрольной группой. "
   ]
  },
  {
   "cell_type": "markdown",
   "metadata": {},
   "source": [
    "<a name=\"userscountpergroup\"></a>\n",
    "\n",
    "**1. Сколько пользователей в каждой экспериментальной группе**"
   ]
  },
  {
   "cell_type": "markdown",
   "metadata": {},
   "source": [
    "Посчитаем количество пользователей в каждой группе:"
   ]
  },
  {
   "cell_type": "code",
   "execution_count": 78,
   "metadata": {},
   "outputs": [
    {
     "data": {
      "text/html": [
       "<div>\n",
       "<style scoped>\n",
       "    .dataframe tbody tr th:only-of-type {\n",
       "        vertical-align: middle;\n",
       "    }\n",
       "\n",
       "    .dataframe tbody tr th {\n",
       "        vertical-align: top;\n",
       "    }\n",
       "\n",
       "    .dataframe thead th {\n",
       "        text-align: right;\n",
       "    }\n",
       "</style>\n",
       "<table border=\"1\" class=\"dataframe\">\n",
       "  <thead>\n",
       "    <tr style=\"text-align: right;\">\n",
       "      <th></th>\n",
       "      <th>group</th>\n",
       "      <th>users_count</th>\n",
       "    </tr>\n",
       "  </thead>\n",
       "  <tbody>\n",
       "    <tr>\n",
       "      <td>0</td>\n",
       "      <td>246</td>\n",
       "      <td>2484</td>\n",
       "    </tr>\n",
       "    <tr>\n",
       "      <td>1</td>\n",
       "      <td>247</td>\n",
       "      <td>2513</td>\n",
       "    </tr>\n",
       "    <tr>\n",
       "      <td>2</td>\n",
       "      <td>248</td>\n",
       "      <td>2537</td>\n",
       "    </tr>\n",
       "  </tbody>\n",
       "</table>\n",
       "</div>"
      ],
      "text/plain": [
       "   group  users_count\n",
       "0    246         2484\n",
       "1    247         2513\n",
       "2    248         2537"
      ]
     },
     "execution_count": 78,
     "metadata": {},
     "output_type": "execute_result"
    }
   ],
   "source": [
    "group_uniqusers_count = logs_actual.groupby('group')['user_id'].nunique().reset_index()\n",
    "group_uniqusers_count.columns = ['group', 'users_count']\n",
    "\n",
    "group_uniqusers_count"
   ]
  },
  {
   "cell_type": "markdown",
   "metadata": {},
   "source": [
    "Сохраним всех пользователей из групп в списки и проверим, нет ли у нас пользователей, попавших сразу в несколько групп:"
   ]
  },
  {
   "cell_type": "code",
   "execution_count": 79,
   "metadata": {},
   "outputs": [
    {
     "name": "stdout",
     "output_type": "stream",
     "text": [
      "0\n",
      "0\n",
      "0\n"
     ]
    }
   ],
   "source": [
    "group_A1 = logs_actual.query('group == 246')['user_id'].tolist()\n",
    "group_A2 = logs_actual.query('group == 247')['user_id'].tolist() \n",
    "group_B = logs_actual.query('group == 248')['user_id'].tolist() \n",
    "\n",
    "print(len(logs_actual[logs_actual['group'] == 247].query('user_id in @group_A1')))\n",
    "print(len(logs_actual[logs_actual['group'] == 248].query('user_id in @group_A1')))\n",
    "print(len(logs_actual[logs_actual['group'] == 248].query('user_id in @group_A2')))"
   ]
  },
  {
   "cell_type": "markdown",
   "metadata": {},
   "source": [
    "Все наши пользователи разделены по группам, всё в порядке."
   ]
  },
  {
   "cell_type": "markdown",
   "metadata": {},
   "source": [
    "<a name=\"statsratioaa\"></a>\n",
    "\n",
    "**2. Проверим, находят ли статистические критерии разницу между выборками 246 и 247** (2 контрольные группы для А/А-эксперимента)\n",
    "\n",
    "Посчитаем число пользователей, совершивших событие в каждой из контрольных групп, их долю и проверим, будет ли отличие между группами статистически достоверным."
   ]
  },
  {
   "cell_type": "markdown",
   "metadata": {},
   "source": [
    "**Сформулируем гипотезы, которые будем проверять:**\n",
    "\n",
    "- Нулевая гипотеза: ***Доли пользователей, совершивших событие, в группах равны.***\n",
    "- Альтернативная гипотеза: ***Доли пользователей, совершивших событие, в группах различаются.***"
   ]
  },
  {
   "cell_type": "markdown",
   "metadata": {},
   "source": [
    "Сохраним интересующие нас события в отдельный список:"
   ]
  },
  {
   "cell_type": "code",
   "execution_count": 80,
   "metadata": {},
   "outputs": [],
   "source": [
    "events_name = ['MainScreenAppear', 'OffersScreenAppear', 'CartScreenAppear', 'PaymentScreenSuccessful']"
   ]
  },
  {
   "cell_type": "markdown",
   "metadata": {},
   "source": [
    "Напишем функцию, которая на вход будет получать 4 параметра (по 2 от каждой сравниваемой группы): \n",
    "- результаты переходов на шаг с событием,\n",
    "- размеры самих групп.\n",
    "\n",
    "Это позволит нам вычислить долю пользователей, перешедших на определённый шаг.\n",
    "\n",
    "Внутри этой же функции проведём тест, чтобы узнать, будет ли отличие между группами статистически достоверным.\n",
    "Параметр alpha зададим равным 0.05:"
   ]
  },
  {
   "cell_type": "code",
   "execution_count": 81,
   "metadata": {},
   "outputs": [],
   "source": [
    "def check_ratio(step1, step2, group1, group2, alpha=0.05):\n",
    "    \"\"\"Функция для проверки гипотез о равенстве долей\n",
    "    \n",
    "    Аргументы:\n",
    "        step1, step2: количество уникальных пользователей, совершивших событие, в сравниваемых группах \n",
    "        group1, group2: количество уникальных пользователей в сравниваемых группах\n",
    "        alpha=0.05: зафиксированное значение alpha (уровень значимости)\n",
    "    \n",
    "    Возвращает:\n",
    "        p_value: p-значение\n",
    "        результат проверки гипотезы\n",
    "    \n",
    "    \"\"\"\n",
    "    # доля пользователей, совершивших событие в первой группе:\n",
    "    p1 = step1/group1\n",
    "    # доля пользователей, совершивших событие во второй группе:\n",
    "    p2 = step2/group2\n",
    "    # доля пользователей, совершивших событие в комбинированном датасете:\n",
    "    p_combined = (step1 + step2) / (group1 + group2)\n",
    "    # разница долей в датасетах\n",
    "    difference = p1 - p2\n",
    "   \n",
    "    # считаем статистику в ст.отклонениях стандартного нормального распределения\n",
    "    z_value = difference / mth.sqrt(p_combined * (1 - p_combined) * (1/group1 + 1/group2))\n",
    " \n",
    "    # задаем стандартное нормальное распределение (среднее 0, ст.отклонение 1)\n",
    "    distr = st.norm(0, 1)\n",
    " \n",
    "    # рассчитаем вероятность - вызовем метод cdf, саму статистику возьмём по модулю методом abs, \n",
    "    # чтобы получить правильный результат независимо от знака, потому что тест двусторонний, поэтому же удваиваем результат\n",
    "    p_value = (1 - distr.cdf(abs(z_value))) * 2\n",
    " \n",
    "    print('p-значение: ', p_value)\n",
    " \n",
    "    # сравниваем вероятность с заданной alpha, чтобы в итоге узнать, является ли разница между долями значимой\n",
    "    if (p_value < alpha):\n",
    "        print(\"Отвергаем нулевую гипотезу: между долями есть значимая разница\")\n",
    "    else:\n",
    "        print(\"Не получилось отвергнуть нулевую гипотезу, нет оснований считать доли разными\")     "
   ]
  },
  {
   "cell_type": "markdown",
   "metadata": {},
   "source": [
    "Проверим, будет ли отличие между группами статистически достоверным.\n",
    "\n",
    "Сформируем датасеты с данными по группам:"
   ]
  },
  {
   "cell_type": "code",
   "execution_count": 82,
   "metadata": {},
   "outputs": [],
   "source": [
    "group_246 = logs_actual[logs_actual['group'] == 246]\n",
    "group_247 = logs_actual[logs_actual['group'] == 247] "
   ]
  },
  {
   "cell_type": "markdown",
   "metadata": {},
   "source": [
    "Подставим значения в нашу функцию, перебрав в цикле все события из списка events_name.\n",
    "\n",
    "Первые два параметра получаем, посчитав количество пользователей, совершивших событие в каждой группе.\n",
    "Другие два параметра - это количество пользователей в группах. Они у нас сохранены в таблице group_uniqusers_count."
   ]
  },
  {
   "cell_type": "code",
   "execution_count": 83,
   "metadata": {},
   "outputs": [
    {
     "name": "stdout",
     "output_type": "stream",
     "text": [
      "MainScreenAppear\n",
      "p-значение:  0.7570597232046099\n",
      "Не получилось отвергнуть нулевую гипотезу, нет оснований считать доли разными\n",
      "\n",
      "OffersScreenAppear\n",
      "p-значение:  0.2480954578522181\n",
      "Не получилось отвергнуть нулевую гипотезу, нет оснований считать доли разными\n",
      "\n",
      "CartScreenAppear\n",
      "p-значение:  0.22883372237997213\n",
      "Не получилось отвергнуть нулевую гипотезу, нет оснований считать доли разными\n",
      "\n",
      "PaymentScreenSuccessful\n",
      "p-значение:  0.11456679313141849\n",
      "Не получилось отвергнуть нулевую гипотезу, нет оснований считать доли разными\n",
      "\n"
     ]
    }
   ],
   "source": [
    "for i in range(len(events_name)):\n",
    "    print(events_name[i])\n",
    "    check_ratio(group_246['user_id'][group_246['event_name'] == events_name[i]].nunique(),\n",
    "                group_247['user_id'][group_247['event_name'] == events_name[i]].nunique(),\n",
    "                group_uniqusers_count['users_count'][0],\n",
    "                group_uniqusers_count['users_count'][1])\n",
    "    print()"
   ]
  },
  {
   "cell_type": "markdown",
   "metadata": {},
   "source": [
    "Проверка показала, что разбиение на группы работает корректно: разницы между группами A не выявлено."
   ]
  },
  {
   "cell_type": "markdown",
   "metadata": {},
   "source": [
    "<a name=\"statsratioaab\"></a>\n",
    "\n",
    "**3. Аналогично поступим с группой с изменённым шрифтом**\n",
    "\n",
    "- Сравним результаты с каждой из контрольных групп в отдельности по каждому событию.\n",
    "- Сравним результаты с объединённой контрольной группой."
   ]
  },
  {
   "cell_type": "markdown",
   "metadata": {},
   "source": [
    "**Сравним результаты с каждой из контрольных групп в отдельности по каждому событию**"
   ]
  },
  {
   "cell_type": "markdown",
   "metadata": {},
   "source": [
    "Датасеты с данными по группам 246 и 247 мы получили на предыдущем шаге. Сформируем датасет с данными по группе 248:"
   ]
  },
  {
   "cell_type": "code",
   "execution_count": 84,
   "metadata": {},
   "outputs": [],
   "source": [
    "group_248 = logs_actual[logs_actual['group'] == 248] "
   ]
  },
  {
   "cell_type": "markdown",
   "metadata": {},
   "source": [
    "Используя функцию, отдельно сравним между собой результаты двух групп A и группы B.\n",
    "\n",
    "Сравним первую группу A (246) и группу B (248):"
   ]
  },
  {
   "cell_type": "code",
   "execution_count": 85,
   "metadata": {},
   "outputs": [
    {
     "name": "stdout",
     "output_type": "stream",
     "text": [
      "MainScreenAppear\n",
      "p-значение:  0.2949721933554552\n",
      "Не получилось отвергнуть нулевую гипотезу, нет оснований считать доли разными\n",
      "\n",
      "OffersScreenAppear\n",
      "p-значение:  0.20836205402738917\n",
      "Не получилось отвергнуть нулевую гипотезу, нет оснований считать доли разными\n",
      "\n",
      "CartScreenAppear\n",
      "p-значение:  0.07842923237520116\n",
      "Не получилось отвергнуть нулевую гипотезу, нет оснований считать доли разными\n",
      "\n",
      "PaymentScreenSuccessful\n",
      "p-значение:  0.2122553275697796\n",
      "Не получилось отвергнуть нулевую гипотезу, нет оснований считать доли разными\n",
      "\n"
     ]
    }
   ],
   "source": [
    "for i in range(len(events_name)):\n",
    "    print(events_name[i])\n",
    "    check_ratio(group_246['user_id'][group_246['event_name'] == events_name[i]].nunique(),\n",
    "                group_248['user_id'][group_248['event_name'] == events_name[i]].nunique(),\n",
    "                group_uniqusers_count['users_count'][0],\n",
    "                group_uniqusers_count['users_count'][2])\n",
    "    print()"
   ]
  },
  {
   "cell_type": "markdown",
   "metadata": {},
   "source": [
    "Сравним вторую группу A (247) и группу B (248):"
   ]
  },
  {
   "cell_type": "code",
   "execution_count": 86,
   "metadata": {},
   "outputs": [
    {
     "name": "stdout",
     "output_type": "stream",
     "text": [
      "MainScreenAppear\n",
      "p-значение:  0.4587053616621515\n",
      "Не получилось отвергнуть нулевую гипотезу, нет оснований считать доли разными\n",
      "\n",
      "OffersScreenAppear\n",
      "p-значение:  0.9197817830592261\n",
      "Не получилось отвергнуть нулевую гипотезу, нет оснований считать доли разными\n",
      "\n",
      "CartScreenAppear\n",
      "p-значение:  0.5786197879539783\n",
      "Не получилось отвергнуть нулевую гипотезу, нет оснований считать доли разными\n",
      "\n",
      "PaymentScreenSuccessful\n",
      "p-значение:  0.7373415053803964\n",
      "Не получилось отвергнуть нулевую гипотезу, нет оснований считать доли разными\n",
      "\n"
     ]
    }
   ],
   "source": [
    "for i in range(len(events_name)):\n",
    "    print(events_name[i])\n",
    "    check_ratio(group_247['user_id'][group_247['event_name'] == events_name[i]].nunique(),\n",
    "                group_248['user_id'][group_248['event_name'] == events_name[i]].nunique(),\n",
    "                group_uniqusers_count['users_count'][1],\n",
    "                group_uniqusers_count['users_count'][2])\n",
    "    print()    "
   ]
  },
  {
   "cell_type": "markdown",
   "metadata": {},
   "source": [
    "***Выводы***\n",
    "\n",
    "Статистических отличий между контрольными группами и группой с изменённым шрифтом не найдено. Поведение пользователей не изменилось."
   ]
  },
  {
   "cell_type": "markdown",
   "metadata": {},
   "source": [
    "**Сравним результаты с объединённой контрольной группой**"
   ]
  },
  {
   "cell_type": "markdown",
   "metadata": {},
   "source": [
    "Сформируем объединённый датасет с данными по группам 246 и 247:"
   ]
  },
  {
   "cell_type": "code",
   "execution_count": 87,
   "metadata": {},
   "outputs": [],
   "source": [
    "group_246_247 = logs_actual[(logs_actual['group'] == 246) | (logs_actual['group'] == 247)] "
   ]
  },
  {
   "cell_type": "markdown",
   "metadata": {},
   "source": [
    "Снова используем нашу функцию для сравнения результатов объединённой контрольной группы и группы B:"
   ]
  },
  {
   "cell_type": "code",
   "execution_count": 88,
   "metadata": {},
   "outputs": [
    {
     "name": "stdout",
     "output_type": "stream",
     "text": [
      "MainScreenAppear\n",
      "p-значение:  0.29424526837179577\n",
      "Не получилось отвергнуть нулевую гипотезу, нет оснований считать доли разными\n",
      "\n",
      "OffersScreenAppear\n",
      "p-значение:  0.43425549655188256\n",
      "Не получилось отвергнуть нулевую гипотезу, нет оснований считать доли разными\n",
      "\n",
      "CartScreenAppear\n",
      "p-значение:  0.18175875284404386\n",
      "Не получилось отвергнуть нулевую гипотезу, нет оснований считать доли разными\n",
      "\n",
      "PaymentScreenSuccessful\n",
      "p-значение:  0.6004294282308704\n",
      "Не получилось отвергнуть нулевую гипотезу, нет оснований считать доли разными\n",
      "\n"
     ]
    }
   ],
   "source": [
    "for i in range(len(events_name)):\n",
    "    print(events_name[i])\n",
    "    check_ratio(group_246_247['user_id'][group_246_247['event_name'] == events_name[i]].nunique(),\n",
    "                group_248['user_id'][group_248['event_name'] == events_name[i]].nunique(),\n",
    "                group_uniqusers_count['users_count'][0] + group_uniqusers_count['users_count'][1],\n",
    "                group_uniqusers_count['users_count'][2])\n",
    "    print()"
   ]
  },
  {
   "cell_type": "markdown",
   "metadata": {},
   "source": [
    "***Выводы***\n",
    "\n",
    "Статистических отличий между объединённой контрольной группой и группой с изменённым шрифтом также не найдено."
   ]
  },
  {
   "cell_type": "markdown",
   "metadata": {},
   "source": [
    "<a name=\"conclusion\"></a>\n",
    "\n",
    "## Шаг 5. Общий вывод"
   ]
  },
  {
   "cell_type": "markdown",
   "metadata": {},
   "source": [
    "1. **Где теряем пользователей**\n",
    "\n",
    "57% пользователей, посмотревших главную страницу, доходит до просмотра товаров. Т.е. ко второму шагу отсеивается 43% пользователей. Возможно, они просто скачали приложение для ознакомления.\n",
    "\n",
    "Другая крупная потеря - всего 1/4 наших пользователей после того как положили товар в корзину доходит до его оплаты.\n",
    "\n",
    "\n",
    "2. **Какая конверсия в покупку у пользователей, прошедших все шаги воронки**\n",
    "\n",
    "Всего лишь 6% пользователей, прошедших через все шаги, оплачивает выбранные товары.\n",
    "\n",
    "\n",
    "3. **Повлиял ли наш эксперимент с изменённым шрифтом на поведение пользователей**\n",
    "\n",
    "Статистических отличий между контрольными группами и группой с изменённым шрифтом не найдено. Поведение пользователей не изменилось.\n",
    "\n",
    "Т.е. однозначно сказать, какой шрифт лучше, мы не можем. Но если дизайнеры хотят обновить шрифты во всём приложении, то апгрэйд можно проводить, оттока пользователей по этой причине не ожидается."
   ]
  }
 ],
 "metadata": {
  "kernelspec": {
   "display_name": "Python 3",
   "language": "python",
   "name": "python3"
  },
  "language_info": {
   "codemirror_mode": {
    "name": "ipython",
    "version": 3
   },
   "file_extension": ".py",
   "mimetype": "text/x-python",
   "name": "python",
   "nbconvert_exporter": "python",
   "pygments_lexer": "ipython3",
   "version": "3.7.6"
  }
 },
 "nbformat": 4,
 "nbformat_minor": 2
}
