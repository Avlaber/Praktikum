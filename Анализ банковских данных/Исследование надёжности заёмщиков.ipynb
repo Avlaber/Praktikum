{
 "cells": [
  {
   "cell_type": "markdown",
   "metadata": {},
   "source": [
    "## Исследование надёжности заёмщиков\n",
    "\n",
    "План:\n",
    "1. Изучим данные разными методами, чтобы проверить пропуски, типы данных и познакомиться с самими данными, которые доступны для исследования.\n",
    "1. Предобработаем данные (разберёмся с пропусками и возможными дублями), приведём их к нужному регистру и типу данных.\n",
    "1. Категоризируем заёмщиков по:\n",
    "    - количеству детей,\n",
    "    - семейному положению,\n",
    "    - уровню дохода,\n",
    "    - целям кредита.\n",
    "1. Проанализируем данные. Ответим на вопросы:\n",
    "    - Есть ли зависимость между наличием детей и возвратом кредита в срок.\n",
    "    - Есть ли зависимость между семейным положением и возвратом кредита в срок\n",
    "    - Есть ли зависимость между уровнем дохода и возвратом кредита в срок.\n",
    "    - Как разные цели кредита влияют на его возврат в срок.\n",
    "1. Сформируем выводы о поведении заёмщиков банка.    "
   ]
  },
  {
   "cell_type": "markdown",
   "metadata": {},
   "source": [
    "### Шаг 1. Изучим общую информацию"
   ]
  },
  {
   "cell_type": "code",
   "execution_count": 1,
   "metadata": {},
   "outputs": [],
   "source": [
    "import pandas as pd"
   ]
  },
  {
   "cell_type": "code",
   "execution_count": 2,
   "metadata": {},
   "outputs": [],
   "source": [
    "# загружаем файл с данными\n",
    "\n",
    "data = pd.read_csv('/datasets/data.csv')"
   ]
  },
  {
   "cell_type": "code",
   "execution_count": 3,
   "metadata": {},
   "outputs": [
    {
     "name": "stdout",
     "output_type": "stream",
     "text": [
      "<class 'pandas.core.frame.DataFrame'>\n",
      "RangeIndex: 21525 entries, 0 to 21524\n",
      "Data columns (total 12 columns):\n",
      "children            21525 non-null int64\n",
      "days_employed       19351 non-null float64\n",
      "dob_years           21525 non-null int64\n",
      "education           21525 non-null object\n",
      "education_id        21525 non-null int64\n",
      "family_status       21525 non-null object\n",
      "family_status_id    21525 non-null int64\n",
      "gender              21525 non-null object\n",
      "income_type         21525 non-null object\n",
      "debt                21525 non-null int64\n",
      "total_income        19351 non-null float64\n",
      "purpose             21525 non-null object\n",
      "dtypes: float64(2), int64(5), object(5)\n",
      "memory usage: 2.0+ MB\n"
     ]
    }
   ],
   "source": [
    "# общая информация по таблице\n",
    "\n",
    "data.info() "
   ]
  },
  {
   "cell_type": "code",
   "execution_count": 4,
   "metadata": {},
   "outputs": [
    {
     "data": {
      "text/html": [
       "<div>\n",
       "<style scoped>\n",
       "    .dataframe tbody tr th:only-of-type {\n",
       "        vertical-align: middle;\n",
       "    }\n",
       "\n",
       "    .dataframe tbody tr th {\n",
       "        vertical-align: top;\n",
       "    }\n",
       "\n",
       "    .dataframe thead th {\n",
       "        text-align: right;\n",
       "    }\n",
       "</style>\n",
       "<table border=\"1\" class=\"dataframe\">\n",
       "  <thead>\n",
       "    <tr style=\"text-align: right;\">\n",
       "      <th></th>\n",
       "      <th>children</th>\n",
       "      <th>days_employed</th>\n",
       "      <th>dob_years</th>\n",
       "      <th>education_id</th>\n",
       "      <th>family_status_id</th>\n",
       "      <th>debt</th>\n",
       "      <th>total_income</th>\n",
       "    </tr>\n",
       "  </thead>\n",
       "  <tbody>\n",
       "    <tr>\n",
       "      <td>count</td>\n",
       "      <td>21525.000000</td>\n",
       "      <td>19351.000000</td>\n",
       "      <td>21525.000000</td>\n",
       "      <td>21525.000000</td>\n",
       "      <td>21525.000000</td>\n",
       "      <td>21525.000000</td>\n",
       "      <td>1.935100e+04</td>\n",
       "    </tr>\n",
       "    <tr>\n",
       "      <td>mean</td>\n",
       "      <td>0.538908</td>\n",
       "      <td>63046.497661</td>\n",
       "      <td>43.293380</td>\n",
       "      <td>0.817236</td>\n",
       "      <td>0.972544</td>\n",
       "      <td>0.080883</td>\n",
       "      <td>1.674223e+05</td>\n",
       "    </tr>\n",
       "    <tr>\n",
       "      <td>std</td>\n",
       "      <td>1.381587</td>\n",
       "      <td>140827.311974</td>\n",
       "      <td>12.574584</td>\n",
       "      <td>0.548138</td>\n",
       "      <td>1.420324</td>\n",
       "      <td>0.272661</td>\n",
       "      <td>1.029716e+05</td>\n",
       "    </tr>\n",
       "    <tr>\n",
       "      <td>min</td>\n",
       "      <td>-1.000000</td>\n",
       "      <td>-18388.949901</td>\n",
       "      <td>0.000000</td>\n",
       "      <td>0.000000</td>\n",
       "      <td>0.000000</td>\n",
       "      <td>0.000000</td>\n",
       "      <td>2.066726e+04</td>\n",
       "    </tr>\n",
       "    <tr>\n",
       "      <td>25%</td>\n",
       "      <td>0.000000</td>\n",
       "      <td>-2747.423625</td>\n",
       "      <td>33.000000</td>\n",
       "      <td>1.000000</td>\n",
       "      <td>0.000000</td>\n",
       "      <td>0.000000</td>\n",
       "      <td>1.030532e+05</td>\n",
       "    </tr>\n",
       "    <tr>\n",
       "      <td>50%</td>\n",
       "      <td>0.000000</td>\n",
       "      <td>-1203.369529</td>\n",
       "      <td>42.000000</td>\n",
       "      <td>1.000000</td>\n",
       "      <td>0.000000</td>\n",
       "      <td>0.000000</td>\n",
       "      <td>1.450179e+05</td>\n",
       "    </tr>\n",
       "    <tr>\n",
       "      <td>75%</td>\n",
       "      <td>1.000000</td>\n",
       "      <td>-291.095954</td>\n",
       "      <td>53.000000</td>\n",
       "      <td>1.000000</td>\n",
       "      <td>1.000000</td>\n",
       "      <td>0.000000</td>\n",
       "      <td>2.034351e+05</td>\n",
       "    </tr>\n",
       "    <tr>\n",
       "      <td>max</td>\n",
       "      <td>20.000000</td>\n",
       "      <td>401755.400475</td>\n",
       "      <td>75.000000</td>\n",
       "      <td>4.000000</td>\n",
       "      <td>4.000000</td>\n",
       "      <td>1.000000</td>\n",
       "      <td>2.265604e+06</td>\n",
       "    </tr>\n",
       "  </tbody>\n",
       "</table>\n",
       "</div>"
      ],
      "text/plain": [
       "           children  days_employed     dob_years  education_id  \\\n",
       "count  21525.000000   19351.000000  21525.000000  21525.000000   \n",
       "mean       0.538908   63046.497661     43.293380      0.817236   \n",
       "std        1.381587  140827.311974     12.574584      0.548138   \n",
       "min       -1.000000  -18388.949901      0.000000      0.000000   \n",
       "25%        0.000000   -2747.423625     33.000000      1.000000   \n",
       "50%        0.000000   -1203.369529     42.000000      1.000000   \n",
       "75%        1.000000    -291.095954     53.000000      1.000000   \n",
       "max       20.000000  401755.400475     75.000000      4.000000   \n",
       "\n",
       "       family_status_id          debt  total_income  \n",
       "count      21525.000000  21525.000000  1.935100e+04  \n",
       "mean           0.972544      0.080883  1.674223e+05  \n",
       "std            1.420324      0.272661  1.029716e+05  \n",
       "min            0.000000      0.000000  2.066726e+04  \n",
       "25%            0.000000      0.000000  1.030532e+05  \n",
       "50%            0.000000      0.000000  1.450179e+05  \n",
       "75%            1.000000      0.000000  2.034351e+05  \n",
       "max            4.000000      1.000000  2.265604e+06  "
      ]
     },
     "execution_count": 4,
     "metadata": {},
     "output_type": "execute_result"
    }
   ],
   "source": [
    "# посмотрим на количественные значения с помощью describe\n",
    "\n",
    "data.describe()"
   ]
  },
  {
   "cell_type": "markdown",
   "metadata": {},
   "source": [
    "Посмотрим, какие уникальные значения есть в качественных признаках и какое количество по каждому из них - пригодится в будушем на шаге чистки дубликатов."
   ]
  },
  {
   "cell_type": "code",
   "execution_count": 5,
   "metadata": {},
   "outputs": [
    {
     "data": {
      "text/plain": [
       "среднее                13750\n",
       "высшее                  4718\n",
       "СРЕДНЕЕ                  772\n",
       "Среднее                  711\n",
       "неоконченное высшее      668\n",
       "ВЫСШЕЕ                   274\n",
       "Высшее                   268\n",
       "начальное                250\n",
       "Неоконченное высшее       47\n",
       "НЕОКОНЧЕННОЕ ВЫСШЕЕ       29\n",
       "НАЧАЛЬНОЕ                 17\n",
       "Начальное                 15\n",
       "ученая степень             4\n",
       "Ученая степень             1\n",
       "УЧЕНАЯ СТЕПЕНЬ             1\n",
       "Name: education, dtype: int64"
      ]
     },
     "execution_count": 5,
     "metadata": {},
     "output_type": "execute_result"
    }
   ],
   "source": [
    "data['education'].value_counts()"
   ]
  },
  {
   "cell_type": "code",
   "execution_count": 6,
   "metadata": {},
   "outputs": [
    {
     "data": {
      "text/plain": [
       "женат / замужем          12380\n",
       "гражданский брак          4177\n",
       "Не женат / не замужем     2813\n",
       "в разводе                 1195\n",
       "вдовец / вдова             960\n",
       "Name: family_status, dtype: int64"
      ]
     },
     "execution_count": 6,
     "metadata": {},
     "output_type": "execute_result"
    }
   ],
   "source": [
    "data['family_status'].value_counts()"
   ]
  },
  {
   "cell_type": "code",
   "execution_count": 7,
   "metadata": {},
   "outputs": [
    {
     "data": {
      "text/plain": [
       "F      14236\n",
       "M       7288\n",
       "XNA        1\n",
       "Name: gender, dtype: int64"
      ]
     },
     "execution_count": 7,
     "metadata": {},
     "output_type": "execute_result"
    }
   ],
   "source": [
    "data['gender'].value_counts()"
   ]
  },
  {
   "cell_type": "code",
   "execution_count": 8,
   "metadata": {},
   "outputs": [
    {
     "data": {
      "text/plain": [
       "сотрудник          11119\n",
       "компаньон           5085\n",
       "пенсионер           3856\n",
       "госслужащий         1459\n",
       "предприниматель        2\n",
       "безработный            2\n",
       "студент                1\n",
       "в декрете              1\n",
       "Name: income_type, dtype: int64"
      ]
     },
     "execution_count": 8,
     "metadata": {},
     "output_type": "execute_result"
    }
   ],
   "source": [
    "data['income_type'].value_counts()"
   ]
  },
  {
   "cell_type": "code",
   "execution_count": 9,
   "metadata": {},
   "outputs": [
    {
     "data": {
      "text/plain": [
       "свадьба                                   797\n",
       "на проведение свадьбы                     777\n",
       "сыграть свадьбу                           774\n",
       "операции с недвижимостью                  676\n",
       "покупка коммерческой недвижимости         664\n",
       "покупка жилья для сдачи                   653\n",
       "операции с жильем                         653\n",
       "операции с коммерческой недвижимостью     651\n",
       "жилье                                     647\n",
       "покупка жилья                             647\n",
       "покупка жилья для семьи                   641\n",
       "строительство собственной недвижимости    635\n",
       "недвижимость                              634\n",
       "операции со своей недвижимостью           630\n",
       "строительство жилой недвижимости          626\n",
       "покупка недвижимости                      624\n",
       "покупка своего жилья                      620\n",
       "строительство недвижимости                620\n",
       "ремонт жилью                              612\n",
       "покупка жилой недвижимости                607\n",
       "на покупку своего автомобиля              505\n",
       "заняться высшим образованием              496\n",
       "автомобиль                                495\n",
       "сделка с подержанным автомобилем          489\n",
       "свой автомобиль                           480\n",
       "на покупку подержанного автомобиля        479\n",
       "автомобили                                478\n",
       "на покупку автомобиля                     472\n",
       "дополнительное образование                462\n",
       "приобретение автомобиля                   462\n",
       "сделка с автомобилем                      455\n",
       "высшее образование                        453\n",
       "образование                               447\n",
       "получение дополнительного образования     447\n",
       "получение образования                     443\n",
       "профильное образование                    436\n",
       "получение высшего образования             426\n",
       "заняться образованием                     412\n",
       "Name: purpose, dtype: int64"
      ]
     },
     "execution_count": 9,
     "metadata": {},
     "output_type": "execute_result"
    }
   ],
   "source": [
    "data['purpose'].value_counts()"
   ]
  },
  {
   "cell_type": "markdown",
   "metadata": {},
   "source": [
    "***Вывод***\n",
    "\n",
    "1. Есть пропуски в столбцах:\n",
    "  - days_employed - стаж,\n",
    "  - total_income - информация о доходе,\n",
    "\n",
    "\n",
    "2. Несоответствие типов данных:\n",
    "  - days_employed и total_income - float64, вряд ли стаж и доход могут быть дробным числом, необходимо перевести в тип int.\n",
    "\n",
    "\n",
    "3. Стоит обратить внимание на несколько моментов: \n",
    "  - отрицательные значения в трудовом стаже (days_employed), \n",
    "  - разные регистры в образовании (education) - запомним на будущее,\n",
    "  - у одного клиента вместо пола стоит значение XNA (gender) - изменить его на что-то конкретное мы не можем, поэтому т.к. он такой один и на результаты не повлияет, не будем его трогать,\n",
    "  - очевидных скрытых дубликатов нет, кроме формулировок целей.  "
   ]
  },
  {
   "cell_type": "markdown",
   "metadata": {},
   "source": [
    "## Шаг 2. Предобработка данных"
   ]
  },
  {
   "cell_type": "markdown",
   "metadata": {},
   "source": [
    "### Обработка пропусков"
   ]
  },
  {
   "cell_type": "code",
   "execution_count": 10,
   "metadata": {},
   "outputs": [
    {
     "data": {
      "text/plain": [
       "children               0\n",
       "days_employed       2174\n",
       "dob_years              0\n",
       "education              0\n",
       "education_id           0\n",
       "family_status          0\n",
       "family_status_id       0\n",
       "gender                 0\n",
       "income_type            0\n",
       "debt                   0\n",
       "total_income        2174\n",
       "purpose                0\n",
       "dtype: int64"
      ]
     },
     "execution_count": 10,
     "metadata": {},
     "output_type": "execute_result"
    }
   ],
   "source": [
    "# найдём все пропуски\n",
    "\n",
    "data.isnull().sum()"
   ]
  },
  {
   "cell_type": "code",
   "execution_count": 11,
   "metadata": {},
   "outputs": [],
   "source": [
    "# удаляем пропущенные значения в стаже\n",
    "\n",
    "data.dropna(subset = ['days_employed'], inplace = True) "
   ]
  },
  {
   "cell_type": "code",
   "execution_count": 12,
   "metadata": {},
   "outputs": [],
   "source": [
    "# найдём все уникальные типы занятости и запишем их в перменную\n",
    "\n",
    "income_type_unique = data['income_type'].unique() \n",
    "\n",
    "# заполним пропуски в совокупном доходе средними значениями по каждому типу заности, выделенному в предыдущем действии\n",
    "\n",
    "for unitype in income_type_unique:\n",
    "    total_income_mean = data[data['income_type'] == unitype]['total_income'].mean() \n",
    "    data.loc[(data['income_type'] == unitype) & (data['total_income'].isnull()), 'total_income'] = total_income_mean"
   ]
  },
  {
   "cell_type": "code",
   "execution_count": 13,
   "metadata": {},
   "outputs": [
    {
     "data": {
      "text/plain": [
       "children            0\n",
       "days_employed       0\n",
       "dob_years           0\n",
       "education           0\n",
       "education_id        0\n",
       "family_status       0\n",
       "family_status_id    0\n",
       "gender              0\n",
       "income_type         0\n",
       "debt                0\n",
       "total_income        0\n",
       "purpose             0\n",
       "dtype: int64"
      ]
     },
     "execution_count": 13,
     "metadata": {},
     "output_type": "execute_result"
    }
   ],
   "source": [
    "# проверяем, что пропусков больше нет\n",
    "\n",
    "data.isnull().sum()"
   ]
  },
  {
   "cell_type": "markdown",
   "metadata": {},
   "source": [
    "***Вывод***\n",
    "\n",
    "В 2174 строках из 21525 строк пропущены значения стажа и совокупного дохода.\n",
    "Вероятнее всего, эти две строки не заполнены по тем клиентам, по которым данные не подгрузились в систему. \n",
    "\n",
    "Т.к. нас интересуют другие заполненные данные по этим клиентам для ответа на вопросы про возврат кредита в зависимости от кол-ва детей и семейного положения, то не буду удалять полностью все строки с отсутствующими значениями по стажу и доходу. \n",
    "\n",
    "Если бы это были неработающие сейчас люди с нулевым доходом (пенсионер, безработный, студент, в декрете), у некоторых из них был бы стаж.\n",
    "Если бы это были люди с нулевым стажем (студент, предположительно \"в декрете\" и \"безработный\"), то их не может быть так много (в сумме они дают всего 4 человека). \n",
    "\n",
    "Заполнять отсутствующие значения средним стажем - некорректно, т.к. в данных есть отрицательные числа и слишком большие - явно не соответствует действительности. В будущем эта метрика нам пока не пригодится, подсчёт данных из этого столбца ни на что влиять не будет, поэтому просто удалила пропущенные значения стажа, не обрабатывая этот столбец.\n",
    "\n",
    "А вот совокупный доход нам понадобится для ответа на один из вопросов. Его пропуски заполнила средними значениями по каждой категории."
   ]
  },
  {
   "cell_type": "markdown",
   "metadata": {},
   "source": [
    "### Замена типа данных"
   ]
  },
  {
   "cell_type": "code",
   "execution_count": 14,
   "metadata": {},
   "outputs": [
    {
     "name": "stdout",
     "output_type": "stream",
     "text": [
      "<class 'pandas.core.frame.DataFrame'>\n",
      "Int64Index: 19351 entries, 0 to 21524\n",
      "Data columns (total 12 columns):\n",
      "children            19351 non-null int64\n",
      "days_employed       19351 non-null float64\n",
      "dob_years           19351 non-null int64\n",
      "education           19351 non-null object\n",
      "education_id        19351 non-null int64\n",
      "family_status       19351 non-null object\n",
      "family_status_id    19351 non-null int64\n",
      "gender              19351 non-null object\n",
      "income_type         19351 non-null object\n",
      "debt                19351 non-null int64\n",
      "total_income        19351 non-null float64\n",
      "purpose             19351 non-null object\n",
      "dtypes: float64(2), int64(5), object(5)\n",
      "memory usage: 1.9+ MB\n"
     ]
    }
   ],
   "source": [
    "# посмотрим типы данных\n",
    "\n",
    "data.info()"
   ]
  },
  {
   "cell_type": "code",
   "execution_count": 15,
   "metadata": {},
   "outputs": [],
   "source": [
    "# меняем тип данных для столбцов days_employed и total_income: из вещественного переводим в целочисленный\n",
    "\n",
    "data['days_employed'] = data['days_employed'].astype('int64')\n",
    "data['total_income'] = data['total_income'].astype('int64')"
   ]
  },
  {
   "cell_type": "code",
   "execution_count": 16,
   "metadata": {},
   "outputs": [
    {
     "name": "stdout",
     "output_type": "stream",
     "text": [
      "<class 'pandas.core.frame.DataFrame'>\n",
      "Int64Index: 19351 entries, 0 to 21524\n",
      "Data columns (total 12 columns):\n",
      "children            19351 non-null int64\n",
      "days_employed       19351 non-null int64\n",
      "dob_years           19351 non-null int64\n",
      "education           19351 non-null object\n",
      "education_id        19351 non-null int64\n",
      "family_status       19351 non-null object\n",
      "family_status_id    19351 non-null int64\n",
      "gender              19351 non-null object\n",
      "income_type         19351 non-null object\n",
      "debt                19351 non-null int64\n",
      "total_income        19351 non-null int64\n",
      "purpose             19351 non-null object\n",
      "dtypes: int64(7), object(5)\n",
      "memory usage: 1.9+ MB\n"
     ]
    },
    {
     "data": {
      "text/plain": [
       "None"
      ]
     },
     "metadata": {},
     "output_type": "display_data"
    },
    {
     "data": {
      "text/html": [
       "<div>\n",
       "<style scoped>\n",
       "    .dataframe tbody tr th:only-of-type {\n",
       "        vertical-align: middle;\n",
       "    }\n",
       "\n",
       "    .dataframe tbody tr th {\n",
       "        vertical-align: top;\n",
       "    }\n",
       "\n",
       "    .dataframe thead th {\n",
       "        text-align: right;\n",
       "    }\n",
       "</style>\n",
       "<table border=\"1\" class=\"dataframe\">\n",
       "  <thead>\n",
       "    <tr style=\"text-align: right;\">\n",
       "      <th></th>\n",
       "      <th>children</th>\n",
       "      <th>days_employed</th>\n",
       "      <th>dob_years</th>\n",
       "      <th>education</th>\n",
       "      <th>education_id</th>\n",
       "      <th>family_status</th>\n",
       "      <th>family_status_id</th>\n",
       "      <th>gender</th>\n",
       "      <th>income_type</th>\n",
       "      <th>debt</th>\n",
       "      <th>total_income</th>\n",
       "      <th>purpose</th>\n",
       "    </tr>\n",
       "  </thead>\n",
       "  <tbody>\n",
       "    <tr>\n",
       "      <td>0</td>\n",
       "      <td>1</td>\n",
       "      <td>-8437</td>\n",
       "      <td>42</td>\n",
       "      <td>высшее</td>\n",
       "      <td>0</td>\n",
       "      <td>женат / замужем</td>\n",
       "      <td>0</td>\n",
       "      <td>F</td>\n",
       "      <td>сотрудник</td>\n",
       "      <td>0</td>\n",
       "      <td>253875</td>\n",
       "      <td>покупка жилья</td>\n",
       "    </tr>\n",
       "    <tr>\n",
       "      <td>1</td>\n",
       "      <td>1</td>\n",
       "      <td>-4024</td>\n",
       "      <td>36</td>\n",
       "      <td>среднее</td>\n",
       "      <td>1</td>\n",
       "      <td>женат / замужем</td>\n",
       "      <td>0</td>\n",
       "      <td>F</td>\n",
       "      <td>сотрудник</td>\n",
       "      <td>0</td>\n",
       "      <td>112080</td>\n",
       "      <td>приобретение автомобиля</td>\n",
       "    </tr>\n",
       "    <tr>\n",
       "      <td>2</td>\n",
       "      <td>0</td>\n",
       "      <td>-5623</td>\n",
       "      <td>33</td>\n",
       "      <td>Среднее</td>\n",
       "      <td>1</td>\n",
       "      <td>женат / замужем</td>\n",
       "      <td>0</td>\n",
       "      <td>M</td>\n",
       "      <td>сотрудник</td>\n",
       "      <td>0</td>\n",
       "      <td>145885</td>\n",
       "      <td>покупка жилья</td>\n",
       "    </tr>\n",
       "    <tr>\n",
       "      <td>3</td>\n",
       "      <td>3</td>\n",
       "      <td>-4124</td>\n",
       "      <td>32</td>\n",
       "      <td>среднее</td>\n",
       "      <td>1</td>\n",
       "      <td>женат / замужем</td>\n",
       "      <td>0</td>\n",
       "      <td>M</td>\n",
       "      <td>сотрудник</td>\n",
       "      <td>0</td>\n",
       "      <td>267628</td>\n",
       "      <td>дополнительное образование</td>\n",
       "    </tr>\n",
       "    <tr>\n",
       "      <td>4</td>\n",
       "      <td>0</td>\n",
       "      <td>340266</td>\n",
       "      <td>53</td>\n",
       "      <td>среднее</td>\n",
       "      <td>1</td>\n",
       "      <td>гражданский брак</td>\n",
       "      <td>1</td>\n",
       "      <td>F</td>\n",
       "      <td>пенсионер</td>\n",
       "      <td>0</td>\n",
       "      <td>158616</td>\n",
       "      <td>сыграть свадьбу</td>\n",
       "    </tr>\n",
       "  </tbody>\n",
       "</table>\n",
       "</div>"
      ],
      "text/plain": [
       "   children  days_employed  dob_years education  education_id  \\\n",
       "0         1          -8437         42    высшее             0   \n",
       "1         1          -4024         36   среднее             1   \n",
       "2         0          -5623         33   Среднее             1   \n",
       "3         3          -4124         32   среднее             1   \n",
       "4         0         340266         53   среднее             1   \n",
       "\n",
       "      family_status  family_status_id gender income_type  debt  total_income  \\\n",
       "0   женат / замужем                 0      F   сотрудник     0        253875   \n",
       "1   женат / замужем                 0      F   сотрудник     0        112080   \n",
       "2   женат / замужем                 0      M   сотрудник     0        145885   \n",
       "3   женат / замужем                 0      M   сотрудник     0        267628   \n",
       "4  гражданский брак                 1      F   пенсионер     0        158616   \n",
       "\n",
       "                      purpose  \n",
       "0               покупка жилья  \n",
       "1     приобретение автомобиля  \n",
       "2               покупка жилья  \n",
       "3  дополнительное образование  \n",
       "4             сыграть свадьбу  "
      ]
     },
     "metadata": {},
     "output_type": "display_data"
    }
   ],
   "source": [
    "# проверем тип данных и вывод первых 5 строк\n",
    "\n",
    "display(data.info())\n",
    "display(data.head())"
   ]
  },
  {
   "cell_type": "markdown",
   "metadata": {},
   "source": [
    "***Вывод***\n",
    "\n",
    "Теперь информацию в отредактированных столбцах легче воспринимать. Совокупный доход понадобится нам в следующих шагах."
   ]
  },
  {
   "cell_type": "markdown",
   "metadata": {},
   "source": [
    "### Обработка дубликатов"
   ]
  },
  {
   "cell_type": "code",
   "execution_count": 17,
   "metadata": {},
   "outputs": [
    {
     "name": "stdout",
     "output_type": "stream",
     "text": [
      "0\n",
      "0\n",
      "0\n"
     ]
    }
   ],
   "source": [
    "print(data.duplicated().sum()) # считаем дубли - 54\n",
    "\n",
    "# как мы выяснили в первом шаге, в столбце education используются разные регистры - приведём все значения в нём к нижнему \n",
    "data['education'] = data['education'].str.lower()\n",
    "\n",
    "print(data.duplicated().sum()) # повторно считаем дубли - 71\n",
    "\n",
    "data = data.drop_duplicates().reset_index(drop=True) # удаляем дубликаты\n",
    "print(data.duplicated().sum()) # перепроверяем дубли - 0"
   ]
  },
  {
   "cell_type": "markdown",
   "metadata": {},
   "source": [
    "***Вывод***\n",
    "\n",
    "Привели значения столбца education к нижнему регистру.\n",
    "Таким образом получилось найти ещё 17 полных дубликатов. Дропнули их методом с перезаписью .drop_duplicates().reset_index(drop=True).\n",
    "\n",
    "Возможные причины появления дубликатов: технические ошибки и повторные заполнения (возможно, одни и те же люди несколько раз подавали заявки на кредит).\n",
    "\n",
    "Остальные столбцы на уникальность мы уже проверяли в первом шаге - скрытых дублей в них не было (столбец с целями рассмотрим далее отдельно, когда будем его категоризировать)."
   ]
  },
  {
   "cell_type": "markdown",
   "metadata": {},
   "source": [
    "### Лемматизация"
   ]
  },
  {
   "cell_type": "code",
   "execution_count": 18,
   "metadata": {},
   "outputs": [],
   "source": [
    "# импортируем библиотеку для лемматизации\n",
    "\n",
    "from pymystem3 import Mystem\n",
    "m = Mystem()"
   ]
  },
  {
   "cell_type": "code",
   "execution_count": 19,
   "metadata": {},
   "outputs": [
    {
     "name": "stdout",
     "output_type": "stream",
     "text": [
      "Counter({' ': 30248, '\\n': 19351, 'недвижимость': 5723, 'покупка': 5353, 'жилье': 4035, 'автомобиль': 3897, 'образование': 3597, 'с': 2619, 'операция': 2334, 'свадьба': 2099, 'на': 2016, 'свой': 2013, 'строительство': 1701, 'высокий': 1243, 'получение': 1179, 'коммерческий': 1178, 'для': 1158, 'жилой': 1126, 'сделка': 844, 'дополнительный': 810, 'заниматься': 797, 'сыграть': 693, 'проведение': 685, 'сдача': 588, 'семья': 570, 'собственный': 560, 'со': 559, 'ремонт': 542, 'подержать': 437, 'подержанный': 435, 'приобретение': 419, 'профильный': 389})\n"
     ]
    }
   ],
   "source": [
    "# переводим колонку целей в список\n",
    "\n",
    "purpose = data['purpose'].tolist() \n",
    "\n",
    "# лемматизируем этот список с помощью цикла\n",
    "\n",
    "lemmas = []\n",
    "for row in purpose:\n",
    "    lemmas += m.lemmatize(row)\n",
    "\n",
    "# посчитаем кол-во лемм\n",
    "\n",
    "from collections import Counter\n",
    "print(Counter(lemmas))"
   ]
  },
  {
   "cell_type": "markdown",
   "metadata": {},
   "source": [
    "***Вывод***\n",
    "\n",
    "Судя по полученным результатам, больше всего кредитов берут на недвижимость.\n",
    "\n",
    "Примерно одинаково - на авто и образование. \n",
    "\n",
    "4-й в топе стоит свадьба."
   ]
  },
  {
   "cell_type": "markdown",
   "metadata": {},
   "source": [
    "### Категоризация данных"
   ]
  },
  {
   "cell_type": "markdown",
   "metadata": {},
   "source": [
    "**Количество детей**"
   ]
  },
  {
   "cell_type": "code",
   "execution_count": 20,
   "metadata": {},
   "outputs": [
    {
     "data": {
      "text/plain": [
       "нет детей           12710\n",
       "1 ребёнок            4343\n",
       "2-3 ребёнка          2189\n",
       "больше 3-х детей      109\n",
       "Name: category_children, dtype: int64"
      ]
     },
     "execution_count": 20,
     "metadata": {},
     "output_type": "execute_result"
    }
   ],
   "source": [
    "# напишем функцию для определения категорий клиентов по количеству детей\n",
    "\n",
    "def category_children(children):\n",
    "    if children == 0:\n",
    "        return 'нет детей'\n",
    "    elif children == 1:\n",
    "        return '1 ребёнок'\n",
    "    elif children <= 3:\n",
    "        return '2-3 ребёнка'\n",
    "    elif children > 3:\n",
    "        return 'больше 3-х детей'\n",
    "\n",
    "\n",
    "# применим функцию к датасету и создадим новый столбец с новыми категориями\n",
    "\n",
    "data['category_children'] = data['children'].apply(category_children)\n",
    "\n",
    "# посчитаем, какое количество входит в каждую категорию\n",
    "\n",
    "data['category_children'].value_counts()"
   ]
  },
  {
   "cell_type": "markdown",
   "metadata": {},
   "source": [
    "Мы выделили четыре категории по количеству детей: без детей, 1 ребёнок (самый частый вариант для России в семьях с детьми), 2-3 ребёнка (второй по популярности), многодетные (больше 3-х детей)."
   ]
  },
  {
   "cell_type": "markdown",
   "metadata": {},
   "source": [
    "***Вывод***\n",
    "\n",
    "Видим, что больше чем у половины наших клиентов нет детей."
   ]
  },
  {
   "cell_type": "markdown",
   "metadata": {},
   "source": [
    "**Семейное положение**\n",
    "\n",
    "Сначала составии словарь, в котором каждому семейному статусу соответствует свой id. Это действие поможет написать функцию для категоризации заёмщиков."
   ]
  },
  {
   "cell_type": "code",
   "execution_count": 21,
   "metadata": {},
   "outputs": [
    {
     "data": {
      "text/html": [
       "<div>\n",
       "<style scoped>\n",
       "    .dataframe tbody tr th:only-of-type {\n",
       "        vertical-align: middle;\n",
       "    }\n",
       "\n",
       "    .dataframe tbody tr th {\n",
       "        vertical-align: top;\n",
       "    }\n",
       "\n",
       "    .dataframe thead th {\n",
       "        text-align: right;\n",
       "    }\n",
       "</style>\n",
       "<table border=\"1\" class=\"dataframe\">\n",
       "  <thead>\n",
       "    <tr style=\"text-align: right;\">\n",
       "      <th></th>\n",
       "      <th>family_status</th>\n",
       "      <th>family_status_id</th>\n",
       "    </tr>\n",
       "  </thead>\n",
       "  <tbody>\n",
       "    <tr>\n",
       "      <td>0</td>\n",
       "      <td>женат / замужем</td>\n",
       "      <td>0</td>\n",
       "    </tr>\n",
       "    <tr>\n",
       "      <td>1</td>\n",
       "      <td>гражданский брак</td>\n",
       "      <td>1</td>\n",
       "    </tr>\n",
       "    <tr>\n",
       "      <td>2</td>\n",
       "      <td>вдовец / вдова</td>\n",
       "      <td>2</td>\n",
       "    </tr>\n",
       "    <tr>\n",
       "      <td>3</td>\n",
       "      <td>в разводе</td>\n",
       "      <td>3</td>\n",
       "    </tr>\n",
       "    <tr>\n",
       "      <td>4</td>\n",
       "      <td>Не женат / не замужем</td>\n",
       "      <td>4</td>\n",
       "    </tr>\n",
       "  </tbody>\n",
       "</table>\n",
       "</div>"
      ],
      "text/plain": [
       "           family_status  family_status_id\n",
       "0        женат / замужем                 0\n",
       "1       гражданский брак                 1\n",
       "2         вдовец / вдова                 2\n",
       "3              в разводе                 3\n",
       "4  Не женат / не замужем                 4"
      ]
     },
     "execution_count": 21,
     "metadata": {},
     "output_type": "execute_result"
    }
   ],
   "source": [
    "# создадим словарь со статусом семейного положения и его айди\n",
    "\n",
    "family_status_dict = data[['family_status','family_status_id']]\n",
    "family_status_dict = family_status_dict.drop_duplicates().reset_index(drop=True) # удалили дубли\n",
    "\n",
    "# смотрим на словарь, отсортированный по типу айди\n",
    "\n",
    "family_status_dict.sort_values(by = 'family_status_id')"
   ]
  },
  {
   "cell_type": "code",
   "execution_count": 22,
   "metadata": {},
   "outputs": [
    {
     "data": {
      "text/plain": [
       "женат / замужем          11143\n",
       "гражданский брак          3735\n",
       "вдовец / вдова            2525\n",
       "в разводе                 1083\n",
       "не женат / не замужем      865\n",
       "Name: category_family_status, dtype: int64"
      ]
     },
     "execution_count": 22,
     "metadata": {},
     "output_type": "execute_result"
    }
   ],
   "source": [
    "# создадим функцию для определения категорий клиентов по семейному положению\n",
    "\n",
    "def category_family_status(family_status_id):\n",
    "    if family_status_id == 0:\n",
    "        return 'женат / замужем'\n",
    "    if family_status_id == 1:\n",
    "        return 'гражданский брак'\n",
    "    if family_status_id == 2:\n",
    "        return 'не женат / не замужем'\n",
    "    if family_status_id == 3:\n",
    "        return 'в разводе'\n",
    "    if family_status_id == 4:\n",
    "        return 'вдовец / вдова'\n",
    "\n",
    "# применим функцию к датасету и создадим новый столбец с новыми категориями\n",
    "\n",
    "data['category_family_status'] = data['family_status_id'].apply(category_family_status)\n",
    "\n",
    "# посчитаем, какое количество входит в каждую категорию\n",
    "\n",
    "data['category_family_status'].value_counts()"
   ]
  },
  {
   "cell_type": "markdown",
   "metadata": {},
   "source": [
    "***Вывод***\n",
    "\n",
    "Мы поделили заёмщиков по категориям.\n",
    "\n",
    "Почти половину кредитов берут те, кто состоит в браке."
   ]
  },
  {
   "cell_type": "markdown",
   "metadata": {},
   "source": [
    "**Уровень дохода**"
   ]
  },
  {
   "cell_type": "code",
   "execution_count": 23,
   "metadata": {},
   "outputs": [
    {
     "data": {
      "text/plain": [
       "count      19351\n",
       "mean      167421\n",
       "std       102971\n",
       "min        20667\n",
       "25%       103053\n",
       "50%       145017\n",
       "75%       203434\n",
       "max      2265604\n",
       "Name: total_income, dtype: int64"
      ]
     },
     "execution_count": 23,
     "metadata": {},
     "output_type": "execute_result"
    }
   ],
   "source": [
    "# посмотрим на столбец совокупного дохода методом describe(), чтобы понять как распределились данные (средние значения и т.д.)\n",
    "\n",
    "data['total_income'].describe().astype('int')"
   ]
  },
  {
   "cell_type": "markdown",
   "metadata": {},
   "source": [
    "Учитывая, что в данных есть \"выбросы\" с очень большими значениями по отношению к остальным (максимальный доход 2265604), среднее значение может быть отклонено от реальных результов, поэтому ориентируемся на перцентили и медиану (50%):\n",
    "- 25% - 103053 - возьмём в качестве границы для низкого дохода,\n",
    "- 50% - 145017 - граница для среднего дохода,\n",
    "- 75% - 203434 - граница для высокого дохода.\n",
    "\n",
    "Выделим 4 категории: низкий, средний, высокий и очень высокий."
   ]
  },
  {
   "cell_type": "code",
   "execution_count": 24,
   "metadata": {},
   "outputs": [
    {
     "data": {
      "text/plain": [
       "0    очень высокий доход\n",
       "1          средний доход\n",
       "2          высокий доход\n",
       "3    очень высокий доход\n",
       "4          высокий доход\n",
       "Name: category_income, dtype: object"
      ]
     },
     "execution_count": 24,
     "metadata": {},
     "output_type": "execute_result"
    }
   ],
   "source": [
    "# создадим функцию для группировки клиентов по уровню дохода\n",
    "\n",
    "def category_income(total_income):\n",
    "    if total_income <= 103053:\n",
    "        return 'низкий доход'\n",
    "    elif total_income <= 145017:\n",
    "        return 'средний доход'\n",
    "    elif total_income <= 203434:\n",
    "        return 'высокий доход'\n",
    "    else:\n",
    "        return 'очень высокий доход'\n",
    "    \n",
    "# формируем новый столбец с названиями типов дохода \n",
    "\n",
    "data['category_income'] = data['total_income'].apply(category_income)\n",
    "\n",
    "# проверим на первых строках, что всё получилось и мы видим распределение дохода по категориям\n",
    "\n",
    "data['category_income'].head()"
   ]
  },
  {
   "cell_type": "markdown",
   "metadata": {},
   "source": [
    "**Цели кредита**\n",
    "\n",
    "По ключевым словам из столбца \"цель кредита\" распределии всех клиентов в основные крупные категории. Затем посчитаем количество в каждой."
   ]
  },
  {
   "cell_type": "code",
   "execution_count": 25,
   "metadata": {},
   "outputs": [
    {
     "data": {
      "text/plain": [
       "недвижимость    9758\n",
       "автомобиль      3897\n",
       "образование     3597\n",
       "свадьба         2099\n",
       "Name: category_purpose, dtype: int64"
      ]
     },
     "execution_count": 25,
     "metadata": {},
     "output_type": "execute_result"
    }
   ],
   "source": [
    "# создадим функцию, которая категоризирует цели кредита по основе слова из столбца целей\n",
    "\n",
    "def category_purpose(purpose):\n",
    "    if 'недвиж' in purpose:\n",
    "        return 'недвижимость' \n",
    "    if 'жиль' in purpose:\n",
    "        return 'недвижимость'\n",
    "    if 'свадьб' in purpose:\n",
    "        return 'свадьба'\n",
    "    if 'автом' in purpose:\n",
    "        return 'автомобиль'\n",
    "    if 'образ' in purpose:\n",
    "        return 'образование'\n",
    "\n",
    "# создадим новый столбец с категориями целей, выделенными с помощью функции\n",
    "\n",
    "data['category_purpose'] = data['purpose'].apply(category_purpose)\n",
    "\n",
    "# проверяем\n",
    "\n",
    "data['category_purpose'].value_counts()"
   ]
  },
  {
   "cell_type": "markdown",
   "metadata": {},
   "source": [
    "***Вывод***\n",
    "\n",
    "Видим, что кредит на недвижимость берут в 3 раза чаще, чем на автомобиль и образование."
   ]
  },
  {
   "cell_type": "markdown",
   "metadata": {},
   "source": [
    "### Общие выводы по разделу\n",
    "\n",
    "1. Больше половины кредитов взяли клиенты, у которых нет детей.\n",
    "2. Почти половину кредитов берут те, кто состоит в браке.\n",
    "3. Чаще всего клиенты банка берут кредиты на недвижимость и жильё."
   ]
  },
  {
   "cell_type": "markdown",
   "metadata": {},
   "source": [
    "## Шаг 3. Анализируем полученную информацию"
   ]
  },
  {
   "cell_type": "markdown",
   "metadata": {},
   "source": [
    "### Есть ли зависимость между наличием детей и возвратом кредита в срок"
   ]
  },
  {
   "cell_type": "code",
   "execution_count": 26,
   "metadata": {},
   "outputs": [
    {
     "data": {
      "text/html": [
       "<div>\n",
       "<style scoped>\n",
       "    .dataframe tbody tr th:only-of-type {\n",
       "        vertical-align: middle;\n",
       "    }\n",
       "\n",
       "    .dataframe tbody tr th {\n",
       "        vertical-align: top;\n",
       "    }\n",
       "\n",
       "    .dataframe thead th {\n",
       "        text-align: right;\n",
       "    }\n",
       "</style>\n",
       "<table border=\"1\" class=\"dataframe\">\n",
       "  <thead>\n",
       "    <tr style=\"text-align: right;\">\n",
       "      <th></th>\n",
       "      <th>category_children</th>\n",
       "      <th>children</th>\n",
       "      <th>debt</th>\n",
       "      <th>debt_ratio_%</th>\n",
       "    </tr>\n",
       "  </thead>\n",
       "  <tbody>\n",
       "    <tr>\n",
       "      <td>3</td>\n",
       "      <td>нет детей</td>\n",
       "      <td>12710</td>\n",
       "      <td>952</td>\n",
       "      <td>7.49</td>\n",
       "    </tr>\n",
       "    <tr>\n",
       "      <td>1</td>\n",
       "      <td>2-3 ребёнка</td>\n",
       "      <td>2189</td>\n",
       "      <td>200</td>\n",
       "      <td>9.14</td>\n",
       "    </tr>\n",
       "    <tr>\n",
       "      <td>0</td>\n",
       "      <td>1 ребёнок</td>\n",
       "      <td>4343</td>\n",
       "      <td>408</td>\n",
       "      <td>9.39</td>\n",
       "    </tr>\n",
       "    <tr>\n",
       "      <td>2</td>\n",
       "      <td>больше 3-х детей</td>\n",
       "      <td>109</td>\n",
       "      <td>11</td>\n",
       "      <td>10.09</td>\n",
       "    </tr>\n",
       "  </tbody>\n",
       "</table>\n",
       "</div>"
      ],
      "text/plain": [
       "  category_children  children  debt  debt_ratio_%\n",
       "3         нет детей     12710   952          7.49\n",
       "1       2-3 ребёнка      2189   200          9.14\n",
       "0         1 ребёнок      4343   408          9.39\n",
       "2  больше 3-х детей       109    11         10.09"
      ]
     },
     "execution_count": 26,
     "metadata": {},
     "output_type": "execute_result"
    }
   ],
   "source": [
    "# используем созданный ранее столбец с категориями клиентов по количеству детей 'category_children'\n",
    "# сгруппируем датасет по нему, а также с помощью метода agg посчитаем количество кредиторов в каждой категории и сумму долгов\n",
    "\n",
    "data_children = data.groupby('category_children').agg({'children':'count', 'debt':'sum'}).reset_index()\n",
    "\n",
    "# создадим новый столбец, который будет показывать процент невозврата кредита в каждой категории\n",
    "\n",
    "data_children['debt_ratio_%'] = data_children['debt'] / data_children['children'] * 100\n",
    "data_children.round(2).sort_values('debt_ratio_%')"
   ]
  },
  {
   "cell_type": "markdown",
   "metadata": {},
   "source": [
    "***Вывод по количеству детей***\n",
    "\n",
    "Самый высокий процент невозврата у семей, которые растят больше **трёх детей**. "
   ]
  },
  {
   "cell_type": "markdown",
   "metadata": {},
   "source": [
    "### Есть ли зависимость между семейным положением и возвратом кредита в срок"
   ]
  },
  {
   "cell_type": "code",
   "execution_count": 27,
   "metadata": {},
   "outputs": [
    {
     "data": {
      "text/html": [
       "<div>\n",
       "<style scoped>\n",
       "    .dataframe tbody tr th:only-of-type {\n",
       "        vertical-align: middle;\n",
       "    }\n",
       "\n",
       "    .dataframe tbody tr th {\n",
       "        vertical-align: top;\n",
       "    }\n",
       "\n",
       "    .dataframe thead th {\n",
       "        text-align: right;\n",
       "    }\n",
       "</style>\n",
       "<table border=\"1\" class=\"dataframe\">\n",
       "  <thead>\n",
       "    <tr style=\"text-align: right;\">\n",
       "      <th></th>\n",
       "      <th>category_family_status</th>\n",
       "      <th>family_status_id</th>\n",
       "      <th>debt</th>\n",
       "      <th>debt_ratio_%</th>\n",
       "    </tr>\n",
       "  </thead>\n",
       "  <tbody>\n",
       "    <tr>\n",
       "      <td>4</td>\n",
       "      <td>не женат / не замужем</td>\n",
       "      <td>865</td>\n",
       "      <td>56</td>\n",
       "      <td>6.47</td>\n",
       "    </tr>\n",
       "    <tr>\n",
       "      <td>0</td>\n",
       "      <td>в разводе</td>\n",
       "      <td>1083</td>\n",
       "      <td>76</td>\n",
       "      <td>7.02</td>\n",
       "    </tr>\n",
       "    <tr>\n",
       "      <td>3</td>\n",
       "      <td>женат / замужем</td>\n",
       "      <td>11143</td>\n",
       "      <td>846</td>\n",
       "      <td>7.59</td>\n",
       "    </tr>\n",
       "    <tr>\n",
       "      <td>2</td>\n",
       "      <td>гражданский брак</td>\n",
       "      <td>3735</td>\n",
       "      <td>339</td>\n",
       "      <td>9.08</td>\n",
       "    </tr>\n",
       "    <tr>\n",
       "      <td>1</td>\n",
       "      <td>вдовец / вдова</td>\n",
       "      <td>2525</td>\n",
       "      <td>254</td>\n",
       "      <td>10.06</td>\n",
       "    </tr>\n",
       "  </tbody>\n",
       "</table>\n",
       "</div>"
      ],
      "text/plain": [
       "  category_family_status  family_status_id  debt  debt_ratio_%\n",
       "4  не женат / не замужем               865    56          6.47\n",
       "0              в разводе              1083    76          7.02\n",
       "3        женат / замужем             11143   846          7.59\n",
       "2       гражданский брак              3735   339          9.08\n",
       "1         вдовец / вдова              2525   254         10.06"
      ]
     },
     "execution_count": 27,
     "metadata": {},
     "output_type": "execute_result"
    }
   ],
   "source": [
    "# используем созданный ранее столбец с категориями клиентов, распределённых по семейному статусу 'category_family_status'\n",
    "# сгруппируем датасет по нему, а также с помощью метода agg посчитаем количество кредиторов в каждой категории и сумму долгов\n",
    "\n",
    "data_family = data.groupby('category_family_status').agg({'family_status_id':'count', 'debt':'sum'}).reset_index()\n",
    "\n",
    "# создаю новый столбец, который будет показывать процент невозврата кредита в каждой категории\n",
    "\n",
    "data_family['debt_ratio_%'] = data_family['debt'] / data_family['family_status_id'] * 100\n",
    "data_family.round(2).sort_values('debt_ratio_%')"
   ]
  },
  {
   "cell_type": "markdown",
   "metadata": {},
   "source": [
    "***Вывод по семейному положению***\n",
    "\n",
    "По процентному соотношению невозвратов видим, что выше всех оно у **вдовцов**, на втором месте идут пары, состоящие в гражданском браке."
   ]
  },
  {
   "cell_type": "markdown",
   "metadata": {},
   "source": [
    "### Есть ли зависимость между уровнем дохода и возвратом кредита в срок"
   ]
  },
  {
   "cell_type": "code",
   "execution_count": 28,
   "metadata": {},
   "outputs": [
    {
     "data": {
      "text/html": [
       "<div>\n",
       "<style scoped>\n",
       "    .dataframe tbody tr th:only-of-type {\n",
       "        vertical-align: middle;\n",
       "    }\n",
       "\n",
       "    .dataframe tbody tr th {\n",
       "        vertical-align: top;\n",
       "    }\n",
       "\n",
       "    .dataframe thead th {\n",
       "        text-align: right;\n",
       "    }\n",
       "</style>\n",
       "<table border=\"1\" class=\"dataframe\">\n",
       "  <thead>\n",
       "    <tr style=\"text-align: right;\">\n",
       "      <th></th>\n",
       "      <th>category_income</th>\n",
       "      <th>total_income</th>\n",
       "      <th>debt</th>\n",
       "      <th>debt_ratio_%</th>\n",
       "    </tr>\n",
       "  </thead>\n",
       "  <tbody>\n",
       "    <tr>\n",
       "      <td>2</td>\n",
       "      <td>очень высокий доход</td>\n",
       "      <td>4838</td>\n",
       "      <td>341</td>\n",
       "      <td>7.05</td>\n",
       "    </tr>\n",
       "    <tr>\n",
       "      <td>1</td>\n",
       "      <td>низкий доход</td>\n",
       "      <td>4838</td>\n",
       "      <td>383</td>\n",
       "      <td>7.92</td>\n",
       "    </tr>\n",
       "    <tr>\n",
       "      <td>3</td>\n",
       "      <td>средний доход</td>\n",
       "      <td>4838</td>\n",
       "      <td>421</td>\n",
       "      <td>8.70</td>\n",
       "    </tr>\n",
       "    <tr>\n",
       "      <td>0</td>\n",
       "      <td>высокий доход</td>\n",
       "      <td>4837</td>\n",
       "      <td>426</td>\n",
       "      <td>8.81</td>\n",
       "    </tr>\n",
       "  </tbody>\n",
       "</table>\n",
       "</div>"
      ],
      "text/plain": [
       "       category_income  total_income  debt  debt_ratio_%\n",
       "2  очень высокий доход          4838   341          7.05\n",
       "1         низкий доход          4838   383          7.92\n",
       "3        средний доход          4838   421          8.70\n",
       "0        высокий доход          4837   426          8.81"
      ]
     },
     "execution_count": 28,
     "metadata": {},
     "output_type": "execute_result"
    }
   ],
   "source": [
    "# используем созданный ранее столбец с категориями клиентов, распределённых по совокупному доходу 'category_income'\n",
    "# сгруппируем датасет по нему, а также с помощью метода agg посчитаем количество кредиторов в каждой категории и сумму долгов\n",
    "\n",
    "data_income = data.groupby('category_income').agg({'total_income':'count', 'debt':'sum'}).reset_index()\n",
    "\n",
    "# создаю новый столбец, который будет показывать процент невозврата кредита в каждой категории\n",
    "\n",
    "data_income['debt_ratio_%'] = data_income['debt'] / data_income['total_income'] * 100\n",
    "data_income.round(2).sort_values('debt_ratio_%')"
   ]
  },
  {
   "cell_type": "markdown",
   "metadata": {},
   "source": [
    "***Вывод по уровню дохода***\n",
    "\n",
    "Клиенты с **высоким доходом** показывают самый высокий процент невозврата.\n",
    "\n",
    "На втором месте люди со средним доходом, разница между ними всего 0,1."
   ]
  },
  {
   "cell_type": "markdown",
   "metadata": {},
   "source": [
    "### Как разные цели кредита влияют на его возврат в срок"
   ]
  },
  {
   "cell_type": "code",
   "execution_count": 29,
   "metadata": {},
   "outputs": [
    {
     "data": {
      "text/html": [
       "<div>\n",
       "<style scoped>\n",
       "    .dataframe tbody tr th:only-of-type {\n",
       "        vertical-align: middle;\n",
       "    }\n",
       "\n",
       "    .dataframe tbody tr th {\n",
       "        vertical-align: top;\n",
       "    }\n",
       "\n",
       "    .dataframe thead th {\n",
       "        text-align: right;\n",
       "    }\n",
       "</style>\n",
       "<table border=\"1\" class=\"dataframe\">\n",
       "  <thead>\n",
       "    <tr style=\"text-align: right;\">\n",
       "      <th></th>\n",
       "      <th>category_purpose</th>\n",
       "      <th>purpose</th>\n",
       "      <th>debt</th>\n",
       "      <th>debt_ratio_%</th>\n",
       "    </tr>\n",
       "  </thead>\n",
       "  <tbody>\n",
       "    <tr>\n",
       "      <td>1</td>\n",
       "      <td>недвижимость</td>\n",
       "      <td>9758</td>\n",
       "      <td>715</td>\n",
       "      <td>7.33</td>\n",
       "    </tr>\n",
       "    <tr>\n",
       "      <td>3</td>\n",
       "      <td>свадьба</td>\n",
       "      <td>2099</td>\n",
       "      <td>158</td>\n",
       "      <td>7.53</td>\n",
       "    </tr>\n",
       "    <tr>\n",
       "      <td>2</td>\n",
       "      <td>образование</td>\n",
       "      <td>3597</td>\n",
       "      <td>331</td>\n",
       "      <td>9.20</td>\n",
       "    </tr>\n",
       "    <tr>\n",
       "      <td>0</td>\n",
       "      <td>автомобиль</td>\n",
       "      <td>3897</td>\n",
       "      <td>367</td>\n",
       "      <td>9.42</td>\n",
       "    </tr>\n",
       "  </tbody>\n",
       "</table>\n",
       "</div>"
      ],
      "text/plain": [
       "  category_purpose  purpose  debt  debt_ratio_%\n",
       "1     недвижимость     9758   715          7.33\n",
       "3          свадьба     2099   158          7.53\n",
       "2      образование     3597   331          9.20\n",
       "0       автомобиль     3897   367          9.42"
      ]
     },
     "execution_count": 29,
     "metadata": {},
     "output_type": "execute_result"
    }
   ],
   "source": [
    "# используем созданный ранее столбец с категориями клиентов, распределённых по целям кредита 'category_purpose'\n",
    "# сгруппируем датасет по нему, а также с помощью метода agg посчитаем количество кредиторов в каждой категории и сумму долгов\n",
    "\n",
    "data_purpose = data.groupby('category_purpose').agg({'purpose':'count', 'debt':'sum'}).reset_index()\n",
    "\n",
    "# создаю новый столбец, который будет показывать процент невозврата кредита в каждой категории\n",
    "\n",
    "data_purpose['debt_ratio_%'] = data_purpose['debt'] / data_purpose['purpose'] * 100\n",
    "data_purpose.round(2).sort_values('debt_ratio_%')"
   ]
  },
  {
   "cell_type": "markdown",
   "metadata": {},
   "source": [
    "***Вывод по целям кредита***\n",
    "\n",
    "Почти половина от всех взятых кредитов - это кредиты на недвижимость. \n",
    "\n",
    "Если посмотрим на процент кредитов, которые не вернули, то на **автомобили** приходится 9,42% - это выше, чем у всех остальных.\n",
    "С небольшим отрывом в 0,2 на втором месте по невозврату идут кредиты на образование."
   ]
  },
  {
   "cell_type": "markdown",
   "metadata": {},
   "source": [
    "## Шаг 4. Общий вывод"
   ]
  },
  {
   "cell_type": "markdown",
   "metadata": {},
   "source": [
    "1. Самый высокий процент невозврата у семей, имеющих больше **трёх детей** (10%). На втором месте - семьи ***с одним ребёнком*** (9,4%). Наличие детей создаёт ощутимую нагрузку на семейный бюджет. Чем больше детей, тем труднее выплачивать кредит. \n",
    "\n",
    "Это подтверждается также и тем фактом, что клиенты без детей возвращают кредит лучше всех (процент невозврата 7,5%).\n",
    "\n",
    "\n",
    "2. Доля невозвратов в зависимости от семейного статуса выше всех у **вдовцов** (10%). Можно было бы предположить, что труднее всего возвращать кредит одиноким, но в противовес им лучше всех справляются с выплатами те, кто не состоит в браке (незамужние - 6,5% и разведённые - 7%). \n",
    "\n",
    "Возможно, что кредит брали на достаточно длительный период из расчёта, что выплачивать его будут из двух источников доходов. Также, возможно, что у вдовцов на попечении остаются дети, а как мы выяснили в первом пункте, наличие детей снижает способность к выплате долга.\n",
    "\n",
    "На втором месте по невозвратам идут пары, состоящие в ***гражданском браке*** (9%). Видимо, отсутствие официального брака влияет на клиентов \"расслабляюще\", у таких пар нет обязательств друг перед другом, нет стимула \"помогать своей семье\". Кредит они выплачивают неохотно.\n",
    "\n",
    "3. Клиенты с **высоким доходом** показывают самый высокий процент невозврата (8,8%). На втором месте люди со ***средним доходом***, разница между ними всего 0,1 (8,7%).\n",
    "\n",
    "Предполагаю, что именно благодаря своим доходам клиенты берут кредиты в надежде без труда их выплатить. Они не привыкли в чём-то нуждаться, поэтому пользуются кредитами для удовлетворения своих потребностей. Возможно, что в итоге оказывается так, что кредитов набрано слишком много, либо они взяты под те цели, которые оказались с течением времени не нужны.\n",
    "\n",
    "Лучше всех возвращают кредиты клиенты с очень высоким доходом (7%). Это может объясняться тем, что таким людям в целом не нужны кредиты и если они их всё-таки берут, то могут почти без проблем вернуть благодаря своим доходам. \n",
    "\n",
    "4. Интересный факт: почти половина от всех взятых кредитов - это кредиты на недвижимость. Это понятно, потому что из перечисленных категорий на недвижимость требуются гораздо более внушительные суммы, и люди обращаются в банк за кредитом. Также в нашей стране принято покупать жильё, а не брать в аренду, как, например, в Европе или Штатах.\n",
    "Возвращают такие кредиты лучше всех (процент невозврата самый низкий - 7,3%). В отличие от других целей наличие жилья является гораздо более критичным для человека, чем автомобиль или траты на свадьбу. \n",
    "\n",
    "Если посмотрим на процент кредитов, которые не вернули, то на **автомобили** приходится 9,4% - это выше, чем у всех остальных. От автомобиля клиенты отказываются легче всего, для большинства людей он не является чем-то крайне необходимым и они вполне могут обойтись без него, если понимают, что выплачивать кредит им тяжело.\n",
    "\n",
    "С небольшим отрывом в 0,2 на втором месте по невозврату идут кредиты на ***образование*** (9,2%). Это интересный момент, т.к. в России по-прежнему ценят наличие высшего образования. Возможно, что часть из этих кредитов взяли на дополнительное образование (второе высшее, аспирантура, курсы повышения квалификации), от которого в итоге отказались. Также, возможно, что кредиты брали те клиенты, у которых не было иного способа платить за своё образование ввиду низких доходов, и в итоге по этой же причине они не смогли выплатить свой кредит.\n",
    "\n"
   ]
  }
 ],
 "metadata": {
  "kernelspec": {
   "display_name": "Python 3",
   "language": "python",
   "name": "python3"
  },
  "language_info": {
   "codemirror_mode": {
    "name": "ipython",
    "version": 3
   },
   "file_extension": ".py",
   "mimetype": "text/x-python",
   "name": "python",
   "nbconvert_exporter": "python",
   "pygments_lexer": "ipython3",
   "version": "3.7.6"
  }
 },
 "nbformat": 4,
 "nbformat_minor": 2
}
