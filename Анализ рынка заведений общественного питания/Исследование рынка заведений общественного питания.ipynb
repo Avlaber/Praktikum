{
 "cells": [
  {
   "cell_type": "markdown",
   "metadata": {},
   "source": [
    "# Аналитика рынка заведений общественного питания Москвы"
   ]
  },
  {
   "cell_type": "markdown",
   "metadata": {},
   "source": [
    "### План:\n",
    "1. Загрузим и изучим данные разными методами, чтобы проверить пропуски, типы данных и познакомиться с самими данными, которые доступны для исследования.\n",
    "\n",
    "\n",
    "2. Проанализируем данные:\n",
    "    - Исследуем соотношение видов объектов общественного питания по количеству.\n",
    "    - Исследуем соотношение сетевых и несетевых заведений по количеству.\n",
    "    - Определим, для какого вида объекта общественного питания характерно сетевое распространение.\n",
    "    - Узнаем, что характерно для сетевых заведений: много заведений с небольшим числом посадочных мест в каждом или мало заведений с большим количеством посадочных мест.\n",
    "    - Для каждого вида объекта общественного питания опишем среднее количество посадочных мест. Определим, какой вид предоставляет в среднем самое большое количество посадочных мест.\n",
    "    - Выделим отдельно информацию об улице из данных адресов.\n",
    "    - Построим график топ-10 улиц по количеству объектов общественного питания и определим, в каких районах Москвы находятся эти улицы.\n",
    "    - Найдём число улиц с одним объектом общественного питания и определим, в каких районах Москвы находятся эти улицы.\n",
    "    - Посмотрим на распределение количества посадочных мест для улиц с большим количеством объектов общественного питания. Выявим закономерности.\n",
    "\n",
    "    Будем использовать методы визуализации данных из библиотек matplotlib и seaborn.\n",
    "    \n",
    "    \n",
    "3. Сформируем выводы и рекомендации о виде заведения, которое планируется открыть, количестве посадочных мест, а также районе расположения. Прокомментируем возможность развития сети."
   ]
  },
  {
   "cell_type": "markdown",
   "metadata": {},
   "source": [
    "<a name=\"researchdata\"></a>\n",
    "\n",
    "## Шаг 1. Откроем файлы с данными и изучим общую информацию"
   ]
  },
  {
   "cell_type": "markdown",
   "metadata": {},
   "source": [
    "Импортируем библиотеки:"
   ]
  },
  {
   "cell_type": "code",
   "execution_count": 1,
   "metadata": {},
   "outputs": [],
   "source": [
    "import pandas as pd\n",
    "import matplotlib.pyplot as plt\n",
    "import seaborn as sns"
   ]
  },
  {
   "cell_type": "markdown",
   "metadata": {},
   "source": [
    "Загружаем файл с данными о заведениях общественного питания в Москве:"
   ]
  },
  {
   "cell_type": "code",
   "execution_count": 2,
   "metadata": {},
   "outputs": [],
   "source": [
    "rest_data = pd.read_csv('/datasets/rest_data.csv') "
   ]
  },
  {
   "cell_type": "markdown",
   "metadata": {},
   "source": [
    "**Посмотрим на общую информацию по датасету**"
   ]
  },
  {
   "cell_type": "code",
   "execution_count": 3,
   "metadata": {},
   "outputs": [
    {
     "name": "stdout",
     "output_type": "stream",
     "text": [
      "<class 'pandas.core.frame.DataFrame'>\n",
      "RangeIndex: 15366 entries, 0 to 15365\n",
      "Data columns (total 6 columns):\n",
      "id             15366 non-null int64\n",
      "object_name    15366 non-null object\n",
      "chain          15366 non-null object\n",
      "object_type    15366 non-null object\n",
      "address        15366 non-null object\n",
      "number         15366 non-null int64\n",
      "dtypes: int64(2), object(4)\n",
      "memory usage: 720.4+ KB\n"
     ]
    }
   ],
   "source": [
    "rest_data.info()"
   ]
  },
  {
   "cell_type": "markdown",
   "metadata": {},
   "source": [
    "**Проверим дубликаты**"
   ]
  },
  {
   "cell_type": "code",
   "execution_count": 4,
   "metadata": {},
   "outputs": [
    {
     "data": {
      "text/plain": [
       "0"
      ]
     },
     "execution_count": 4,
     "metadata": {},
     "output_type": "execute_result"
    }
   ],
   "source": [
    "rest_data.duplicated().sum()"
   ]
  },
  {
   "cell_type": "markdown",
   "metadata": {},
   "source": [
    "Дубликатов и пропусков нет."
   ]
  },
  {
   "cell_type": "markdown",
   "metadata": {},
   "source": [
    "**Посмотрим на описательные статистики датасета**"
   ]
  },
  {
   "cell_type": "code",
   "execution_count": 7,
   "metadata": {},
   "outputs": [
    {
     "data": {
      "text/html": [
       "<div>\n",
       "<style scoped>\n",
       "    .dataframe tbody tr th:only-of-type {\n",
       "        vertical-align: middle;\n",
       "    }\n",
       "\n",
       "    .dataframe tbody tr th {\n",
       "        vertical-align: top;\n",
       "    }\n",
       "\n",
       "    .dataframe thead th {\n",
       "        text-align: right;\n",
       "    }\n",
       "</style>\n",
       "<table border=\"1\" class=\"dataframe\">\n",
       "  <thead>\n",
       "    <tr style=\"text-align: right;\">\n",
       "      <th></th>\n",
       "      <th>id</th>\n",
       "      <th>number</th>\n",
       "    </tr>\n",
       "  </thead>\n",
       "  <tbody>\n",
       "    <tr>\n",
       "      <td>count</td>\n",
       "      <td>15366.000000</td>\n",
       "      <td>15366.000000</td>\n",
       "    </tr>\n",
       "    <tr>\n",
       "      <td>mean</td>\n",
       "      <td>119720.066901</td>\n",
       "      <td>59.547182</td>\n",
       "    </tr>\n",
       "    <tr>\n",
       "      <td>std</td>\n",
       "      <td>73036.130732</td>\n",
       "      <td>74.736833</td>\n",
       "    </tr>\n",
       "    <tr>\n",
       "      <td>min</td>\n",
       "      <td>838.000000</td>\n",
       "      <td>0.000000</td>\n",
       "    </tr>\n",
       "    <tr>\n",
       "      <td>25%</td>\n",
       "      <td>28524.000000</td>\n",
       "      <td>12.000000</td>\n",
       "    </tr>\n",
       "    <tr>\n",
       "      <td>50%</td>\n",
       "      <td>144974.500000</td>\n",
       "      <td>40.000000</td>\n",
       "    </tr>\n",
       "    <tr>\n",
       "      <td>75%</td>\n",
       "      <td>184262.250000</td>\n",
       "      <td>80.000000</td>\n",
       "    </tr>\n",
       "    <tr>\n",
       "      <td>max</td>\n",
       "      <td>223439.000000</td>\n",
       "      <td>1700.000000</td>\n",
       "    </tr>\n",
       "  </tbody>\n",
       "</table>\n",
       "</div>"
      ],
      "text/plain": [
       "                  id        number\n",
       "count  15366.000000   15366.000000\n",
       "mean   119720.066901  59.547182   \n",
       "std    73036.130732   74.736833   \n",
       "min    838.000000     0.000000    \n",
       "25%    28524.000000   12.000000   \n",
       "50%    144974.500000  40.000000   \n",
       "75%    184262.250000  80.000000   \n",
       "max    223439.000000  1700.000000 "
      ]
     },
     "execution_count": 7,
     "metadata": {},
     "output_type": "execute_result"
    }
   ],
   "source": [
    "rest_data.describe()"
   ]
  },
  {
   "cell_type": "markdown",
   "metadata": {},
   "source": [
    "**Посмотрим на сам датасет**"
   ]
  },
  {
   "cell_type": "code",
   "execution_count": 8,
   "metadata": {},
   "outputs": [
    {
     "data": {
      "text/html": [
       "<div>\n",
       "<style scoped>\n",
       "    .dataframe tbody tr th:only-of-type {\n",
       "        vertical-align: middle;\n",
       "    }\n",
       "\n",
       "    .dataframe tbody tr th {\n",
       "        vertical-align: top;\n",
       "    }\n",
       "\n",
       "    .dataframe thead th {\n",
       "        text-align: right;\n",
       "    }\n",
       "</style>\n",
       "<table border=\"1\" class=\"dataframe\">\n",
       "  <thead>\n",
       "    <tr style=\"text-align: right;\">\n",
       "      <th></th>\n",
       "      <th>id</th>\n",
       "      <th>object_name</th>\n",
       "      <th>chain</th>\n",
       "      <th>object_type</th>\n",
       "      <th>address</th>\n",
       "      <th>number</th>\n",
       "    </tr>\n",
       "  </thead>\n",
       "  <tbody>\n",
       "    <tr>\n",
       "      <td>0</td>\n",
       "      <td>151635</td>\n",
       "      <td>СМЕТАНА</td>\n",
       "      <td>нет</td>\n",
       "      <td>кафе</td>\n",
       "      <td>город Москва, улица Егора Абакумова, дом 9</td>\n",
       "      <td>48</td>\n",
       "    </tr>\n",
       "    <tr>\n",
       "      <td>1</td>\n",
       "      <td>77874</td>\n",
       "      <td>Родник</td>\n",
       "      <td>нет</td>\n",
       "      <td>кафе</td>\n",
       "      <td>город Москва, улица Талалихина, дом 2/1, корпус 1</td>\n",
       "      <td>35</td>\n",
       "    </tr>\n",
       "    <tr>\n",
       "      <td>2</td>\n",
       "      <td>24309</td>\n",
       "      <td>Кафе «Академия»</td>\n",
       "      <td>нет</td>\n",
       "      <td>кафе</td>\n",
       "      <td>город Москва, Абельмановская улица, дом 6</td>\n",
       "      <td>95</td>\n",
       "    </tr>\n",
       "    <tr>\n",
       "      <td>3</td>\n",
       "      <td>21894</td>\n",
       "      <td>ПИЦЦЕТОРИЯ</td>\n",
       "      <td>да</td>\n",
       "      <td>кафе</td>\n",
       "      <td>город Москва, Абрамцевская улица, дом 1</td>\n",
       "      <td>40</td>\n",
       "    </tr>\n",
       "    <tr>\n",
       "      <td>4</td>\n",
       "      <td>119365</td>\n",
       "      <td>Кафе «Вишневая метель»</td>\n",
       "      <td>нет</td>\n",
       "      <td>кафе</td>\n",
       "      <td>город Москва, Абрамцевская улица, дом 9, корпус 1</td>\n",
       "      <td>50</td>\n",
       "    </tr>\n",
       "    <tr>\n",
       "      <td>5</td>\n",
       "      <td>27429</td>\n",
       "      <td>СТОЛ. ПРИ ГОУ СОШ № 1051</td>\n",
       "      <td>нет</td>\n",
       "      <td>столовая</td>\n",
       "      <td>город Москва, Абрамцевская улица, дом 15, корпус 1</td>\n",
       "      <td>240</td>\n",
       "    </tr>\n",
       "    <tr>\n",
       "      <td>6</td>\n",
       "      <td>148815</td>\n",
       "      <td>Брусника</td>\n",
       "      <td>да</td>\n",
       "      <td>кафе</td>\n",
       "      <td>город Москва, переулок Сивцев Вражек, дом 6/2</td>\n",
       "      <td>10</td>\n",
       "    </tr>\n",
       "    <tr>\n",
       "      <td>7</td>\n",
       "      <td>20957</td>\n",
       "      <td>Буфет МТУСИ</td>\n",
       "      <td>нет</td>\n",
       "      <td>столовая</td>\n",
       "      <td>город Москва, Авиамоторная улица, дом 8, строение 1</td>\n",
       "      <td>90</td>\n",
       "    </tr>\n",
       "    <tr>\n",
       "      <td>8</td>\n",
       "      <td>20958</td>\n",
       "      <td>КПФ СЕМЬЯ-1</td>\n",
       "      <td>нет</td>\n",
       "      <td>столовая</td>\n",
       "      <td>город Москва, Авиамоторная улица, дом 8, строение 1</td>\n",
       "      <td>150</td>\n",
       "    </tr>\n",
       "    <tr>\n",
       "      <td>9</td>\n",
       "      <td>28858</td>\n",
       "      <td>Столовая МТУСИ</td>\n",
       "      <td>нет</td>\n",
       "      <td>столовая</td>\n",
       "      <td>город Москва, Авиамоторная улица, дом 8, строение 1</td>\n",
       "      <td>120</td>\n",
       "    </tr>\n",
       "  </tbody>\n",
       "</table>\n",
       "</div>"
      ],
      "text/plain": [
       "       id               object_name chain object_type  \\\n",
       "0  151635  СМЕТАНА                   нет   кафе         \n",
       "1  77874   Родник                    нет   кафе         \n",
       "2  24309   Кафе «Академия»           нет   кафе         \n",
       "3  21894   ПИЦЦЕТОРИЯ                да    кафе         \n",
       "4  119365  Кафе «Вишневая метель»    нет   кафе         \n",
       "5  27429   СТОЛ. ПРИ ГОУ СОШ № 1051  нет   столовая     \n",
       "6  148815  Брусника                  да    кафе         \n",
       "7  20957   Буфет МТУСИ               нет   столовая     \n",
       "8  20958   КПФ СЕМЬЯ-1               нет   столовая     \n",
       "9  28858   Столовая МТУСИ            нет   столовая     \n",
       "\n",
       "                                               address  number  \n",
       "0  город Москва, улица Егора Абакумова, дом 9           48      \n",
       "1  город Москва, улица Талалихина, дом 2/1, корпус 1    35      \n",
       "2  город Москва, Абельмановская улица, дом 6            95      \n",
       "3  город Москва, Абрамцевская улица, дом 1              40      \n",
       "4  город Москва, Абрамцевская улица, дом 9, корпус 1    50      \n",
       "5  город Москва, Абрамцевская улица, дом 15, корпус 1   240     \n",
       "6  город Москва, переулок Сивцев Вражек, дом 6/2        10      \n",
       "7  город Москва, Авиамоторная улица, дом 8, строение 1  90      \n",
       "8  город Москва, Авиамоторная улица, дом 8, строение 1  150     \n",
       "9  город Москва, Авиамоторная улица, дом 8, строение 1  120     "
      ]
     },
     "execution_count": 8,
     "metadata": {},
     "output_type": "execute_result"
    }
   ],
   "source": [
    "rest_data.head(10)"
   ]
  },
  {
   "cell_type": "markdown",
   "metadata": {},
   "source": [
    "### Вывод\n",
    "\n",
    "1. Пропусков и дубликатов в таблицах нет.\n",
    "\n",
    "2. Типы данных соответствуют указанным данным.\n",
    "\n",
    "3. Стоит переименовать столбец number для соответствия данным названию столбца."
   ]
  },
  {
   "cell_type": "markdown",
   "metadata": {},
   "source": [
    "**Переименуем столбец number**"
   ]
  },
  {
   "cell_type": "code",
   "execution_count": 9,
   "metadata": {},
   "outputs": [
    {
     "data": {
      "text/html": [
       "<div>\n",
       "<style scoped>\n",
       "    .dataframe tbody tr th:only-of-type {\n",
       "        vertical-align: middle;\n",
       "    }\n",
       "\n",
       "    .dataframe tbody tr th {\n",
       "        vertical-align: top;\n",
       "    }\n",
       "\n",
       "    .dataframe thead th {\n",
       "        text-align: right;\n",
       "    }\n",
       "</style>\n",
       "<table border=\"1\" class=\"dataframe\">\n",
       "  <thead>\n",
       "    <tr style=\"text-align: right;\">\n",
       "      <th></th>\n",
       "      <th>id</th>\n",
       "      <th>object_name</th>\n",
       "      <th>chain</th>\n",
       "      <th>object_type</th>\n",
       "      <th>address</th>\n",
       "      <th>seats_count</th>\n",
       "    </tr>\n",
       "  </thead>\n",
       "  <tbody>\n",
       "    <tr>\n",
       "      <td>0</td>\n",
       "      <td>151635</td>\n",
       "      <td>СМЕТАНА</td>\n",
       "      <td>нет</td>\n",
       "      <td>кафе</td>\n",
       "      <td>город Москва, улица Егора Абакумова, дом 9</td>\n",
       "      <td>48</td>\n",
       "    </tr>\n",
       "    <tr>\n",
       "      <td>1</td>\n",
       "      <td>77874</td>\n",
       "      <td>Родник</td>\n",
       "      <td>нет</td>\n",
       "      <td>кафе</td>\n",
       "      <td>город Москва, улица Талалихина, дом 2/1, корпус 1</td>\n",
       "      <td>35</td>\n",
       "    </tr>\n",
       "    <tr>\n",
       "      <td>2</td>\n",
       "      <td>24309</td>\n",
       "      <td>Кафе «Академия»</td>\n",
       "      <td>нет</td>\n",
       "      <td>кафе</td>\n",
       "      <td>город Москва, Абельмановская улица, дом 6</td>\n",
       "      <td>95</td>\n",
       "    </tr>\n",
       "    <tr>\n",
       "      <td>3</td>\n",
       "      <td>21894</td>\n",
       "      <td>ПИЦЦЕТОРИЯ</td>\n",
       "      <td>да</td>\n",
       "      <td>кафе</td>\n",
       "      <td>город Москва, Абрамцевская улица, дом 1</td>\n",
       "      <td>40</td>\n",
       "    </tr>\n",
       "    <tr>\n",
       "      <td>4</td>\n",
       "      <td>119365</td>\n",
       "      <td>Кафе «Вишневая метель»</td>\n",
       "      <td>нет</td>\n",
       "      <td>кафе</td>\n",
       "      <td>город Москва, Абрамцевская улица, дом 9, корпус 1</td>\n",
       "      <td>50</td>\n",
       "    </tr>\n",
       "  </tbody>\n",
       "</table>\n",
       "</div>"
      ],
      "text/plain": [
       "       id             object_name chain object_type  \\\n",
       "0  151635  СМЕТАНА                 нет   кафе         \n",
       "1  77874   Родник                  нет   кафе         \n",
       "2  24309   Кафе «Академия»         нет   кафе         \n",
       "3  21894   ПИЦЦЕТОРИЯ              да    кафе         \n",
       "4  119365  Кафе «Вишневая метель»  нет   кафе         \n",
       "\n",
       "                                             address  seats_count  \n",
       "0  город Москва, улица Егора Абакумова, дом 9         48           \n",
       "1  город Москва, улица Талалихина, дом 2/1, корпус 1  35           \n",
       "2  город Москва, Абельмановская улица, дом 6          95           \n",
       "3  город Москва, Абрамцевская улица, дом 1            40           \n",
       "4  город Москва, Абрамцевская улица, дом 9, корпус 1  50           "
      ]
     },
     "execution_count": 9,
     "metadata": {},
     "output_type": "execute_result"
    }
   ],
   "source": [
    "rest_data = rest_data.rename(columns={'number': 'seats_count'})\n",
    "\n",
    "rest_data.head()"
   ]
  },
  {
   "cell_type": "markdown",
   "metadata": {},
   "source": [
    "<a name=\"analysis\"></a>\n",
    "\n",
    "## Шаг 2. Анализ данных\n",
    "\n",
    "1. Исследуем соотношение видов объектов общественного питания по количеству.\n",
    "1. Исследуем соотношение сетевых и несетевых заведений по количеству.\n",
    "1. Определим, для какого вида объекта общественного питания характерно сетевое распространение.\n",
    "1. Узнаем, что характерно для сетевых заведений: много заведений с небольшим числом посадочных мест в каждом или мало заведений с большим количеством посадочных мест.\n",
    "1. Для каждого вида объекта общественного питания опишем среднее количество посадочных мест. Определим, какой вид предоставляет в среднем самое большое количество посадочных мест.\n",
    "1. Выделим отдельно информацию об улице из данных адресов.\n",
    "1. Построим график топ-10 улиц по количеству объектов общественного питания и определим, в каких районах Москвы находятся эти улицы.\n",
    "1. Найдём число улиц с одним объектом общественного питания и определим, в каких районах Москвы находятся эти улицы.\n",
    "1. Посмотрим на распределение количества посадочных мест для улиц с большим количеством объектов общественного питания. Выявим закономерности."
   ]
  },
  {
   "cell_type": "markdown",
   "metadata": {},
   "source": [
    "<a name=\"objecttyperatio\"></a>\n",
    "\n",
    "**1. Исследуем соотношение видов объектов общественного питания по количеству**"
   ]
  },
  {
   "cell_type": "markdown",
   "metadata": {},
   "source": [
    "Посчитаем количество каждого вида объекта общественного питания:"
   ]
  },
  {
   "cell_type": "code",
   "execution_count": 10,
   "metadata": {},
   "outputs": [
    {
     "data": {
      "text/html": [
       "<div>\n",
       "<style scoped>\n",
       "    .dataframe tbody tr th:only-of-type {\n",
       "        vertical-align: middle;\n",
       "    }\n",
       "\n",
       "    .dataframe tbody tr th {\n",
       "        vertical-align: top;\n",
       "    }\n",
       "\n",
       "    .dataframe thead th {\n",
       "        text-align: right;\n",
       "    }\n",
       "</style>\n",
       "<table border=\"1\" class=\"dataframe\">\n",
       "  <thead>\n",
       "    <tr style=\"text-align: right;\">\n",
       "      <th></th>\n",
       "      <th>object_type</th>\n",
       "      <th>object_count</th>\n",
       "    </tr>\n",
       "  </thead>\n",
       "  <tbody>\n",
       "    <tr>\n",
       "      <td>0</td>\n",
       "      <td>кафе</td>\n",
       "      <td>6099</td>\n",
       "    </tr>\n",
       "    <tr>\n",
       "      <td>1</td>\n",
       "      <td>столовая</td>\n",
       "      <td>2587</td>\n",
       "    </tr>\n",
       "    <tr>\n",
       "      <td>2</td>\n",
       "      <td>ресторан</td>\n",
       "      <td>2285</td>\n",
       "    </tr>\n",
       "    <tr>\n",
       "      <td>3</td>\n",
       "      <td>предприятие быстрого обслуживания</td>\n",
       "      <td>1923</td>\n",
       "    </tr>\n",
       "    <tr>\n",
       "      <td>4</td>\n",
       "      <td>бар</td>\n",
       "      <td>856</td>\n",
       "    </tr>\n",
       "    <tr>\n",
       "      <td>5</td>\n",
       "      <td>буфет</td>\n",
       "      <td>585</td>\n",
       "    </tr>\n",
       "    <tr>\n",
       "      <td>6</td>\n",
       "      <td>кафетерий</td>\n",
       "      <td>398</td>\n",
       "    </tr>\n",
       "    <tr>\n",
       "      <td>7</td>\n",
       "      <td>закусочная</td>\n",
       "      <td>360</td>\n",
       "    </tr>\n",
       "    <tr>\n",
       "      <td>8</td>\n",
       "      <td>магазин (отдел кулинарии)</td>\n",
       "      <td>273</td>\n",
       "    </tr>\n",
       "  </tbody>\n",
       "</table>\n",
       "</div>"
      ],
      "text/plain": [
       "                         object_type  object_count\n",
       "0  кафе                               6099        \n",
       "1  столовая                           2587        \n",
       "2  ресторан                           2285        \n",
       "3  предприятие быстрого обслуживания  1923        \n",
       "4  бар                                856         \n",
       "5  буфет                              585         \n",
       "6  кафетерий                          398         \n",
       "7  закусочная                         360         \n",
       "8  магазин (отдел кулинарии)          273         "
      ]
     },
     "execution_count": 10,
     "metadata": {},
     "output_type": "execute_result"
    }
   ],
   "source": [
    "object_type_count = rest_data['object_type'].value_counts().reset_index()\n",
    "object_type_count.columns = ['object_type', 'object_count']\n",
    "\n",
    "object_type_count"
   ]
  },
  {
   "cell_type": "markdown",
   "metadata": {},
   "source": [
    "Визуализируем полученный результат в виде графика:"
   ]
  },
  {
   "cell_type": "code",
   "execution_count": 11,
   "metadata": {},
   "outputs": [
    {
     "data": {
      "image/png": "[encoded data removed]",
      "text/plain": [
       "<Figure size 720x360 with 1 Axes>"
      ]
     },
     "metadata": {},
     "output_type": "display_data"
    }
   ],
   "source": [
    "sns.set(style=\"whitegrid\")\n",
    "f, ax = plt.subplots(figsize = (10, 5))\n",
    "\n",
    "sns.barplot(data = object_type_count,\n",
    "            x = 'object_count', \n",
    "            y = 'object_type',\n",
    "            palette = 'hls')\n",
    "\n",
    "plt.title('Соотношение видов объектов общественного питания по количеству', pad=20)\n",
    "plt.xlabel('Количество', labelpad = 15)\n",
    "plt.ylabel('Вид объекта', labelpad = 15)\n",
    "plt.show();"
   ]
  },
  {
   "cell_type": "markdown",
   "metadata": {},
   "source": [
    "Дополнительно посмотрим на распределение доли заведений с помощью круговой диаграммы:"
   ]
  },
  {
   "cell_type": "code",
   "execution_count": 12,
   "metadata": {},
   "outputs": [
    {
     "data": {
      "image/png": "[encoded data removed]",
      "text/plain": [
       "<Figure size 432x432 with 1 Axes>"
      ]
     },
     "metadata": {},
     "output_type": "display_data"
    }
   ],
   "source": [
    "f, ax = plt.subplots(figsize = (6, 6))\n",
    "\n",
    "plt.pie(object_type_count['object_count'],\n",
    "       labels = object_type_count['object_type'],\n",
    "       autopct = \"%0.f%%\",\n",
    "       pctdistance=1.1,\n",
    "       labeldistance=1.25)\n",
    "\n",
    "plt.title('Соотношение видов объектов общественного питания', pad=20)\n",
    "plt.show();"
   ]
  },
  {
   "cell_type": "markdown",
   "metadata": {},
   "source": [
    "***Выводы***\n",
    "\n",
    "Кафе - абсолютный лидер по типу объекта общественного питания в Москве.\n",
    "\n",
    "В три раза меньше в городе столовых, ресторанов и предприятий быстрого обслуживания.\n",
    "\n",
    "Совсем мало закусочных и отделов кулинарии в магазинах."
   ]
  },
  {
   "cell_type": "markdown",
   "metadata": {},
   "source": [
    "<a name=\"chainratio\"></a>\n",
    "\n",
    "**2. Исследуем соотношение сетевых и несетевых заведений по количеству**"
   ]
  },
  {
   "cell_type": "markdown",
   "metadata": {},
   "source": [
    "Посчитаем количество каждого вида объекта общественного питания:"
   ]
  },
  {
   "cell_type": "code",
   "execution_count": 13,
   "metadata": {},
   "outputs": [
    {
     "data": {
      "text/html": [
       "<div>\n",
       "<style scoped>\n",
       "    .dataframe tbody tr th:only-of-type {\n",
       "        vertical-align: middle;\n",
       "    }\n",
       "\n",
       "    .dataframe tbody tr th {\n",
       "        vertical-align: top;\n",
       "    }\n",
       "\n",
       "    .dataframe thead th {\n",
       "        text-align: right;\n",
       "    }\n",
       "</style>\n",
       "<table border=\"1\" class=\"dataframe\">\n",
       "  <thead>\n",
       "    <tr style=\"text-align: right;\">\n",
       "      <th></th>\n",
       "      <th>chain</th>\n",
       "      <th>count</th>\n",
       "    </tr>\n",
       "  </thead>\n",
       "  <tbody>\n",
       "    <tr>\n",
       "      <td>0</td>\n",
       "      <td>нет</td>\n",
       "      <td>12398</td>\n",
       "    </tr>\n",
       "    <tr>\n",
       "      <td>1</td>\n",
       "      <td>да</td>\n",
       "      <td>2968</td>\n",
       "    </tr>\n",
       "  </tbody>\n",
       "</table>\n",
       "</div>"
      ],
      "text/plain": [
       "  chain  count\n",
       "0  нет   12398\n",
       "1  да    2968 "
      ]
     },
     "execution_count": 13,
     "metadata": {},
     "output_type": "execute_result"
    }
   ],
   "source": [
    "chain_type_count = rest_data['chain'].value_counts().reset_index()\n",
    "chain_type_count.columns = ['chain', 'count']\n",
    "\n",
    "chain_type_count"
   ]
  },
  {
   "cell_type": "markdown",
   "metadata": {},
   "source": [
    "Визуализируем полученный результат в виде графика:"
   ]
  },
  {
   "cell_type": "code",
   "execution_count": 14,
   "metadata": {},
   "outputs": [
    {
     "data": {
      "image/png": "[encoded data removed]",
      "text/plain": [
       "<Figure size 360x360 with 1 Axes>"
      ]
     },
     "metadata": {},
     "output_type": "display_data"
    }
   ],
   "source": [
    "f, ax = plt.subplots(figsize = (5, 5))\n",
    "\n",
    "plt.pie(chain_type_count['count'],\n",
    "       labels = chain_type_count['chain'],\n",
    "       colors = ['y','g'],\n",
    "       autopct = \"%0.f%%\",)\n",
    "\n",
    "plt.title('Соотношение сетевых и несетевых заведений по количеству')\n",
    "plt.show();"
   ]
  },
  {
   "cell_type": "markdown",
   "metadata": {},
   "source": [
    "***Выводы***\n",
    "\n",
    "Несетевых заведений в Москве гораздо больше (в 4 раза)."
   ]
  },
  {
   "cell_type": "markdown",
   "metadata": {},
   "source": [
    "<a name=\"objecttypechain\"></a>\n",
    "\n",
    "**3. Определим, для какого вида объекта общественного питания характерно сетевое распространение**"
   ]
  },
  {
   "cell_type": "markdown",
   "metadata": {},
   "source": [
    "Посчитаем, сколько сетевых и несетвых объектов у каждого вида объекта общественного питания:"
   ]
  },
  {
   "cell_type": "code",
   "execution_count": 15,
   "metadata": {},
   "outputs": [
    {
     "data": {
      "text/html": [
       "<div>\n",
       "<style scoped>\n",
       "    .dataframe tbody tr th:only-of-type {\n",
       "        vertical-align: middle;\n",
       "    }\n",
       "\n",
       "    .dataframe tbody tr th {\n",
       "        vertical-align: top;\n",
       "    }\n",
       "\n",
       "    .dataframe thead th {\n",
       "        text-align: right;\n",
       "    }\n",
       "</style>\n",
       "<table border=\"1\" class=\"dataframe\">\n",
       "  <thead>\n",
       "    <tr style=\"text-align: right;\">\n",
       "      <th>chain</th>\n",
       "      <th>object_type</th>\n",
       "      <th>да</th>\n",
       "      <th>нет</th>\n",
       "    </tr>\n",
       "  </thead>\n",
       "  <tbody>\n",
       "    <tr>\n",
       "      <td>3</td>\n",
       "      <td>кафе</td>\n",
       "      <td>1396</td>\n",
       "      <td>4703</td>\n",
       "    </tr>\n",
       "    <tr>\n",
       "      <td>6</td>\n",
       "      <td>предприятие быстрого обслуживания</td>\n",
       "      <td>791</td>\n",
       "      <td>1132</td>\n",
       "    </tr>\n",
       "    <tr>\n",
       "      <td>7</td>\n",
       "      <td>ресторан</td>\n",
       "      <td>544</td>\n",
       "      <td>1741</td>\n",
       "    </tr>\n",
       "    <tr>\n",
       "      <td>5</td>\n",
       "      <td>магазин (отдел кулинарии)</td>\n",
       "      <td>78</td>\n",
       "      <td>195</td>\n",
       "    </tr>\n",
       "    <tr>\n",
       "      <td>2</td>\n",
       "      <td>закусочная</td>\n",
       "      <td>56</td>\n",
       "      <td>304</td>\n",
       "    </tr>\n",
       "    <tr>\n",
       "      <td>4</td>\n",
       "      <td>кафетерий</td>\n",
       "      <td>52</td>\n",
       "      <td>346</td>\n",
       "    </tr>\n",
       "    <tr>\n",
       "      <td>0</td>\n",
       "      <td>бар</td>\n",
       "      <td>37</td>\n",
       "      <td>819</td>\n",
       "    </tr>\n",
       "    <tr>\n",
       "      <td>1</td>\n",
       "      <td>буфет</td>\n",
       "      <td>11</td>\n",
       "      <td>574</td>\n",
       "    </tr>\n",
       "    <tr>\n",
       "      <td>8</td>\n",
       "      <td>столовая</td>\n",
       "      <td>3</td>\n",
       "      <td>2584</td>\n",
       "    </tr>\n",
       "  </tbody>\n",
       "</table>\n",
       "</div>"
      ],
      "text/plain": [
       "chain                        object_type    да   нет\n",
       "3      кафе                               1396  4703\n",
       "6      предприятие быстрого обслуживания  791   1132\n",
       "7      ресторан                           544   1741\n",
       "5      магазин (отдел кулинарии)          78    195 \n",
       "2      закусочная                         56    304 \n",
       "4      кафетерий                          52    346 \n",
       "0      бар                                37    819 \n",
       "1      буфет                              11    574 \n",
       "8      столовая                           3     2584"
      ]
     },
     "execution_count": 15,
     "metadata": {},
     "output_type": "execute_result"
    }
   ],
   "source": [
    "object_type_chain = rest_data.pivot_table(index = 'object_type',\n",
    "                                         columns = 'chain',\n",
    "                                         values = 'id',\n",
    "                                         aggfunc = 'count').reset_index()\n",
    "\n",
    "# вывод отсортируем по убыванию количества сетевых объектов\n",
    "\n",
    "object_type_chain.sort_values('да', ascending=False)"
   ]
  },
  {
   "cell_type": "markdown",
   "metadata": {},
   "source": [
    "Отобразим полученные результаты на графиках для наглядности:"
   ]
  },
  {
   "cell_type": "code",
   "execution_count": 16,
   "metadata": {},
   "outputs": [
    {
     "data": {
      "image/png": "[encoded data removed]",
      "text/plain": [
       "<Figure size 1440x720 with 10 Axes>"
      ]
     },
     "metadata": {},
     "output_type": "display_data"
    }
   ],
   "source": [
    "object_types = object_type_chain['object_type'].unique()\n",
    "fig, axes = plt.subplots(nrows = 2, ncols = 5, figsize=(20, 10))\n",
    "\n",
    "for object_type, ax in zip(object_types, axes.flat):\n",
    "    object_type_chain[object_type_chain['object_type'] == object_type].plot.bar(title=object_type, ax = ax)\n",
    "    \n",
    "plt.show();"
   ]
  },
  {
   "cell_type": "markdown",
   "metadata": {},
   "source": [
    "Видим, что несетевых заведений в каждом виде объекта общественного питания гораздо больше, чем сетевых.\n",
    "\n",
    "Отобразим на одном графике только все сетевые объекты, чтобы понять, для какого вида заведения более характерно сетевое распространение в сравнении с другими:"
   ]
  },
  {
   "cell_type": "code",
   "execution_count": 17,
   "metadata": {},
   "outputs": [
    {
     "data": {
      "image/png": "[encoded data removed]",
      "text/plain": [
       "<Figure size 720x432 with 1 Axes>"
      ]
     },
     "metadata": {},
     "output_type": "display_data"
    }
   ],
   "source": [
    "object_type_chain_fig = rest_data[rest_data['chain'] == 'да'].pivot_table(index = 'object_type', \n",
    "                      columns = 'chain',\n",
    "                      values = 'id',\n",
    "                      aggfunc = 'count').plot(kind=\"barh\", \n",
    "                                              figsize=(10, 6),                                               \n",
    "                                              grid=True,\n",
    "                                              legend=False)\n",
    "\n",
    "object_type_chain_fig.set_title('Соотношение сетевых объектов питания', pad = 20)\n",
    "object_type_chain_fig.set_xlabel('Количество объектов', labelpad = 15)\n",
    "object_type_chain_fig.set_ylabel('Вид объекта общественного питания', labelpad = 15)\n",
    "\n",
    "plt.show()"
   ]
  },
  {
   "cell_type": "markdown",
   "metadata": {},
   "source": [
    "***Выводы***\n",
    "\n",
    "Ни один из объектов не является преимущественно сетевым. В каждом виде объекта питания количество несетевых заведений гораздо больше.\n",
    "\n",
    "Если сравнивать только сетевые объекты между собой, то в тройку по количеству входят: кафе, предприятия быстрого обслуживания и рестораны. В остальных объектах питания сетевых точек гораздо меньше."
   ]
  },
  {
   "cell_type": "markdown",
   "metadata": {},
   "source": [
    "<a name=\"chainseatscount\"></a>\n",
    "\n",
    "**4. Что характерно для сетевых заведений: много заведений с небольшим числом посадочных мест в каждом или мало заведений с большим количеством посадочных мест**"
   ]
  },
  {
   "cell_type": "markdown",
   "metadata": {},
   "source": [
    "Выделим в список три вида объекта, для которых более характерно сетевое распротранение по сравнению с другими (их мы нашли на предыдущем шаге):"
   ]
  },
  {
   "cell_type": "code",
   "execution_count": 18,
   "metadata": {},
   "outputs": [],
   "source": [
    "object_types = ['кафе', 'ресторан', 'предприятие быстрого обслуживания']"
   ]
  },
  {
   "cell_type": "markdown",
   "metadata": {},
   "source": [
    "Сформируем датасет только с сетевыми объектами питания:"
   ]
  },
  {
   "cell_type": "code",
   "execution_count": 19,
   "metadata": {},
   "outputs": [],
   "source": [
    "rest_data_chain = rest_data.query('chain == \"да\"')"
   ]
  },
  {
   "cell_type": "markdown",
   "metadata": {},
   "source": [
    "Построим гистограммы распределения количества посадочных мест в сетевых объектах питания:"
   ]
  },
  {
   "cell_type": "code",
   "execution_count": 20,
   "metadata": {
    "scrolled": false
   },
   "outputs": [
    {
     "data": {
      "image/png": "[encoded data removed]",
      "text/plain": [
       "<Figure size 432x288 with 1 Axes>"
      ]
     },
     "metadata": {},
     "output_type": "display_data"
    },
    {
     "data": {
      "image/png": "[encoded data removed]",
      "text/plain": [
       "<Figure size 432x288 with 1 Axes>"
      ]
     },
     "metadata": {},
     "output_type": "display_data"
    },
    {
     "data": {
      "image/png": "[encoded data removed]",
      "text/plain": [
       "<Figure size 432x288 with 1 Axes>"
      ]
     },
     "metadata": {},
     "output_type": "display_data"
    }
   ],
   "source": [
    "for object_type in object_types:\n",
    "    rest_data_chain[rest_data_chain['object_type'] == object_type]['seats_count'].hist(range=(0, 500), bins=30)\n",
    "    plt.title(object_type)\n",
    "    plt.xlabel('количество посадочных мест', labelpad = 15)\n",
    "    plt.ylabel('количество объектов питания', labelpad = 15)\n",
    "    plt.show();"
   ]
  },
  {
   "cell_type": "markdown",
   "metadata": {},
   "source": [
    "Дополнительно посмотрим на распределение количества посадочных мест с помощью boxplot. \n",
    "\n",
    "Ограничим вывод данных, отрезав заведения с количеством посадочных мест больше 230, чтобы выбросы не мешали смотреть на график (возьмём ограничение в 230, исходя из графиков выше - основные значения распределены до этой отметки):"
   ]
  },
  {
   "cell_type": "code",
   "execution_count": 21,
   "metadata": {},
   "outputs": [
    {
     "data": {
      "image/png": "[encoded data removed]",
      "text/plain": [
       "<Figure size 720x288 with 1 Axes>"
      ]
     },
     "metadata": {},
     "output_type": "display_data"
    }
   ],
   "source": [
    "plt.figure(figsize=(10,4))\n",
    "\n",
    "sns.boxplot(x='seats_count', y='object_type', \n",
    "           data=rest_data_chain.query('object_type in @object_types and seats_count < 230'))\n",
    "\n",
    "plt.title('Распределение количества посадочных мест в сетевых объектах общественного питания', pad=20)\n",
    "plt.xlabel('Количество посадочных мест', labelpad = 15)\n",
    "plt.ylabel('Вид объекта', labelpad = 15);"
   ]
  },
  {
   "cell_type": "markdown",
   "metadata": {},
   "source": [
    "***Выводы***\n",
    "\n",
    "Видим, что для кафе и предприятий быстрого обслуживания характерно иметь количество посадочных мест до 50. Таких объектов большинство.\n",
    "\n",
    "Среди ресторанов же, напротив, более распространены объекты с количеством посадочных мест от 50 до 125."
   ]
  },
  {
   "cell_type": "markdown",
   "metadata": {},
   "source": [
    "<a name=\"objecttypeseatscount\"></a>\n",
    "\n",
    "**5. Для каждого вида объекта общественного питания опишем среднее количество посадочных мест** \n",
    "\n",
    "Определим, какой вид объекта общественного питания предоставляет в среднем самое большое количество посадочных мест."
   ]
  },
  {
   "cell_type": "markdown",
   "metadata": {},
   "source": [
    "Посчитаем среднее количество посадочных мест для каждого вида объекта общественного питания. \n",
    "\n",
    "С учётом того, что на предыдущем шаге мы увидели выбросы в данных, возьмём в качестве меры усреднения данных медиану:"
   ]
  },
  {
   "cell_type": "code",
   "execution_count": 22,
   "metadata": {},
   "outputs": [
    {
     "data": {
      "text/html": [
       "<div>\n",
       "<style scoped>\n",
       "    .dataframe tbody tr th:only-of-type {\n",
       "        vertical-align: middle;\n",
       "    }\n",
       "\n",
       "    .dataframe tbody tr th {\n",
       "        vertical-align: top;\n",
       "    }\n",
       "\n",
       "    .dataframe thead th {\n",
       "        text-align: right;\n",
       "    }\n",
       "</style>\n",
       "<table border=\"1\" class=\"dataframe\">\n",
       "  <thead>\n",
       "    <tr style=\"text-align: right;\">\n",
       "      <th></th>\n",
       "      <th>object_type</th>\n",
       "      <th>seats_count</th>\n",
       "    </tr>\n",
       "  </thead>\n",
       "  <tbody>\n",
       "    <tr>\n",
       "      <td>0</td>\n",
       "      <td>столовая</td>\n",
       "      <td>103</td>\n",
       "    </tr>\n",
       "    <tr>\n",
       "      <td>1</td>\n",
       "      <td>ресторан</td>\n",
       "      <td>80</td>\n",
       "    </tr>\n",
       "    <tr>\n",
       "      <td>2</td>\n",
       "      <td>бар</td>\n",
       "      <td>35</td>\n",
       "    </tr>\n",
       "    <tr>\n",
       "      <td>3</td>\n",
       "      <td>буфет</td>\n",
       "      <td>32</td>\n",
       "    </tr>\n",
       "    <tr>\n",
       "      <td>4</td>\n",
       "      <td>кафе</td>\n",
       "      <td>30</td>\n",
       "    </tr>\n",
       "    <tr>\n",
       "      <td>5</td>\n",
       "      <td>кафетерий</td>\n",
       "      <td>6</td>\n",
       "    </tr>\n",
       "    <tr>\n",
       "      <td>6</td>\n",
       "      <td>предприятие быстрого обслуживания</td>\n",
       "      <td>5</td>\n",
       "    </tr>\n",
       "    <tr>\n",
       "      <td>7</td>\n",
       "      <td>магазин (отдел кулинарии)</td>\n",
       "      <td>0</td>\n",
       "    </tr>\n",
       "    <tr>\n",
       "      <td>8</td>\n",
       "      <td>закусочная</td>\n",
       "      <td>0</td>\n",
       "    </tr>\n",
       "  </tbody>\n",
       "</table>\n",
       "</div>"
      ],
      "text/plain": [
       "                         object_type  seats_count\n",
       "0  столовая                           103        \n",
       "1  ресторан                           80         \n",
       "2  бар                                35         \n",
       "3  буфет                              32         \n",
       "4  кафе                               30         \n",
       "5  кафетерий                          6          \n",
       "6  предприятие быстрого обслуживания  5          \n",
       "7  магазин (отдел кулинарии)          0          \n",
       "8  закусочная                         0          "
      ]
     },
     "execution_count": 22,
     "metadata": {},
     "output_type": "execute_result"
    }
   ],
   "source": [
    "object_type_seats_count = (rest_data.groupby('object_type')['seats_count'].median()\n",
    "                           .round().astype('int')\n",
    "                           .sort_values(ascending = False)\n",
    "                           .reset_index())\n",
    "object_type_seats_count.columns = ['object_type', 'seats_count']\n",
    "\n",
    "object_type_seats_count"
   ]
  },
  {
   "cell_type": "markdown",
   "metadata": {},
   "source": [
    "Визуализируем полученный результат в виде графика:"
   ]
  },
  {
   "cell_type": "code",
   "execution_count": 23,
   "metadata": {},
   "outputs": [
    {
     "data": {
      "image/png": "[encoded data removed]",
      "text/plain": [
       "<Figure size 720x360 with 1 Axes>"
      ]
     },
     "metadata": {},
     "output_type": "display_data"
    }
   ],
   "source": [
    "sns.set(style=\"whitegrid\")\n",
    "f, ax = plt.subplots(figsize = (10, 5))\n",
    "\n",
    "sns.barplot(data = object_type_seats_count,\n",
    "            x = 'seats_count', \n",
    "            y = 'object_type',\n",
    "            palette = 'Reds')\n",
    "\n",
    "plt.title('Среднее количество посадочных мест для объектов общественного питания', pad=20)\n",
    "plt.xlabel('Среднее количество посадочных мест', labelpad = 15)\n",
    "plt.ylabel('Вид объекта', labelpad = 15)\n",
    "plt.show();"
   ]
  },
  {
   "cell_type": "markdown",
   "metadata": {},
   "source": [
    "***Выводы***\n",
    "\n",
    "В среднем самое большое количество посадочных мест в столовых и ресторанах: 80-100."
   ]
  },
  {
   "cell_type": "markdown",
   "metadata": {},
   "source": [
    "<a name=\"streetfromaddress\"></a>\n",
    "\n",
    "**6. Выделим отдельно информацию об улице из данных адресов**"
   ]
  },
  {
   "cell_type": "markdown",
   "metadata": {},
   "source": [
    "В нашем датасете в большинстве адресов улицы являются вторым элементом в \"адресе\" (первый - город Москва), но есть адреса, для которых нет указания города в первом элементе - для них за улицу возьмём как раз первый элемент.\n",
    "\n",
    "Найти такие адреса и правильно присвоить им \"улицу\" поможет функция:"
   ]
  },
  {
   "cell_type": "code",
   "execution_count": 24,
   "metadata": {},
   "outputs": [
    {
     "data": {
      "text/plain": [
       "0        улица Егора Абакумова \n",
       "1        улица Талалихина      \n",
       "2        Абельмановская улица  \n",
       "3        Абрамцевская улица    \n",
       "4        Абрамцевская улица    \n",
       "                ...            \n",
       "15361    3-й Крутицкий переулок\n",
       "15362    улица Земляной Вал    \n",
       "15363    улица Земляной Вал    \n",
       "15364    поселение Московский  \n",
       "15365    Ходынский бульвар     \n",
       "Name: street, Length: 15366, dtype: object"
      ]
     },
     "execution_count": 24,
     "metadata": {},
     "output_type": "execute_result"
    }
   ],
   "source": [
    "def get_street(address):\n",
    "    address_list = address.split(\",\")\n",
    "    if \"город\" not in address_list[0]:\n",
    "        street = address_list[0]\n",
    "    else: \n",
    "        street = address_list[1].strip()\n",
    "    return street\n",
    "\n",
    "rest_data['street'] = rest_data['address'].apply(get_street)\n",
    "\n",
    "# проверяем\n",
    "rest_data['street']"
   ]
  },
  {
   "cell_type": "markdown",
   "metadata": {},
   "source": [
    "<a name=\"topstreets\"></a>\n",
    "\n",
    "**7. Построим график топ-10 улиц по количеству объектов общественного питания и определим, в каких районах Москвы находятся эти улицы**"
   ]
  },
  {
   "cell_type": "markdown",
   "metadata": {},
   "source": [
    "Создадим таблицу с 10-ю самыми заполненными заведениями общественного питания улицами:"
   ]
  },
  {
   "cell_type": "code",
   "execution_count": 25,
   "metadata": {},
   "outputs": [
    {
     "data": {
      "text/html": [
       "<div>\n",
       "<style scoped>\n",
       "    .dataframe tbody tr th:only-of-type {\n",
       "        vertical-align: middle;\n",
       "    }\n",
       "\n",
       "    .dataframe tbody tr th {\n",
       "        vertical-align: top;\n",
       "    }\n",
       "\n",
       "    .dataframe thead th {\n",
       "        text-align: right;\n",
       "    }\n",
       "</style>\n",
       "<table border=\"1\" class=\"dataframe\">\n",
       "  <thead>\n",
       "    <tr style=\"text-align: right;\">\n",
       "      <th></th>\n",
       "      <th>street</th>\n",
       "      <th>count</th>\n",
       "    </tr>\n",
       "  </thead>\n",
       "  <tbody>\n",
       "    <tr>\n",
       "      <td>0</td>\n",
       "      <td>город Зеленоград</td>\n",
       "      <td>232</td>\n",
       "    </tr>\n",
       "    <tr>\n",
       "      <td>1</td>\n",
       "      <td>проспект Мира</td>\n",
       "      <td>204</td>\n",
       "    </tr>\n",
       "    <tr>\n",
       "      <td>2</td>\n",
       "      <td>Профсоюзная улица</td>\n",
       "      <td>183</td>\n",
       "    </tr>\n",
       "    <tr>\n",
       "      <td>3</td>\n",
       "      <td>Ленинградский проспект</td>\n",
       "      <td>173</td>\n",
       "    </tr>\n",
       "    <tr>\n",
       "      <td>4</td>\n",
       "      <td>Пресненская набережная</td>\n",
       "      <td>167</td>\n",
       "    </tr>\n",
       "    <tr>\n",
       "      <td>5</td>\n",
       "      <td>Варшавское шоссе</td>\n",
       "      <td>162</td>\n",
       "    </tr>\n",
       "    <tr>\n",
       "      <td>6</td>\n",
       "      <td>Ленинский проспект</td>\n",
       "      <td>148</td>\n",
       "    </tr>\n",
       "    <tr>\n",
       "      <td>7</td>\n",
       "      <td>поселение Сосенское</td>\n",
       "      <td>139</td>\n",
       "    </tr>\n",
       "    <tr>\n",
       "      <td>8</td>\n",
       "      <td>проспект Вернадского</td>\n",
       "      <td>132</td>\n",
       "    </tr>\n",
       "    <tr>\n",
       "      <td>9</td>\n",
       "      <td>Кутузовский проспект</td>\n",
       "      <td>114</td>\n",
       "    </tr>\n",
       "  </tbody>\n",
       "</table>\n",
       "</div>"
      ],
      "text/plain": [
       "                   street  count\n",
       "0  город Зеленоград        232  \n",
       "1  проспект Мира           204  \n",
       "2  Профсоюзная улица       183  \n",
       "3  Ленинградский проспект  173  \n",
       "4  Пресненская набережная  167  \n",
       "5  Варшавское шоссе        162  \n",
       "6  Ленинский проспект      148  \n",
       "7  поселение Сосенское     139  \n",
       "8  проспект Вернадского    132  \n",
       "9  Кутузовский проспект    114  "
      ]
     },
     "execution_count": 25,
     "metadata": {},
     "output_type": "execute_result"
    }
   ],
   "source": [
    "top_10_street = (rest_data.groupby('street')['id'].count()\n",
    "                 .sort_values(ascending=False)\n",
    "                 .reset_index()\n",
    "                 .head(10))\n",
    "top_10_street.columns = ['street', 'count']\n",
    "\n",
    "top_10_street"
   ]
  },
  {
   "cell_type": "markdown",
   "metadata": {},
   "source": [
    "Отобразим в виде графика:"
   ]
  },
  {
   "cell_type": "code",
   "execution_count": 26,
   "metadata": {},
   "outputs": [
    {
     "data": {
      "image/png": "[encoded data removed]",
      "text/plain": [
       "<Figure size 720x432 with 1 Axes>"
      ]
     },
     "metadata": {},
     "output_type": "display_data"
    }
   ],
   "source": [
    "sns.set(style=\"whitegrid\")\n",
    "f, ax = plt.subplots(figsize = (10, 6))\n",
    "\n",
    "sns.barplot(data = top_10_street,\n",
    "            x = 'count', \n",
    "            y = 'street',\n",
    "            palette = 'YlGnBu')\n",
    "\n",
    "plt.title('Топ-10 улиц по количеству объектов общественного питания', pad=20)\n",
    "plt.xlabel('Количество объектов', labelpad = 15)\n",
    "plt.ylabel('Улицы', labelpad = 15)\n",
    "plt.show();"
   ]
  },
  {
   "cell_type": "markdown",
   "metadata": {},
   "source": [
    "***Выводы***\n",
    "\n",
    "Зеленоград победил :)\n",
    "\n",
    "В Москве самые насыщенные улицы: проспект Мира, Профсоюзная, Ленинградский проспект, Пресненская набережная и Варшавское шоссе. На них расположено от 150 до 200 объектов общественного питания.\n",
    "\n",
    "Последними в топ-10 оказались поселение Сосенское, проспект Вернадского и Кутузовский проспект. На них расположилось в среднем от 120 до 140 объектов питания."
   ]
  },
  {
   "cell_type": "code",
   "execution_count": 28,
   "metadata": {},
   "outputs": [],
   "source": [
    "# сохраним названия улиц в отдельный список\n",
    "\n",
    "top_10_street_list = top_10_street['street'].to_list()"
   ]
  },
  {
   "cell_type": "markdown",
   "metadata": {},
   "source": [
    "Загружаем файл с данными адресного реестра объектов недвижимости города Москвы (с сайта [data.mos.ru](https://data.mos.ru/opendata/7705031674-adresniy-reestr-zdaniy-i-soorujeniy-v-gorode-moskve) ):"
   ]
  },
  {
   "cell_type": "code",
   "execution_count": 29,
   "metadata": {},
   "outputs": [],
   "source": [
    "district_data = pd.read_excel('data-29580-2020-08-27.xlsx') "
   ]
  },
  {
   "cell_type": "code",
   "execution_count": 30,
   "metadata": {},
   "outputs": [
    {
     "data": {
      "text/html": [
       "<div>\n",
       "<style scoped>\n",
       "    .dataframe tbody tr th:only-of-type {\n",
       "        vertical-align: middle;\n",
       "    }\n",
       "\n",
       "    .dataframe tbody tr th {\n",
       "        vertical-align: top;\n",
       "    }\n",
       "\n",
       "    .dataframe thead th {\n",
       "        text-align: right;\n",
       "    }\n",
       "</style>\n",
       "<table border=\"1\" class=\"dataframe\">\n",
       "  <thead>\n",
       "    <tr style=\"text-align: right;\">\n",
       "      <th></th>\n",
       "      <th>OBJ_TYPE</th>\n",
       "      <th>OnTerritoryOfMoscow</th>\n",
       "      <th>ADDRESS</th>\n",
       "      <th>UNOM</th>\n",
       "      <th>P1</th>\n",
       "      <th>P3</th>\n",
       "      <th>P4</th>\n",
       "      <th>P5</th>\n",
       "      <th>P6</th>\n",
       "      <th>P7</th>\n",
       "      <th>...</th>\n",
       "      <th>KLADR</th>\n",
       "      <th>TDOC</th>\n",
       "      <th>NDOC</th>\n",
       "      <th>DDOC</th>\n",
       "      <th>ADR_TYPE</th>\n",
       "      <th>VID</th>\n",
       "      <th>SOSTAD</th>\n",
       "      <th>STATUS</th>\n",
       "      <th>global_id</th>\n",
       "      <th>geoData</th>\n",
       "    </tr>\n",
       "  </thead>\n",
       "  <tbody>\n",
       "    <tr>\n",
       "      <td>0</td>\n",
       "      <td>Здание</td>\n",
       "      <td>да</td>\n",
       "      <td>город Москва, Варшавское шоссе, дом 150, строение 2</td>\n",
       "      <td>3802928</td>\n",
       "      <td>город Москва</td>\n",
       "      <td>NaN</td>\n",
       "      <td>NaN</td>\n",
       "      <td>муниципальный округ Чертаново Южное</td>\n",
       "      <td>NaN</td>\n",
       "      <td>Варшавское шоссе</td>\n",
       "      <td>...</td>\n",
       "      <td>77000000000047600</td>\n",
       "      <td>Распоряжение префектуры АО города Москвы</td>\n",
       "      <td>01-41-2050</td>\n",
       "      <td>19.08.2004</td>\n",
       "      <td>Официальный</td>\n",
       "      <td>Адрес</td>\n",
       "      <td>Зарегистрирован в АР</td>\n",
       "      <td>Внесён в ГКН</td>\n",
       "      <td>645622140</td>\n",
       "      <td>{ \"coordinates\" : [ [ [ 37.6013796035561 , 55.5991142140071] , [ 37.6011052822832 , 55.5991548952736] , [ 37.6010327636358 , 55.5991656534652] , [...</td>\n",
       "    </tr>\n",
       "    <tr>\n",
       "      <td>1</td>\n",
       "      <td>Здание</td>\n",
       "      <td>да</td>\n",
       "      <td>город Москва, Косинская улица, дом 26А</td>\n",
       "      <td>2102436</td>\n",
       "      <td>город Москва</td>\n",
       "      <td>NaN</td>\n",
       "      <td>NaN</td>\n",
       "      <td>муниципальный округ Вешняки</td>\n",
       "      <td>NaN</td>\n",
       "      <td>Косинская улица</td>\n",
       "      <td>...</td>\n",
       "      <td>77000000000040000</td>\n",
       "      <td>Распоряжение префектуры АО города Москвы</td>\n",
       "      <td>875-В-РП</td>\n",
       "      <td>28.07.2004</td>\n",
       "      <td>Официальный</td>\n",
       "      <td>Адрес</td>\n",
       "      <td>Зарегистрирован в АР</td>\n",
       "      <td>Внесён в ГКН</td>\n",
       "      <td>645622141</td>\n",
       "      <td>{ \"coordinates\" : [ [ [ 37.8279504545784 , 55.7176609928454] , [ 37.8286195050135 , 55.7174401927724] , [ 37.8284661997432 , 55.7172920310098] , [...</td>\n",
       "    </tr>\n",
       "    <tr>\n",
       "      <td>2</td>\n",
       "      <td>Здание</td>\n",
       "      <td>да</td>\n",
       "      <td>город Москва, Гороховский переулок, дом 21</td>\n",
       "      <td>5783</td>\n",
       "      <td>город Москва</td>\n",
       "      <td>NaN</td>\n",
       "      <td>NaN</td>\n",
       "      <td>муниципальный округ Басманный</td>\n",
       "      <td>NaN</td>\n",
       "      <td>Гороховский переулок</td>\n",
       "      <td>...</td>\n",
       "      <td>77000000000112200</td>\n",
       "      <td>Распоряжение префектуры АО города Москвы</td>\n",
       "      <td>3026-р</td>\n",
       "      <td>04.07.2005</td>\n",
       "      <td>Официальный</td>\n",
       "      <td>Адрес</td>\n",
       "      <td>Зарегистрирован в АР</td>\n",
       "      <td>Внесён в ГКН</td>\n",
       "      <td>645622142</td>\n",
       "      <td>{ \"coordinates\" : [ [ [ 37.6682995208392 , 55.7662431483298] , [ 37.6683153361192 , 55.7662161815465] , [ 37.6682467711738 , 55.7662023546956] , [...</td>\n",
       "    </tr>\n",
       "    <tr>\n",
       "      <td>3</td>\n",
       "      <td>Здание</td>\n",
       "      <td>да</td>\n",
       "      <td>город Москва, Тагильская улица, дом 4, строение 36</td>\n",
       "      <td>2404968</td>\n",
       "      <td>город Москва</td>\n",
       "      <td>NaN</td>\n",
       "      <td>NaN</td>\n",
       "      <td>муниципальный округ Метрогородок</td>\n",
       "      <td>NaN</td>\n",
       "      <td>Тагильская улица</td>\n",
       "      <td>...</td>\n",
       "      <td>77000000000346200</td>\n",
       "      <td>Распоряжение префектуры АО города Москвы</td>\n",
       "      <td>190-В-РП</td>\n",
       "      <td>22.02.2008</td>\n",
       "      <td>Официальный</td>\n",
       "      <td>Адрес</td>\n",
       "      <td>Зарегистрирован в АР</td>\n",
       "      <td>Внесён в ГКН</td>\n",
       "      <td>645622163</td>\n",
       "      <td>{ \"coordinates\" : [ [ [ 37.7527975561661 , 55.8182433594588] , [ 37.7529320804668 , 55.8183239177059] , [ 37.7530211001649 , 55.8182752336922] , [...</td>\n",
       "    </tr>\n",
       "    <tr>\n",
       "      <td>4</td>\n",
       "      <td>Здание</td>\n",
       "      <td>да</td>\n",
       "      <td>город Москва, Ленинградский проспект, дом 73А, строение 3</td>\n",
       "      <td>2133081</td>\n",
       "      <td>город Москва</td>\n",
       "      <td>NaN</td>\n",
       "      <td>NaN</td>\n",
       "      <td>муниципальный округ Сокол</td>\n",
       "      <td>NaN</td>\n",
       "      <td>Ленинградский проспект</td>\n",
       "      <td>...</td>\n",
       "      <td>77000000000168500</td>\n",
       "      <td>Распоряжение префектуры АО города Москвы</td>\n",
       "      <td>9169</td>\n",
       "      <td>31.10.2003</td>\n",
       "      <td>Официальный</td>\n",
       "      <td>Адрес</td>\n",
       "      <td>Зарегистрирован в АР</td>\n",
       "      <td>Внесён в ГКН</td>\n",
       "      <td>645622174</td>\n",
       "      <td>{ \"coordinates\" : [ [ [ 37.5136462392231 , 55.8036296358468] , [ 37.5136841925791 , 55.8035711719249] , [ 37.5137585785489 , 55.8034568138617] , [...</td>\n",
       "    </tr>\n",
       "  </tbody>\n",
       "</table>\n",
       "<p>5 rows × 40 columns</p>\n",
       "</div>"
      ],
      "text/plain": [
       "  OBJ_TYPE OnTerritoryOfMoscow  \\\n",
       "0   Здание                  да   \n",
       "1   Здание                  да   \n",
       "2   Здание                  да   \n",
       "3   Здание                  да   \n",
       "4   Здание                  да   \n",
       "\n",
       "                                                     ADDRESS     UNOM  \\\n",
       "0        город Москва, Варшавское шоссе, дом 150, строение 2  3802928   \n",
       "1                     город Москва, Косинская улица, дом 26А  2102436   \n",
       "2                 город Москва, Гороховский переулок, дом 21     5783   \n",
       "3         город Москва, Тагильская улица, дом 4, строение 36  2404968   \n",
       "4  город Москва, Ленинградский проспект, дом 73А, строение 3  2133081   \n",
       "\n",
       "             P1   P3   P4                                   P5   P6  \\\n",
       "0  город Москва  NaN  NaN  муниципальный округ Чертаново Южное  NaN   \n",
       "1  город Москва  NaN  NaN          муниципальный округ Вешняки  NaN   \n",
       "2  город Москва  NaN  NaN        муниципальный округ Басманный  NaN   \n",
       "3  город Москва  NaN  NaN     муниципальный округ Метрогородок  NaN   \n",
       "4  город Москва  NaN  NaN            муниципальный округ Сокол  NaN   \n",
       "\n",
       "                       P7  ...              KLADR  \\\n",
       "0        Варшавское шоссе  ...  77000000000047600   \n",
       "1         Косинская улица  ...  77000000000040000   \n",
       "2    Гороховский переулок  ...  77000000000112200   \n",
       "3        Тагильская улица  ...  77000000000346200   \n",
       "4  Ленинградский проспект  ...  77000000000168500   \n",
       "\n",
       "                                       TDOC        NDOC        DDOC  \\\n",
       "0  Распоряжение префектуры АО города Москвы  01-41-2050  19.08.2004   \n",
       "1  Распоряжение префектуры АО города Москвы    875-В-РП  28.07.2004   \n",
       "2  Распоряжение префектуры АО города Москвы      3026-р  04.07.2005   \n",
       "3  Распоряжение префектуры АО города Москвы    190-В-РП  22.02.2008   \n",
       "4  Распоряжение префектуры АО города Москвы        9169  31.10.2003   \n",
       "\n",
       "      ADR_TYPE    VID                SOSTAD        STATUS  global_id  \\\n",
       "0  Официальный  Адрес  Зарегистрирован в АР  Внесён в ГКН  645622140   \n",
       "1  Официальный  Адрес  Зарегистрирован в АР  Внесён в ГКН  645622141   \n",
       "2  Официальный  Адрес  Зарегистрирован в АР  Внесён в ГКН  645622142   \n",
       "3  Официальный  Адрес  Зарегистрирован в АР  Внесён в ГКН  645622163   \n",
       "4  Официальный  Адрес  Зарегистрирован в АР  Внесён в ГКН  645622174   \n",
       "\n",
       "                                                                                                                                                 geoData  \n",
       "0  { \"coordinates\" : [ [ [ 37.6013796035561 , 55.5991142140071] , [ 37.6011052822832 , 55.5991548952736] , [ 37.6010327636358 , 55.5991656534652] , [...  \n",
       "1  { \"coordinates\" : [ [ [ 37.8279504545784 , 55.7176609928454] , [ 37.8286195050135 , 55.7174401927724] , [ 37.8284661997432 , 55.7172920310098] , [...  \n",
       "2  { \"coordinates\" : [ [ [ 37.6682995208392 , 55.7662431483298] , [ 37.6683153361192 , 55.7662161815465] , [ 37.6682467711738 , 55.7662023546956] , [...  \n",
       "3  { \"coordinates\" : [ [ [ 37.7527975561661 , 55.8182433594588] , [ 37.7529320804668 , 55.8183239177059] , [ 37.7530211001649 , 55.8182752336922] , [...  \n",
       "4  { \"coordinates\" : [ [ [ 37.5136462392231 , 55.8036296358468] , [ 37.5136841925791 , 55.8035711719249] , [ 37.5137585785489 , 55.8034568138617] , [...  \n",
       "\n",
       "[5 rows x 40 columns]"
      ]
     },
     "execution_count": 30,
     "metadata": {},
     "output_type": "execute_result"
    }
   ],
   "source": [
    "# проверяем\n",
    "\n",
    "district_data.head()"
   ]
  },
  {
   "cell_type": "markdown",
   "metadata": {},
   "source": [
    "Выделим из полученной таблицы два интересующих нас столбца: полный адрес и соответствующий ему округ, сохраним в отдельную таблицу:"
   ]
  },
  {
   "cell_type": "code",
   "execution_count": 31,
   "metadata": {},
   "outputs": [],
   "source": [
    "district = district_data[['ADDRESS', 'ADM_AREA']]"
   ]
  },
  {
   "cell_type": "code",
   "execution_count": 32,
   "metadata": {},
   "outputs": [
    {
     "data": {
      "text/html": [
       "<div>\n",
       "<style scoped>\n",
       "    .dataframe tbody tr th:only-of-type {\n",
       "        vertical-align: middle;\n",
       "    }\n",
       "\n",
       "    .dataframe tbody tr th {\n",
       "        vertical-align: top;\n",
       "    }\n",
       "\n",
       "    .dataframe thead th {\n",
       "        text-align: right;\n",
       "    }\n",
       "</style>\n",
       "<table border=\"1\" class=\"dataframe\">\n",
       "  <thead>\n",
       "    <tr style=\"text-align: right;\">\n",
       "      <th></th>\n",
       "      <th>address</th>\n",
       "      <th>district</th>\n",
       "    </tr>\n",
       "  </thead>\n",
       "  <tbody>\n",
       "    <tr>\n",
       "      <td>0</td>\n",
       "      <td>город Москва, Варшавское шоссе, дом 150, строение 2</td>\n",
       "      <td>Южный административный округ</td>\n",
       "    </tr>\n",
       "    <tr>\n",
       "      <td>1</td>\n",
       "      <td>город Москва, Косинская улица, дом 26А</td>\n",
       "      <td>Восточный административный округ</td>\n",
       "    </tr>\n",
       "    <tr>\n",
       "      <td>2</td>\n",
       "      <td>город Москва, Гороховский переулок, дом 21</td>\n",
       "      <td>Центральный административный округ</td>\n",
       "    </tr>\n",
       "    <tr>\n",
       "      <td>3</td>\n",
       "      <td>город Москва, Тагильская улица, дом 4, строение 36</td>\n",
       "      <td>Восточный административный округ</td>\n",
       "    </tr>\n",
       "    <tr>\n",
       "      <td>4</td>\n",
       "      <td>город Москва, Ленинградский проспект, дом 73А, строение 3</td>\n",
       "      <td>Северный административный округ</td>\n",
       "    </tr>\n",
       "  </tbody>\n",
       "</table>\n",
       "</div>"
      ],
      "text/plain": [
       "                                                     address  \\\n",
       "0        город Москва, Варшавское шоссе, дом 150, строение 2   \n",
       "1                     город Москва, Косинская улица, дом 26А   \n",
       "2                 город Москва, Гороховский переулок, дом 21   \n",
       "3         город Москва, Тагильская улица, дом 4, строение 36   \n",
       "4  город Москва, Ленинградский проспект, дом 73А, строение 3   \n",
       "\n",
       "                             district  \n",
       "0        Южный административный округ  \n",
       "1    Восточный административный округ  \n",
       "2  Центральный административный округ  \n",
       "3    Восточный административный округ  \n",
       "4     Северный административный округ  "
      ]
     },
     "execution_count": 32,
     "metadata": {},
     "output_type": "execute_result"
    }
   ],
   "source": [
    "# переименуем столбцы\n",
    "\n",
    "district = district.rename(columns={'ADDRESS': 'address', 'ADM_AREA': 'district'})\n",
    "\n",
    "district.head()"
   ]
  },
  {
   "cell_type": "markdown",
   "metadata": {},
   "source": [
    "Объединим полученную таблицу с округами с нашей таблицей с данными по столбцу address:"
   ]
  },
  {
   "cell_type": "code",
   "execution_count": 33,
   "metadata": {},
   "outputs": [
    {
     "data": {
      "text/html": [
       "<div>\n",
       "<style scoped>\n",
       "    .dataframe tbody tr th:only-of-type {\n",
       "        vertical-align: middle;\n",
       "    }\n",
       "\n",
       "    .dataframe tbody tr th {\n",
       "        vertical-align: top;\n",
       "    }\n",
       "\n",
       "    .dataframe thead th {\n",
       "        text-align: right;\n",
       "    }\n",
       "</style>\n",
       "<table border=\"1\" class=\"dataframe\">\n",
       "  <thead>\n",
       "    <tr style=\"text-align: right;\">\n",
       "      <th></th>\n",
       "      <th>id</th>\n",
       "      <th>object_name</th>\n",
       "      <th>chain</th>\n",
       "      <th>object_type</th>\n",
       "      <th>address</th>\n",
       "      <th>seats_count</th>\n",
       "      <th>street</th>\n",
       "      <th>district</th>\n",
       "    </tr>\n",
       "  </thead>\n",
       "  <tbody>\n",
       "    <tr>\n",
       "      <td>0</td>\n",
       "      <td>151635</td>\n",
       "      <td>СМЕТАНА</td>\n",
       "      <td>нет</td>\n",
       "      <td>кафе</td>\n",
       "      <td>город Москва, улица Егора Абакумова, дом 9</td>\n",
       "      <td>48</td>\n",
       "      <td>улица Егора Абакумова</td>\n",
       "      <td>Северо-Восточный административный округ</td>\n",
       "    </tr>\n",
       "    <tr>\n",
       "      <td>1</td>\n",
       "      <td>77874</td>\n",
       "      <td>Родник</td>\n",
       "      <td>нет</td>\n",
       "      <td>кафе</td>\n",
       "      <td>город Москва, улица Талалихина, дом 2/1, корпус 1</td>\n",
       "      <td>35</td>\n",
       "      <td>улица Талалихина</td>\n",
       "      <td>Центральный административный округ</td>\n",
       "    </tr>\n",
       "    <tr>\n",
       "      <td>2</td>\n",
       "      <td>24309</td>\n",
       "      <td>Кафе «Академия»</td>\n",
       "      <td>нет</td>\n",
       "      <td>кафе</td>\n",
       "      <td>город Москва, Абельмановская улица, дом 6</td>\n",
       "      <td>95</td>\n",
       "      <td>Абельмановская улица</td>\n",
       "      <td>Центральный административный округ</td>\n",
       "    </tr>\n",
       "    <tr>\n",
       "      <td>3</td>\n",
       "      <td>21894</td>\n",
       "      <td>ПИЦЦЕТОРИЯ</td>\n",
       "      <td>да</td>\n",
       "      <td>кафе</td>\n",
       "      <td>город Москва, Абрамцевская улица, дом 1</td>\n",
       "      <td>40</td>\n",
       "      <td>Абрамцевская улица</td>\n",
       "      <td>Северо-Восточный административный округ</td>\n",
       "    </tr>\n",
       "    <tr>\n",
       "      <td>4</td>\n",
       "      <td>119365</td>\n",
       "      <td>Кафе «Вишневая метель»</td>\n",
       "      <td>нет</td>\n",
       "      <td>кафе</td>\n",
       "      <td>город Москва, Абрамцевская улица, дом 9, корпус 1</td>\n",
       "      <td>50</td>\n",
       "      <td>Абрамцевская улица</td>\n",
       "      <td>Северо-Восточный административный округ</td>\n",
       "    </tr>\n",
       "  </tbody>\n",
       "</table>\n",
       "</div>"
      ],
      "text/plain": [
       "       id             object_name chain object_type  \\\n",
       "0  151635                 СМЕТАНА   нет        кафе   \n",
       "1   77874                  Родник   нет        кафе   \n",
       "2   24309         Кафе «Академия»   нет        кафе   \n",
       "3   21894              ПИЦЦЕТОРИЯ    да        кафе   \n",
       "4  119365  Кафе «Вишневая метель»   нет        кафе   \n",
       "\n",
       "                                             address  seats_count  \\\n",
       "0         город Москва, улица Егора Абакумова, дом 9           48   \n",
       "1  город Москва, улица Талалихина, дом 2/1, корпус 1           35   \n",
       "2          город Москва, Абельмановская улица, дом 6           95   \n",
       "3            город Москва, Абрамцевская улица, дом 1           40   \n",
       "4  город Москва, Абрамцевская улица, дом 9, корпус 1           50   \n",
       "\n",
       "                  street                                 district  \n",
       "0  улица Егора Абакумова  Северо-Восточный административный округ  \n",
       "1       улица Талалихина       Центральный административный округ  \n",
       "2   Абельмановская улица       Центральный административный округ  \n",
       "3     Абрамцевская улица  Северо-Восточный административный округ  \n",
       "4     Абрамцевская улица  Северо-Восточный административный округ  "
      ]
     },
     "execution_count": 33,
     "metadata": {},
     "output_type": "execute_result"
    }
   ],
   "source": [
    "district_join = rest_data.merge(district, on='address', how='left')\n",
    "                                \n",
    "# проверяем\n",
    "\n",
    "district_join.head()            "
   ]
  },
  {
   "cell_type": "markdown",
   "metadata": {},
   "source": [
    "Добавим к самым насыщенным заведениями улицам группировку по районам.\n",
    "\n",
    "Предварительно сделаем срез из датасета, оставив только интересующие нас улицы:"
   ]
  },
  {
   "cell_type": "code",
   "execution_count": 34,
   "metadata": {},
   "outputs": [
    {
     "data": {
      "text/html": [
       "<div>\n",
       "<style scoped>\n",
       "    .dataframe tbody tr th:only-of-type {\n",
       "        vertical-align: middle;\n",
       "    }\n",
       "\n",
       "    .dataframe tbody tr th {\n",
       "        vertical-align: top;\n",
       "    }\n",
       "\n",
       "    .dataframe thead th {\n",
       "        text-align: right;\n",
       "    }\n",
       "</style>\n",
       "<table border=\"1\" class=\"dataframe\">\n",
       "  <thead>\n",
       "    <tr style=\"text-align: right;\">\n",
       "      <th></th>\n",
       "      <th>street</th>\n",
       "      <th>district</th>\n",
       "      <th>count</th>\n",
       "    </tr>\n",
       "  </thead>\n",
       "  <tbody>\n",
       "    <tr>\n",
       "      <td>14</td>\n",
       "      <td>проспект Мира</td>\n",
       "      <td>Северо-Восточный административный округ</td>\n",
       "      <td>141</td>\n",
       "    </tr>\n",
       "    <tr>\n",
       "      <td>15</td>\n",
       "      <td>проспект Мира</td>\n",
       "      <td>Центральный административный округ</td>\n",
       "      <td>63</td>\n",
       "    </tr>\n",
       "    <tr>\n",
       "      <td>12</td>\n",
       "      <td>проспект Вернадского</td>\n",
       "      <td>Западный административный округ</td>\n",
       "      <td>117</td>\n",
       "    </tr>\n",
       "    <tr>\n",
       "      <td>13</td>\n",
       "      <td>проспект Вернадского</td>\n",
       "      <td>Юго-Западный административный округ</td>\n",
       "      <td>15</td>\n",
       "    </tr>\n",
       "    <tr>\n",
       "      <td>11</td>\n",
       "      <td>поселение Сосенское</td>\n",
       "      <td>Новомосковский административный округ</td>\n",
       "      <td>138</td>\n",
       "    </tr>\n",
       "    <tr>\n",
       "      <td>10</td>\n",
       "      <td>город Зеленоград</td>\n",
       "      <td>Зеленоградский административный округ</td>\n",
       "      <td>219</td>\n",
       "    </tr>\n",
       "    <tr>\n",
       "      <td>9</td>\n",
       "      <td>Профсоюзная улица</td>\n",
       "      <td>Юго-Западный административный округ</td>\n",
       "      <td>182</td>\n",
       "    </tr>\n",
       "    <tr>\n",
       "      <td>8</td>\n",
       "      <td>Пресненская набережная</td>\n",
       "      <td>Центральный административный округ</td>\n",
       "      <td>167</td>\n",
       "    </tr>\n",
       "    <tr>\n",
       "      <td>4</td>\n",
       "      <td>Ленинский проспект</td>\n",
       "      <td>Западный административный округ</td>\n",
       "      <td>22</td>\n",
       "    </tr>\n",
       "    <tr>\n",
       "      <td>5</td>\n",
       "      <td>Ленинский проспект</td>\n",
       "      <td>Центральный административный округ</td>\n",
       "      <td>25</td>\n",
       "    </tr>\n",
       "    <tr>\n",
       "      <td>6</td>\n",
       "      <td>Ленинский проспект</td>\n",
       "      <td>Юго-Западный административный округ</td>\n",
       "      <td>88</td>\n",
       "    </tr>\n",
       "    <tr>\n",
       "      <td>7</td>\n",
       "      <td>Ленинский проспект</td>\n",
       "      <td>Южный административный округ</td>\n",
       "      <td>14</td>\n",
       "    </tr>\n",
       "    <tr>\n",
       "      <td>3</td>\n",
       "      <td>Ленинградский проспект</td>\n",
       "      <td>Северный административный округ</td>\n",
       "      <td>171</td>\n",
       "    </tr>\n",
       "    <tr>\n",
       "      <td>2</td>\n",
       "      <td>Кутузовский проспект</td>\n",
       "      <td>Западный административный округ</td>\n",
       "      <td>114</td>\n",
       "    </tr>\n",
       "    <tr>\n",
       "      <td>0</td>\n",
       "      <td>Варшавское шоссе</td>\n",
       "      <td>Юго-Западный административный округ</td>\n",
       "      <td>2</td>\n",
       "    </tr>\n",
       "    <tr>\n",
       "      <td>1</td>\n",
       "      <td>Варшавское шоссе</td>\n",
       "      <td>Южный административный округ</td>\n",
       "      <td>156</td>\n",
       "    </tr>\n",
       "  </tbody>\n",
       "</table>\n",
       "</div>"
      ],
      "text/plain": [
       "                    street                                 district  count\n",
       "14           проспект Мира  Северо-Восточный административный округ    141\n",
       "15           проспект Мира       Центральный административный округ     63\n",
       "12    проспект Вернадского          Западный административный округ    117\n",
       "13    проспект Вернадского      Юго-Западный административный округ     15\n",
       "11     поселение Сосенское    Новомосковский административный округ    138\n",
       "10        город Зеленоград    Зеленоградский административный округ    219\n",
       "9        Профсоюзная улица      Юго-Западный административный округ    182\n",
       "8   Пресненская набережная       Центральный административный округ    167\n",
       "4       Ленинский проспект          Западный административный округ     22\n",
       "5       Ленинский проспект       Центральный административный округ     25\n",
       "6       Ленинский проспект      Юго-Западный административный округ     88\n",
       "7       Ленинский проспект             Южный административный округ     14\n",
       "3   Ленинградский проспект          Северный административный округ    171\n",
       "2     Кутузовский проспект          Западный административный округ    114\n",
       "0         Варшавское шоссе      Юго-Западный административный округ      2\n",
       "1         Варшавское шоссе             Южный административный округ    156"
      ]
     },
     "execution_count": 34,
     "metadata": {},
     "output_type": "execute_result"
    }
   ],
   "source": [
    "district_street = (district_join.query('street in @top_10_street_list')\n",
    "                   .groupby(['street', 'district'])['id'].count()\n",
    "                   .reset_index())\n",
    "district_street.columns = ['street', 'district', 'count']\n",
    "\n",
    "# вывод отсортируем по улицам\n",
    "\n",
    "district_street.sort_values(by=['street'], ascending=False)"
   ]
  },
  {
   "cell_type": "code",
   "execution_count": 46,
   "metadata": {},
   "outputs": [
    {
     "data": {
      "text/html": [
       "<div>\n",
       "<style scoped>\n",
       "    .dataframe tbody tr th:only-of-type {\n",
       "        vertical-align: middle;\n",
       "    }\n",
       "\n",
       "    .dataframe tbody tr th {\n",
       "        vertical-align: top;\n",
       "    }\n",
       "\n",
       "    .dataframe thead th {\n",
       "        text-align: right;\n",
       "    }\n",
       "</style>\n",
       "<table border=\"1\" class=\"dataframe\">\n",
       "  <thead>\n",
       "    <tr style=\"text-align: right;\">\n",
       "      <th></th>\n",
       "      <th>street</th>\n",
       "      <th>district</th>\n",
       "      <th>count</th>\n",
       "    </tr>\n",
       "  </thead>\n",
       "  <tbody>\n",
       "    <tr>\n",
       "      <td>9</td>\n",
       "      <td>Профсоюзная улица</td>\n",
       "      <td>Юго-Западный административный округ</td>\n",
       "      <td>182</td>\n",
       "    </tr>\n",
       "    <tr>\n",
       "      <td>14</td>\n",
       "      <td>проспект Мира</td>\n",
       "      <td>Северо-Восточный административный округ</td>\n",
       "      <td>141</td>\n",
       "    </tr>\n",
       "    <tr>\n",
       "      <td>15</td>\n",
       "      <td>проспект Мира</td>\n",
       "      <td>Центральный административный округ</td>\n",
       "      <td>63</td>\n",
       "    </tr>\n",
       "  </tbody>\n",
       "</table>\n",
       "</div>"
      ],
      "text/plain": [
       "               street                                 district  count\n",
       "9   Профсоюзная улица      Юго-Западный административный округ    182\n",
       "14      проспект Мира  Северо-Восточный административный округ    141\n",
       "15      проспект Мира       Центральный административный округ     63"
      ]
     },
     "execution_count": 46,
     "metadata": {},
     "output_type": "execute_result"
    }
   ],
   "source": [
    "district_street.query('street in (\"проспект Мира\", \"Профсоюзная улица\")')"
   ]
  },
  {
   "cell_type": "markdown",
   "metadata": {},
   "source": [
    "Видим, что некоторые улицы тянутся сразу через несколько округов. Оставим только округа-\"лидеры\" по количеству заведений на улице:"
   ]
  },
  {
   "cell_type": "code",
   "execution_count": 35,
   "metadata": {},
   "outputs": [
    {
     "data": {
      "text/html": [
       "<div>\n",
       "<style scoped>\n",
       "    .dataframe tbody tr th:only-of-type {\n",
       "        vertical-align: middle;\n",
       "    }\n",
       "\n",
       "    .dataframe tbody tr th {\n",
       "        vertical-align: top;\n",
       "    }\n",
       "\n",
       "    .dataframe thead th {\n",
       "        text-align: right;\n",
       "    }\n",
       "</style>\n",
       "<table border=\"1\" class=\"dataframe\">\n",
       "  <thead>\n",
       "    <tr style=\"text-align: right;\">\n",
       "      <th></th>\n",
       "      <th>street</th>\n",
       "      <th>district</th>\n",
       "      <th>count</th>\n",
       "    </tr>\n",
       "  </thead>\n",
       "  <tbody>\n",
       "    <tr>\n",
       "      <td>0</td>\n",
       "      <td>город Зеленоград</td>\n",
       "      <td>Зеленоградский административный округ</td>\n",
       "      <td>219</td>\n",
       "    </tr>\n",
       "    <tr>\n",
       "      <td>1</td>\n",
       "      <td>Профсоюзная улица</td>\n",
       "      <td>Юго-Западный административный округ</td>\n",
       "      <td>182</td>\n",
       "    </tr>\n",
       "    <tr>\n",
       "      <td>2</td>\n",
       "      <td>Ленинградский проспект</td>\n",
       "      <td>Северный административный округ</td>\n",
       "      <td>171</td>\n",
       "    </tr>\n",
       "    <tr>\n",
       "      <td>3</td>\n",
       "      <td>Пресненская набережная</td>\n",
       "      <td>Центральный административный округ</td>\n",
       "      <td>167</td>\n",
       "    </tr>\n",
       "    <tr>\n",
       "      <td>4</td>\n",
       "      <td>Варшавское шоссе</td>\n",
       "      <td>Южный административный округ</td>\n",
       "      <td>156</td>\n",
       "    </tr>\n",
       "    <tr>\n",
       "      <td>5</td>\n",
       "      <td>проспект Мира</td>\n",
       "      <td>Центральный административный округ</td>\n",
       "      <td>141</td>\n",
       "    </tr>\n",
       "    <tr>\n",
       "      <td>6</td>\n",
       "      <td>поселение Сосенское</td>\n",
       "      <td>Новомосковский административный округ</td>\n",
       "      <td>138</td>\n",
       "    </tr>\n",
       "    <tr>\n",
       "      <td>7</td>\n",
       "      <td>проспект Вернадского</td>\n",
       "      <td>Юго-Западный административный округ</td>\n",
       "      <td>117</td>\n",
       "    </tr>\n",
       "    <tr>\n",
       "      <td>8</td>\n",
       "      <td>Кутузовский проспект</td>\n",
       "      <td>Западный административный округ</td>\n",
       "      <td>114</td>\n",
       "    </tr>\n",
       "    <tr>\n",
       "      <td>9</td>\n",
       "      <td>Ленинский проспект</td>\n",
       "      <td>Южный административный округ</td>\n",
       "      <td>88</td>\n",
       "    </tr>\n",
       "  </tbody>\n",
       "</table>\n",
       "</div>"
      ],
      "text/plain": [
       "                   street                               district  count\n",
       "0        город Зеленоград  Зеленоградский административный округ    219\n",
       "1       Профсоюзная улица    Юго-Западный административный округ    182\n",
       "2  Ленинградский проспект        Северный административный округ    171\n",
       "3  Пресненская набережная     Центральный административный округ    167\n",
       "4        Варшавское шоссе           Южный административный округ    156\n",
       "5           проспект Мира     Центральный административный округ    141\n",
       "6     поселение Сосенское  Новомосковский административный округ    138\n",
       "7    проспект Вернадского    Юго-Западный административный округ    117\n",
       "8    Кутузовский проспект        Западный административный округ    114\n",
       "9      Ленинский проспект           Южный административный округ     88"
      ]
     },
     "execution_count": 35,
     "metadata": {},
     "output_type": "execute_result"
    }
   ],
   "source": [
    "district_lead = (district_street.groupby('street')['district', 'count'].max()\n",
    "                 .sort_values(by='count', ascending=False)\n",
    "                 .reset_index())\n",
    "district_lead.columns = ['street', 'district', 'count']\n",
    "\n",
    "district_lead"
   ]
  },
  {
   "cell_type": "markdown",
   "metadata": {},
   "source": [
    "Построим график:"
   ]
  },
  {
   "cell_type": "code",
   "execution_count": 36,
   "metadata": {},
   "outputs": [
    {
     "data": {
      "image/png": "[encoded data removed]",
      "text/plain": [
       "<Figure size 720x360 with 1 Axes>"
      ]
     },
     "metadata": {},
     "output_type": "display_data"
    }
   ],
   "source": [
    "sns.set(style=\"whitegrid\")\n",
    "f, ax = plt.subplots(figsize = (10, 5))\n",
    "\n",
    "sns.barplot(data = district_lead,\n",
    "            x = 'count', \n",
    "            y = 'district',\n",
    "            palette = 'YlGnBu')\n",
    "plt.title('Районы с улицами с большим количеством объектов общественного питания', pad=20)\n",
    "plt.xlabel('Количество объектов', labelpad = 15)\n",
    "plt.ylabel('Районы', labelpad = 15)\n",
    "plt.show();"
   ]
  },
  {
   "cell_type": "markdown",
   "metadata": {},
   "source": [
    "***Выводы***\n",
    "\n",
    "Зеленоградский округ явно лидирует. \n",
    "\n",
    "Если смотреть на территорию внутри МКАДа, то больше всего объектов питания в Юго-Западном, Северном и Центральном округах.\n",
    "\n",
    "Меньше всего улиц из топ-10 с объектами питания в Западном округе."
   ]
  },
  {
   "cell_type": "markdown",
   "metadata": {},
   "source": [
    "<a name=\"onetypestreetscount\"></a>\n",
    "\n",
    "**8. Найдём число улиц с одним объектом общественного питания и определим, в каких районах Москвы находятся эти улицы**"
   ]
  },
  {
   "cell_type": "markdown",
   "metadata": {},
   "source": [
    "Посчитаем, сколько объектов питания расположено на каждой улице:"
   ]
  },
  {
   "cell_type": "code",
   "execution_count": 37,
   "metadata": {},
   "outputs": [
    {
     "data": {
      "text/html": [
       "<div>\n",
       "<style scoped>\n",
       "    .dataframe tbody tr th:only-of-type {\n",
       "        vertical-align: middle;\n",
       "    }\n",
       "\n",
       "    .dataframe tbody tr th {\n",
       "        vertical-align: top;\n",
       "    }\n",
       "\n",
       "    .dataframe thead th {\n",
       "        text-align: right;\n",
       "    }\n",
       "</style>\n",
       "<table border=\"1\" class=\"dataframe\">\n",
       "  <thead>\n",
       "    <tr style=\"text-align: right;\">\n",
       "      <th></th>\n",
       "      <th>street</th>\n",
       "      <th>count</th>\n",
       "    </tr>\n",
       "  </thead>\n",
       "  <tbody>\n",
       "    <tr>\n",
       "      <td>0</td>\n",
       "      <td>Парусный проезд</td>\n",
       "      <td>1</td>\n",
       "    </tr>\n",
       "    <tr>\n",
       "      <td>1</td>\n",
       "      <td>Бутиковский переулок</td>\n",
       "      <td>1</td>\n",
       "    </tr>\n",
       "    <tr>\n",
       "      <td>2</td>\n",
       "      <td>улица Васильцовский Стан</td>\n",
       "      <td>1</td>\n",
       "    </tr>\n",
       "    <tr>\n",
       "      <td>3</td>\n",
       "      <td>Вагоноремонтная улица</td>\n",
       "      <td>1</td>\n",
       "    </tr>\n",
       "    <tr>\n",
       "      <td>4</td>\n",
       "      <td>Союзный проспект</td>\n",
       "      <td>1</td>\n",
       "    </tr>\n",
       "  </tbody>\n",
       "</table>\n",
       "</div>"
      ],
      "text/plain": [
       "                     street  count\n",
       "0           Парусный проезд      1\n",
       "1      Бутиковский переулок      1\n",
       "2  улица Васильцовский Стан      1\n",
       "3     Вагоноремонтная улица      1\n",
       "4          Союзный проспект      1"
      ]
     },
     "execution_count": 37,
     "metadata": {},
     "output_type": "execute_result"
    }
   ],
   "source": [
    "rest_street = (rest_data.groupby('street')['id'].count()\n",
    "               .sort_values()\n",
    "               .reset_index())\n",
    "rest_street.columns = ['street', 'count']\n",
    "\n",
    "# проверяем\n",
    "\n",
    "rest_street.head()"
   ]
  },
  {
   "cell_type": "markdown",
   "metadata": {},
   "source": [
    "Оставим только улицы с одним заведением общественного питания, сохраним в отдельную таблицу:"
   ]
  },
  {
   "cell_type": "code",
   "execution_count": 38,
   "metadata": {},
   "outputs": [
    {
     "name": "stdout",
     "output_type": "stream",
     "text": [
      "Число улиц с одним объектом питания: 543\n",
      "\n"
     ]
    },
    {
     "data": {
      "text/html": [
       "<div>\n",
       "<style scoped>\n",
       "    .dataframe tbody tr th:only-of-type {\n",
       "        vertical-align: middle;\n",
       "    }\n",
       "\n",
       "    .dataframe tbody tr th {\n",
       "        vertical-align: top;\n",
       "    }\n",
       "\n",
       "    .dataframe thead th {\n",
       "        text-align: right;\n",
       "    }\n",
       "</style>\n",
       "<table border=\"1\" class=\"dataframe\">\n",
       "  <thead>\n",
       "    <tr style=\"text-align: right;\">\n",
       "      <th></th>\n",
       "      <th>street</th>\n",
       "      <th>count</th>\n",
       "    </tr>\n",
       "  </thead>\n",
       "  <tbody>\n",
       "    <tr>\n",
       "      <td>0</td>\n",
       "      <td>Парусный проезд</td>\n",
       "      <td>1</td>\n",
       "    </tr>\n",
       "    <tr>\n",
       "      <td>1</td>\n",
       "      <td>Бутиковский переулок</td>\n",
       "      <td>1</td>\n",
       "    </tr>\n",
       "    <tr>\n",
       "      <td>2</td>\n",
       "      <td>улица Васильцовский Стан</td>\n",
       "      <td>1</td>\n",
       "    </tr>\n",
       "    <tr>\n",
       "      <td>3</td>\n",
       "      <td>Вагоноремонтная улица</td>\n",
       "      <td>1</td>\n",
       "    </tr>\n",
       "    <tr>\n",
       "      <td>4</td>\n",
       "      <td>Союзный проспект</td>\n",
       "      <td>1</td>\n",
       "    </tr>\n",
       "    <tr>\n",
       "      <td>...</td>\n",
       "      <td>...</td>\n",
       "      <td>...</td>\n",
       "    </tr>\n",
       "    <tr>\n",
       "      <td>538</td>\n",
       "      <td>42-й километр Московской Кольцевой Автодороги</td>\n",
       "      <td>1</td>\n",
       "    </tr>\n",
       "    <tr>\n",
       "      <td>539</td>\n",
       "      <td>42-й километр Калужского шоссе</td>\n",
       "      <td>1</td>\n",
       "    </tr>\n",
       "    <tr>\n",
       "      <td>540</td>\n",
       "      <td>Нижний Таганский тупик</td>\n",
       "      <td>1</td>\n",
       "    </tr>\n",
       "    <tr>\n",
       "      <td>541</td>\n",
       "      <td>5-й Монетчиковский переулок</td>\n",
       "      <td>1</td>\n",
       "    </tr>\n",
       "    <tr>\n",
       "      <td>542</td>\n",
       "      <td>5-й проезд Подбельского</td>\n",
       "      <td>1</td>\n",
       "    </tr>\n",
       "  </tbody>\n",
       "</table>\n",
       "<p>543 rows × 2 columns</p>\n",
       "</div>"
      ],
      "text/plain": [
       "                                            street  count\n",
       "0                                  Парусный проезд      1\n",
       "1                             Бутиковский переулок      1\n",
       "2                         улица Васильцовский Стан      1\n",
       "3                            Вагоноремонтная улица      1\n",
       "4                                 Союзный проспект      1\n",
       "..                                             ...    ...\n",
       "538  42-й километр Московской Кольцевой Автодороги      1\n",
       "539                 42-й километр Калужского шоссе      1\n",
       "540                         Нижний Таганский тупик      1\n",
       "541                    5-й Монетчиковский переулок      1\n",
       "542                        5-й проезд Подбельского      1\n",
       "\n",
       "[543 rows x 2 columns]"
      ]
     },
     "metadata": {},
     "output_type": "display_data"
    }
   ],
   "source": [
    "one_rest_street = rest_street.query('count == 1')\n",
    "\n",
    "print('Число улиц с одним объектом питания:', len(one_rest_street))\n",
    "print()\n",
    "display(one_rest_street)"
   ]
  },
  {
   "cell_type": "markdown",
   "metadata": {},
   "source": [
    "Сохраним названия улиц в отдельный список:"
   ]
  },
  {
   "cell_type": "code",
   "execution_count": 39,
   "metadata": {},
   "outputs": [],
   "source": [
    "one_rest_street_list = one_rest_street['street'].to_list()"
   ]
  },
  {
   "cell_type": "markdown",
   "metadata": {},
   "source": [
    "Сформируем таблицу с найденными улицами и соответствующими им округами:"
   ]
  },
  {
   "cell_type": "code",
   "execution_count": 40,
   "metadata": {},
   "outputs": [
    {
     "data": {
      "text/html": [
       "<div>\n",
       "<style scoped>\n",
       "    .dataframe tbody tr th:only-of-type {\n",
       "        vertical-align: middle;\n",
       "    }\n",
       "\n",
       "    .dataframe tbody tr th {\n",
       "        vertical-align: top;\n",
       "    }\n",
       "\n",
       "    .dataframe thead th {\n",
       "        text-align: right;\n",
       "    }\n",
       "</style>\n",
       "<table border=\"1\" class=\"dataframe\">\n",
       "  <thead>\n",
       "    <tr style=\"text-align: right;\">\n",
       "      <th></th>\n",
       "      <th>street</th>\n",
       "      <th>district</th>\n",
       "    </tr>\n",
       "  </thead>\n",
       "  <tbody>\n",
       "    <tr>\n",
       "      <td>19</td>\n",
       "      <td>Филипповский переулок</td>\n",
       "      <td>Центральный административный округ</td>\n",
       "    </tr>\n",
       "    <tr>\n",
       "      <td>61</td>\n",
       "      <td>Бабаевская улица</td>\n",
       "      <td>Восточный административный округ</td>\n",
       "    </tr>\n",
       "    <tr>\n",
       "      <td>69</td>\n",
       "      <td>1-й Балтийский переулок</td>\n",
       "      <td>Северный административный округ</td>\n",
       "    </tr>\n",
       "    <tr>\n",
       "      <td>81</td>\n",
       "      <td>улица Демьяна Бедного</td>\n",
       "      <td>Северо-Западный административный округ</td>\n",
       "    </tr>\n",
       "    <tr>\n",
       "      <td>131</td>\n",
       "      <td>Будайская улица</td>\n",
       "      <td>Северо-Восточный административный округ</td>\n",
       "    </tr>\n",
       "    <tr>\n",
       "      <td>...</td>\n",
       "      <td>...</td>\n",
       "      <td>...</td>\n",
       "    </tr>\n",
       "    <tr>\n",
       "      <td>14139</td>\n",
       "      <td>1-й Силикатный проезд</td>\n",
       "      <td>Северо-Западный административный округ</td>\n",
       "    </tr>\n",
       "    <tr>\n",
       "      <td>14253</td>\n",
       "      <td>3-й Угрешский проезд</td>\n",
       "      <td>Юго-Восточный административный округ</td>\n",
       "    </tr>\n",
       "    <tr>\n",
       "      <td>14466</td>\n",
       "      <td>улица Линии Октябрьской Железной Дороги</td>\n",
       "      <td>Северный административный округ</td>\n",
       "    </tr>\n",
       "    <tr>\n",
       "      <td>14488</td>\n",
       "      <td>80-й километр Московской Кольцевой Автодороги</td>\n",
       "      <td>Северный административный округ</td>\n",
       "    </tr>\n",
       "    <tr>\n",
       "      <td>14730</td>\n",
       "      <td>2-й Кадашёвский переулок</td>\n",
       "      <td>Центральный административный округ</td>\n",
       "    </tr>\n",
       "  </tbody>\n",
       "</table>\n",
       "<p>543 rows × 2 columns</p>\n",
       "</div>"
      ],
      "text/plain": [
       "                                              street  \\\n",
       "19                             Филипповский переулок   \n",
       "61                                  Бабаевская улица   \n",
       "69                           1-й Балтийский переулок   \n",
       "81                             улица Демьяна Бедного   \n",
       "131                                  Будайская улица   \n",
       "...                                              ...   \n",
       "14139                          1-й Силикатный проезд   \n",
       "14253                           3-й Угрешский проезд   \n",
       "14466        улица Линии Октябрьской Железной Дороги   \n",
       "14488  80-й километр Московской Кольцевой Автодороги   \n",
       "14730                       2-й Кадашёвский переулок   \n",
       "\n",
       "                                      district  \n",
       "19          Центральный административный округ  \n",
       "61            Восточный административный округ  \n",
       "69             Северный административный округ  \n",
       "81      Северо-Западный административный округ  \n",
       "131    Северо-Восточный административный округ  \n",
       "...                                        ...  \n",
       "14139   Северо-Западный административный округ  \n",
       "14253     Юго-Восточный административный округ  \n",
       "14466          Северный административный округ  \n",
       "14488          Северный административный округ  \n",
       "14730       Центральный административный округ  \n",
       "\n",
       "[543 rows x 2 columns]"
      ]
     },
     "execution_count": 40,
     "metadata": {},
     "output_type": "execute_result"
    }
   ],
   "source": [
    "street_district_one = district_join.query('street in @one_rest_street_list')[['street', 'district']]\n",
    "\n",
    "# проверяем\n",
    "\n",
    "street_district_one"
   ]
  },
  {
   "cell_type": "markdown",
   "metadata": {},
   "source": [
    "Посчитаем количество заведений \"одиночек\" на улицах в каждом округе:"
   ]
  },
  {
   "cell_type": "code",
   "execution_count": 41,
   "metadata": {},
   "outputs": [
    {
     "data": {
      "text/html": [
       "<div>\n",
       "<style scoped>\n",
       "    .dataframe tbody tr th:only-of-type {\n",
       "        vertical-align: middle;\n",
       "    }\n",
       "\n",
       "    .dataframe tbody tr th {\n",
       "        vertical-align: top;\n",
       "    }\n",
       "\n",
       "    .dataframe thead th {\n",
       "        text-align: right;\n",
       "    }\n",
       "</style>\n",
       "<table border=\"1\" class=\"dataframe\">\n",
       "  <thead>\n",
       "    <tr style=\"text-align: right;\">\n",
       "      <th></th>\n",
       "      <th>district</th>\n",
       "      <th>count</th>\n",
       "    </tr>\n",
       "  </thead>\n",
       "  <tbody>\n",
       "    <tr>\n",
       "      <td>0</td>\n",
       "      <td>Центральный административный округ</td>\n",
       "      <td>167</td>\n",
       "    </tr>\n",
       "    <tr>\n",
       "      <td>1</td>\n",
       "      <td>Северо-Восточный административный округ</td>\n",
       "      <td>64</td>\n",
       "    </tr>\n",
       "    <tr>\n",
       "      <td>2</td>\n",
       "      <td>Восточный административный округ</td>\n",
       "      <td>64</td>\n",
       "    </tr>\n",
       "    <tr>\n",
       "      <td>3</td>\n",
       "      <td>Юго-Восточный административный округ</td>\n",
       "      <td>54</td>\n",
       "    </tr>\n",
       "    <tr>\n",
       "      <td>4</td>\n",
       "      <td>Северный административный округ</td>\n",
       "      <td>53</td>\n",
       "    </tr>\n",
       "    <tr>\n",
       "      <td>5</td>\n",
       "      <td>Западный административный округ</td>\n",
       "      <td>43</td>\n",
       "    </tr>\n",
       "    <tr>\n",
       "      <td>6</td>\n",
       "      <td>Южный административный округ</td>\n",
       "      <td>32</td>\n",
       "    </tr>\n",
       "    <tr>\n",
       "      <td>7</td>\n",
       "      <td>Северо-Западный административный округ</td>\n",
       "      <td>29</td>\n",
       "    </tr>\n",
       "    <tr>\n",
       "      <td>8</td>\n",
       "      <td>Юго-Западный административный округ</td>\n",
       "      <td>26</td>\n",
       "    </tr>\n",
       "    <tr>\n",
       "      <td>9</td>\n",
       "      <td>Новомосковский административный округ</td>\n",
       "      <td>1</td>\n",
       "    </tr>\n",
       "  </tbody>\n",
       "</table>\n",
       "</div>"
      ],
      "text/plain": [
       "                                  district  count\n",
       "0       Центральный административный округ    167\n",
       "1  Северо-Восточный административный округ     64\n",
       "2         Восточный административный округ     64\n",
       "3     Юго-Восточный административный округ     54\n",
       "4          Северный административный округ     53\n",
       "5          Западный административный округ     43\n",
       "6             Южный административный округ     32\n",
       "7   Северо-Западный административный округ     29\n",
       "8      Юго-Западный административный округ     26\n",
       "9    Новомосковский административный округ      1"
      ]
     },
     "execution_count": 41,
     "metadata": {},
     "output_type": "execute_result"
    }
   ],
   "source": [
    "district_for_one = (street_district_one.groupby('district')['street'].count()\n",
    "                    .sort_values(ascending=False)\n",
    "                    .reset_index())\n",
    "district_for_one.columns = ['district', 'count']\n",
    "\n",
    "district_for_one"
   ]
  },
  {
   "cell_type": "markdown",
   "metadata": {},
   "source": [
    "Изобразим наглядно:"
   ]
  },
  {
   "cell_type": "code",
   "execution_count": 42,
   "metadata": {},
   "outputs": [
    {
     "data": {
      "image/png": "[encoded data removed]",
      "text/plain": [
       "<Figure size 720x576 with 1 Axes>"
      ]
     },
     "metadata": {},
     "output_type": "display_data"
    }
   ],
   "source": [
    "sns.set(style=\"whitegrid\")\n",
    "f, ax = plt.subplots(figsize = (10, 8))\n",
    "\n",
    "sns.barplot(data = district_for_one,\n",
    "            x = 'count', \n",
    "            y = 'district',\n",
    "            palette = 'YlOrRd')\n",
    "\n",
    "plt.title('Районы с улицами с одним объектом общественного питания', pad=20)\n",
    "plt.xlabel('Количество объектов', labelpad = 15)\n",
    "plt.ylabel('Районы', labelpad = 15)\n",
    "plt.show();"
   ]
  },
  {
   "cell_type": "markdown",
   "metadata": {},
   "source": [
    "***Выводы***\n",
    "\n",
    "В Москве всего 543 улицы с одним заведением общественного питания.\n",
    "\n",
    "Центральный округ явно переполнен улицами с одним объектом питания. В нём почти 170 заведений.\n",
    "\n",
    "В Новомосковском округе всего 1 объект питания.\n",
    "\n",
    "В остальных округах в среднем от 30 до 60 улиц с 1 объектом общественного питания."
   ]
  },
  {
   "cell_type": "markdown",
   "metadata": {},
   "source": [
    "<a name=\"manytypesseatscount\"></a>\n",
    "\n",
    "**9. Посмотрим на распределение количества посадочных мест для улиц с большим количеством объектов общественного питания. Выявим закономерности**"
   ]
  },
  {
   "cell_type": "markdown",
   "metadata": {},
   "source": [
    "Сформируем датасет только с интересующими нас улицами с большим количество объектов питания (их список мы сформировали ранее):"
   ]
  },
  {
   "cell_type": "code",
   "execution_count": 43,
   "metadata": {},
   "outputs": [],
   "source": [
    "rest_data_seats_count = district_join.query('street in @top_10_street_list')"
   ]
  },
  {
   "cell_type": "markdown",
   "metadata": {},
   "source": [
    "Построим гистограммы распределения количества посадочных мест для всего датасета:"
   ]
  },
  {
   "cell_type": "code",
   "execution_count": 44,
   "metadata": {
    "scrolled": false
   },
   "outputs": [
    {
     "data": {
      "image/png": "[encoded data removed]",
      "text/plain": [
       "<Figure size 720x360 with 1 Axes>"
      ]
     },
     "metadata": {},
     "output_type": "display_data"
    }
   ],
   "source": [
    "plt.figure(figsize=(10,5))\n",
    "\n",
    "rest_data_seats_count['seats_count'].hist(range=(0, 300), bins=40)\n",
    "plt.title('Распределение количества посадочных мест для улиц с большим количеством объектов общественного питания', pad=20)\n",
    "plt.xlabel('Количество посадочных мест', labelpad = 15)\n",
    "plt.ylabel('Количество объектов питания', labelpad = 15)\n",
    "plt.show();"
   ]
  },
  {
   "cell_type": "markdown",
   "metadata": {},
   "source": [
    "Для насыщенных объектами общественного питания улиц характерно малое количество посадочных мест в заведениях - до 50."
   ]
  },
  {
   "cell_type": "markdown",
   "metadata": {},
   "source": [
    "Посмотрим подробнее на распределение с помощью графика boxplot, при чём отдельно на каждую улицу. \n",
    "\n",
    "Дополнительно ограничим вывод, отрезав количество посадочных мест больше 200, чтобы выбросы не мешали смотреть на график:"
   ]
  },
  {
   "cell_type": "code",
   "execution_count": 45,
   "metadata": {},
   "outputs": [
    {
     "data": {
      "image/png": "[encoded data removed]",
      "text/plain": [
       "<Figure size 720x432 with 1 Axes>"
      ]
     },
     "metadata": {},
     "output_type": "display_data"
    }
   ],
   "source": [
    "plt.figure(figsize=(10, 6))\n",
    "\n",
    "sns.boxplot(x='seats_count', y='street', \n",
    "           data=rest_data_seats_count.query('seats_count < 200'))\n",
    "\n",
    "plt.title('Распределение количества посадочных мест на улицах с большим количеством заведений питания', pad=20)\n",
    "plt.xlabel('Количество посадочных мест', labelpad = 15)\n",
    "plt.ylabel('Улица', labelpad = 15);"
   ]
  },
  {
   "cell_type": "markdown",
   "metadata": {},
   "source": [
    "***Выводы***\n",
    "\n",
    "В поселении Сосенское абсолютное большинство заведений ограничиваются не более 25 посадочными местами.\n",
    "\n",
    "На Профсоюзной улице, Пресненской набережной и Варшавском шоссе в заведениях принято иметь в среднем не более 50 посадочных мест. Причём половине хватает и 25 мест.\n",
    "\n",
    "На остальных улицах в топ-10, за исключением Зеленограда, половина заведений обзавелась 30-40 посадочными местами, другой половине достаточно в среднем не более 80 мест.\n",
    "\n",
    "В Зеленограде ситуация отличается: здесь 50 мест - как минимум у половины заведений, а верхняя планка в районе 100 посадочных мест."
   ]
  },
  {
   "cell_type": "markdown",
   "metadata": {},
   "source": [
    "<a name=\"conclusion\"></a>\n",
    "\n",
    "## Шаг 3. Общий вывод"
   ]
  },
  {
   "cell_type": "markdown",
   "metadata": {},
   "source": [
    "В этом блоке **рекомендации для инвесторов**. В блоке ниже общие выводы по всем рассмотренным параметрам.\n",
    "\n",
    "В Москве гораздо больше (в 4 раза) несетевых заведений, но развитие сети характерно как раз для кафе. С перспективой на будущее стоит выбрать именно этот вид заведения.\n",
    "\n",
    "Количество посадочных мест в заведениях общественного питания в среднем по городу находится на отметке 50 мест. В насыщенных заведениями районах ограничиваются даже 25 посадочными местами. \n",
    "\n",
    "С учётом специфики кафе, можно рассчитывать на 20-30 посадочных мест - такое количество смогут обслужить пара роботов. Соответственно, чем больше роботов-официантов мы \"наймём\" на работу, тем больше посадочных мест сможем обслужить.\n",
    "Также стоит учесть, что обычно заряда хватает роботу на 4-5 часов, т.е. для 12-тичасового рабочего дня нам будет необходим третий робот, который сможет заменять разрядившегося товарища и подключаться к обслуживанию клиентов в часы-пик.\n",
    "\n",
    "Западный округ кажется самым привлекательным для размещения кафе. Он не перенасыщен заведениями питания, причём они распределены по округу и не концентрируются на одной улице, за исключением Кутузовского проспекта. При этом он находится на территории самой Москвы, что гарантирует поток посетителей."
   ]
  },
  {
   "cell_type": "markdown",
   "metadata": {},
   "source": [
    "### Выводы\n",
    "\n",
    "\n",
    "***Cоотношение видов объектов общественного питания, а также сетевых и несетевых заведений.***\n",
    "\n",
    "1. Кафе - абсолютный лидер по типу объекта общественного питания в Москве.\n",
    "\n",
    "В три раза меньше в городе столовых, ресторанов и предприятий быстрого обслуживания.\n",
    "Совсем мало закусочных и отделов кулинарии в магазинах.\n",
    "\n",
    "\n",
    "2. Несетевых заведений в Москве в 4 раза больше, чем сетевых.\n",
    "\n",
    "\n",
    "3. Сетевое распространение более характерно для кафе, предприятий быстрого обслуживания и ресторанов. В остальных объектах питания сетевых точек гораздо меньше.\n",
    "\n",
    "Но при этом ни один из объектов общественного питания не является преимущественно сетевым. В каждом виде заведений питания количество несетевых объектов гораздо больше.\n",
    "\n",
    "\n",
    "***Распределение посадочных мест***\n",
    "\n",
    "1. Среди сетевых кафе и предприятий быстрого обслуживания много заведений с небольшим числом посадочных мест (до 50).\n",
    "\n",
    "Среди ресторанов же, напротив, более распространены объекты с количеством посадочных мест от 50 до 125.\n",
    "\n",
    "\n",
    "2. В среднем самое большое количество посадочных мест в столовых и ресторанах: 80-100.\n",
    "\n",
    "\n",
    "3. Для насыщенных объектами общественного питания улиц характерно малое количество посадочных мест в заведениях - до 50.\n",
    "\n",
    "В поселении Сосенское абсолютное большинство заведений ограничиваются не более 25 посадочными местами.\n",
    "\n",
    "На Профсоюзной улице, Пресненской набережной и Варшавском шоссе в заведениях принято иметь в среднем не более 50 посадочных мест. Причём половине хватает и 25 мест.\n",
    "\n",
    "На остальных улицах в топ-10, за исключением Зеленограда, половина заведений обзавелась 30-40 посадочными местами, другой половине достаточно в среднем не более 80 мест.\n",
    "\n",
    "В Зеленограде ситуация отличается: здесь 50 мест - как минимум у половины заведений, а верхняя планка в районе 100 посадочных мест.\n",
    "\n",
    "\n",
    "***Распределение заведений общественного питания по улицам и районам Москвы***\n",
    "\n",
    "1. Зеленоградский округ лидирует по общему количеству объектов общественного питания. \n",
    "\n",
    "Если смотреть на территорию внутри МКАДа, то больше всего объектов питания в Юго-Западном, Северном и Центральном округах.\n",
    "Самые насыщенные улицы: проспект Мира, Профсоюзная, Ленинградский проспект, Пресненская набережная и Варшавское шоссе. На них расположено от 150 до 200 объектов общественного питания.\n",
    "\n",
    "Меньше всего улиц из топ-10 с объектами питания в Западном округе.\n",
    "Последними в топ-10 оказались поселение Сосенское, проспект Вернадского и Кутузовский проспект. На них расположилось в среднем от 120 до 140 объектов питания.\n",
    "\n",
    "\n",
    "2. В Москве 543 улицы с одним заведением общественного питания.\n",
    "\n",
    "    - Центральный округ явно переполнен улицами с одним объектом питания. В нём почти 170 заведений.\n",
    "    - В Новомосковском округе всего 1 объект питания.\n",
    "    - В остальных округах в среднем от 30 до 60 улиц с 1 объектом общественного питания."
   ]
  }
 ],
 "metadata": {
  "kernelspec": {
   "display_name": "Python 3",
   "language": "python",
   "name": "python3"
  },
  "language_info": {
   "codemirror_mode": {
    "name": "ipython",
    "version": 3
   },
   "file_extension": ".py",
   "mimetype": "text/x-python",
   "name": "python",
   "nbconvert_exporter": "python",
   "pygments_lexer": "ipython3",
   "version": "3.7.6"
  }
 },
 "nbformat": 4,
 "nbformat_minor": 2
}
